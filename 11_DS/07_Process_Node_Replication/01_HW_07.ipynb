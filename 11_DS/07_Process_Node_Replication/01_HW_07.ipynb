{
 "cells": [
  {
   "cell_type": "markdown",
   "metadata": {},
   "source": [
    "# Distributed Systems (LTAT.06.007)\n",
    "### Seminar 7: Process/Node replication in python\n",
    "\n",
    "**Student :** ChengHan Chung\n",
    "\n",
    "----"
   ]
  },
  {
   "cell_type": "markdown",
   "metadata": {},
   "source": [
    "## Task\n",
    "\n",
    "From previous seminars, we have already implemented some functions with multi-threads by using RPyC ThreadedServer in python. For this task, we will implement the **Passive Replication**:\n",
    "\n",
    "- All the messaging passing is just between the client and the main thread(main replica) in the server.\n",
    "    - Like seminar 6, when the client sends one command/message, the server execute the related function.\n",
    "- Create **N (N>=1)** threads in the server side ($ **program N**).\n",
    "    - These **N** threads are like other **N** replicas which just copy the data of the main replica.\n",
    "    - Suggestion: you can create the thread using class in Python (thread class).\n",
    "- Show the data of all replicas ($ **list**)\n",
    "- update the data of the main replica ($ **update data**)\n",
    "    - The data can be an integer, a string or others.\n",
    "- set the update(cache) time t ($ **cache t**).\n",
    "    - When the main replica update its data, other replicas update its own data after t seconds (e.g., t=20).\n",
    "    - Please note that the update process is always running automatically, this command just changes the update time. If the client does not send this command, the default update time is 10 seconds."
   ]
  },
  {
   "cell_type": "markdown",
   "metadata": {},
   "source": [
    "**(A) :**\n",
    "1. The result of server side:\n",
    "\n",
    "![](imgs/ex1_s.png)"
   ]
  },
  {
   "cell_type": "markdown",
   "metadata": {},
   "source": [
    "2. The result of client side:\n",
    "\n",
    "![](imgs/ex1_c.png)"
   ]
  }
 ],
 "metadata": {
  "kernelspec": {
   "display_name": "Python 3 (ipykernel)",
   "language": "python",
   "name": "python3"
  },
  "language_info": {
   "codemirror_mode": {
    "name": "ipython",
    "version": 3
   },
   "file_extension": ".py",
   "mimetype": "text/x-python",
   "name": "python",
   "nbconvert_exporter": "python",
   "pygments_lexer": "ipython3",
   "version": "3.9.7"
  }
 },
 "nbformat": 4,
 "nbformat_minor": 2
}
