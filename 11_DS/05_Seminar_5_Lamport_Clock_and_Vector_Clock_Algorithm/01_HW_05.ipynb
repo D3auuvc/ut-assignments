{
 "cells": [
  {
   "cell_type": "markdown",
   "metadata": {},
   "source": [
    "# Distributed Systems (LTAT.06.007)\n",
    "### Seminar 5: Lamport Clock Algorithm and Vector Clock Algorithm in python\n",
    "\n",
    "**Student :** ChengHan Chung\n",
    "\n",
    "----"
   ]
  },
  {
   "cell_type": "markdown",
   "metadata": {},
   "source": [
    "## Task-1: Based on \"lamport1.py\" in exercise-1, please change the lamport clock algorithm to **vector clock algorithm**."
   ]
  },
  {
   "cell_type": "markdown",
   "metadata": {},
   "source": [
    "1.1 The modified code In function **calculate_timestamps** shown as following below:"
   ]
  },
  {
   "cell_type": "code",
   "execution_count": null,
   "metadata": {},
   "outputs": [],
   "source": [
    "for event in sorted_events:\n",
    "    event_type, x, process_number = event[0], event[1], event[2]\n",
    "    new_vector = []\n",
    "    if event_type == \"L\":\n",
    "        current_vectors[process_number, process_number] += 1\n",
    "        new_vector = list(current_vectors[process_number])\n",
    "    elif event_type == \"S\":\n",
    "        current_vectors[process_number, process_number] += 1\n",
    "        messages[event[3]] = current_vectors[process_number,process_number]\n",
    "        new_vector = list(current_vectors[process_number])\n",
    "        # Store vectors from sender\n",
    "        send_vector = list(current_vectors[process_number])\n",
    "    else:\n",
    "        current_vectors[process_number, process_number] += 1\n",
    "        receive_vector=list(current_vectors[process_number])\n",
    "        # Update receiver\n",
    "        new_vector = [\n",
    "            max(send_vector[0],receive_vector[0]),\n",
    "            max(send_vector[1],receive_vector[1]),\n",
    "            max(send_vector[2],receive_vector[2])\n",
    "        ]\n",
    "        current_vectors[process_number]=new_vector\n",
    "    timestamps.append((x, process_number, new_vector))"
   ]
  },
  {
   "cell_type": "markdown",
   "metadata": {},
   "source": [
    "1.2 The result shown as following below:\n",
    "\n",
    "![](imgs/ex1_01.png)"
   ]
  },
  {
   "cell_type": "markdown",
   "metadata": {},
   "source": [
    "## Task-2: From previous seminars, we already learn how to implement some functions with multi-threads by using RPyC **ThreadedServer** in python. For this task:\n",
    "\n",
    "- Integrate the function from `lamport2.py` into the `class` module of RPyC **server communication**\n",
    "    - Write codes **similar** to below lines into client side to invoke the method from the remote server, therefore the server can create 3 threads for 3 processes. In this way, the class Process could be nested into server class.\n",
    "        - t1 = Process(\"A\", initially_granted_proc, list(procs - set(\"A\")))\n",
    "        - t2 = Process(\"B\", initially_granted_proc, list(procs - set(\"B\")))\n",
    "        - t3 = Process(\"C\", initially_granted_proc, list(procs - set(\"C\")))\n",
    "- Note that you can make small changes about the source code while you integrate it in the server side. you can also consider exposed implementations.\n",
    "- The result in server should be similar to this (No print statement is required in the client side).\n",
    "\n",
    "![](imgs/ex2_01.png)\n",
    "\n",
    "![](imgs/ex2_02.png)"
   ]
  }
 ],
 "metadata": {
  "kernelspec": {
   "display_name": "Python 3 (ipykernel)",
   "language": "python",
   "name": "python3"
  },
  "language_info": {
   "codemirror_mode": {
    "name": "ipython",
    "version": 3
   },
   "file_extension": ".py",
   "mimetype": "text/x-python",
   "name": "python",
   "nbconvert_exporter": "python",
   "pygments_lexer": "ipython3",
   "version": "3.9.7"
  }
 },
 "nbformat": 4,
 "nbformat_minor": 2
}
