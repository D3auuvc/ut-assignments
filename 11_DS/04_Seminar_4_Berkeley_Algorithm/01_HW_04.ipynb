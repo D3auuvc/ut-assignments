{
 "cells": [
  {
   "cell_type": "markdown",
   "metadata": {},
   "source": [
    "# Distributed Systems (LTAT.06.007)\n",
    "### Seminar 4: Berkeley algorithm in python\n",
    "\n",
    "**Student :** ChengHan Chung\n",
    "\n",
    "----"
   ]
  },
  {
   "cell_type": "markdown",
   "metadata": {},
   "source": [
    "## Task-1: You should implement \"clock-sync.py\" to achieve the Berkeley algorithm."
   ]
  },
  {
   "cell_type": "markdown",
   "metadata": {},
   "source": [
    "1. Still show the list of processes running while also show the process acting as coordinator.\n",
    "\n",
    "![](imgs/ex1_01.png)"
   ]
  },
  {
   "cell_type": "code",
   "execution_count": null,
   "metadata": {},
   "outputs": [],
   "source": [
    "def list(processes):\n",
    "    # utility method to list proceeses\n",
    "    for p in processes:\n",
    "        if p.label == \"C\":\n",
    "            print(\"%d, %s_%d %s\" %\n",
    "                  (p.id, p.name, p.elections, \"(Coordinator)\"), end=\"\\n\")\n",
    "        else:\n",
    "            print(\"%d, %s_%d\" % (p.id, p.name, p.elections), end=\"\\n\")"
   ]
  },
  {
   "cell_type": "markdown",
   "metadata": {},
   "source": [
    "2. Define a clock-update function to show the current clock time of each process. (Clocks are synchronized based on coordinator clock; we won’t take the time average of each process as stated by Berkeley)\n",
    "\n",
    "![](imgs/ex1_02.png)"
   ]
  },
  {
   "cell_type": "code",
   "execution_count": null,
   "metadata": {},
   "outputs": [],
   "source": [
    "def synchronize_time(processes):\n",
    "    cordinator = 0\n",
    "    for p in processes:\n",
    "        if p.label == \"C\":\n",
    "            break\n",
    "        cordinator += 1\n",
    "    for p in processes:\n",
    "        if p.label != \"C\":\n",
    "            p.time = processes[cordinator].time\n",
    "    return processes"
   ]
  },
  {
   "cell_type": "markdown",
   "metadata": {},
   "source": [
    "3. Define a kill function to remove a process except coordinator.\n",
    "\n",
    "![](imgs/ex1_03.png)"
   ]
  },
  {
   "cell_type": "code",
   "execution_count": null,
   "metadata": {},
   "outputs": [],
   "source": [
    "def kill(kill_p, processes):\n",
    "    i = 0\n",
    "    for p in processes:\n",
    "        if int(p.id) == kill_p and p.label != \"C\":\n",
    "            processes.pop(i)\n",
    "            break\n",
    "        i += 1\n",
    "    return processes"
   ]
  },
  {
   "cell_type": "markdown",
   "metadata": {},
   "source": [
    "## Task-2: In Seminar 3, we already learn to implement Exponential back-off function with multi-threads by using RPyC ThreadedServer in python. For this task:\n",
    "\n",
    "1. Integrate the function of Task-1 into RPyC server side.\n",
    "2. Pass arguments (\"input.txt\" and different commands) from client to server."
   ]
  },
  {
   "cell_type": "markdown",
   "metadata": {},
   "source": [
    "**Client Side**\n",
    "\n",
    "![](imgs/ex2_01.png)\n",
    "\n",
    "\n",
    "**Server Side**\n",
    "\n",
    "![](imgs/ex2_02.png)"
   ]
  }
 ],
 "metadata": {
  "kernelspec": {
   "display_name": "Python 3 (ipykernel)",
   "language": "python",
   "name": "python3"
  },
  "language_info": {
   "codemirror_mode": {
    "name": "ipython",
    "version": 3
   },
   "file_extension": ".py",
   "mimetype": "text/x-python",
   "name": "python",
   "nbconvert_exporter": "python",
   "pygments_lexer": "ipython3",
   "version": "3.9.7"
  }
 },
 "nbformat": 4,
 "nbformat_minor": 2
}
