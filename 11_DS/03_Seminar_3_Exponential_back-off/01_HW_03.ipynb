{
 "cells": [
  {
   "cell_type": "markdown",
   "metadata": {},
   "source": [
    "# Distributed Systems (LTAT.06.007)\n",
    "### Seminar 3: Exponential back-off (Client/Server) in python\n",
    "\n",
    "**Student :** ChengHan Chung\n",
    "\n",
    "----"
   ]
  },
  {
   "cell_type": "markdown",
   "metadata": {},
   "source": [
    "## 1. Server works"
   ]
  },
  {
   "cell_type": "markdown",
   "metadata": {},
   "source": [
    "### 1.1 Server works (with reconnection message)\n",
    "\n",
    "**Server side**\n",
    "\n",
    "![](imgs/ex1_01.png)\n",
    "\n",
    "**Client side**\n",
    "\n",
    "![](imgs/ex1_02.png)\n",
    "\n"
   ]
  },
  {
   "cell_type": "markdown",
   "metadata": {},
   "source": [
    "### 1.2 Server works (without reconnection message)\n",
    "\n",
    "**Server side**\n",
    "\n",
    "![](imgs/ex1_03.png)\n",
    "\n",
    "**Client side**\n",
    "\n",
    "![](imgs/ex1_04.png)\n",
    "\n"
   ]
  },
  {
   "cell_type": "markdown",
   "metadata": {},
   "source": [
    "## 2. Server breaks "
   ]
  },
  {
   "cell_type": "markdown",
   "metadata": {},
   "source": [
    "**Server side**\n",
    "\n",
    "![](imgs/ex1_05.png)\n",
    "\n",
    "**Client side**\n",
    "\n",
    "![](imgs/ex1_06.png)\n",
    "\n"
   ]
  },
  {
   "cell_type": "markdown",
   "metadata": {},
   "source": [
    "## Server side code"
   ]
  },
  {
   "cell_type": "code",
   "execution_count": null,
   "metadata": {},
   "outputs": [],
   "source": [
    "import rpyc\n",
    "from rpyc.utils.server import ThreadedServer\n",
    "import datetime\n",
    "import time\n",
    "from functools import wraps\n",
    "import random\n",
    "\n",
    "date_time = datetime.datetime.now()\n",
    "\n",
    "\n",
    "class MonitorService(rpyc.Service):\n",
    "  def retry(ExceptionToCheck, tries=4, delay=3, backoff=2, logger=None):\n",
    "      def deco_retry(f):\n",
    "          @wraps(f)\n",
    "          def f_retry(*args, **kwargs):\n",
    "              mtries, mdelay = tries, delay\n",
    "              while mtries > 1:\n",
    "                  try:\n",
    "                      return f(*args, **kwargs)\n",
    "                  #except ExceptionToCheck, e:\n",
    "                  except ExceptionToCheck as e :\n",
    "                      msg = \"%s, Retrying in %d seconds...\" % (str(e), mdelay)\n",
    "                      if logger:\n",
    "                          logger.warning(msg)\n",
    "                      else:\n",
    "                          print(msg)\n",
    "                      time.sleep(mdelay)\n",
    "                      mtries -= 1\n",
    "                      mdelay *= backoff\n",
    "              return f(*args, **kwargs)\n",
    "\n",
    "          return f_retry  \n",
    "\n",
    "      return deco_retry # true decorator\n",
    "\n",
    "  @retry(Exception, tries=4)\n",
    "  def exposed_test_random(self):\n",
    "      x = random.random()\n",
    "      if x < 0.5:\n",
    "          raise Exception(\"Fail\")\n",
    "      else:\n",
    "          print(\"\\nconnected on {}\".format(date_time))\n",
    "\n",
    "if __name__ == '__main__':\n",
    "\n",
    "  t = ThreadedServer(MonitorService, port=18812)\n",
    "  t.start()"
   ]
  },
  {
   "cell_type": "markdown",
   "metadata": {},
   "source": [
    "## Client side code"
   ]
  },
  {
   "cell_type": "code",
   "execution_count": null,
   "metadata": {},
   "outputs": [],
   "source": [
    "import rpyc\n",
    "import sys\n",
    " \n",
    "if len(sys.argv) < 2:\n",
    "   exit(\"Usage {} SERVER\".format(sys.argv[0]))\n",
    " \n",
    "server = sys.argv[1]\n",
    "\n",
    "try:\n",
    "    conn = rpyc.connect(server,18812)\n",
    "    conn.root.test_random()\n",
    "    print('Success: it works!')\n",
    "except Exception as e:\n",
    "    raise Exception(\"Fail\")"
   ]
  }
 ],
 "metadata": {
  "kernelspec": {
   "display_name": "Python 3 (ipykernel)",
   "language": "python",
   "name": "python3"
  },
  "language_info": {
   "codemirror_mode": {
    "name": "ipython",
    "version": 3
   },
   "file_extension": ".py",
   "mimetype": "text/x-python",
   "name": "python",
   "nbconvert_exporter": "python",
   "pygments_lexer": "ipython3",
   "version": "3.9.7"
  }
 },
 "nbformat": 4,
 "nbformat_minor": 2
}
