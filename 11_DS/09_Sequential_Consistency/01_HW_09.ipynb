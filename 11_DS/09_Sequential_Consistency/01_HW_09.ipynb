{
 "cells": [
  {
   "cell_type": "markdown",
   "metadata": {},
   "source": [
    "# Distributed Systems (LTAT.06.007)\n",
    "### Seminar 8: Sequential Consistency\n",
    "\n",
    "**Student :** ChengHan Chung\n",
    "\n",
    "----"
   ]
  },
  {
   "cell_type": "markdown",
   "metadata": {},
   "source": [
    "## Task\n",
    "\n",
    "Assuming that all variables are initially set to 0, for the below executions:\n",
    "\n",
    "- Please indicate whether they are sequentially consistent.\n",
    "- If an execution is not sequentially consistent, then show the right execution that makes it sequentially consistent (simply explain how you achieved that)"
   ]
  },
  {
   "cell_type": "markdown",
   "metadata": {},
   "source": [
    "4.  **P1**: W(x) 1; R(x) 2 \\\n",
    "    **P2**: R(x) 1; R(x) 2 \\\n",
    "    **P3**: R(x) 1; W(x) 2 \\\n",
    "    **P4**: R(x) 1; R(x) 2 \n",
    "\n",
    "    **Solution :** They are sequentially consistent. They can be executed as follows: \\\n",
    "    **P1**: W(x) 1 -> **P2**: R(x) 1 -> **P3**: R(x) 1 -> **P4**: R(x) 1 -> **P3**: W(x) 2 -> **P1**: R(x) 2 -> **P2**: R(x) 2 -> **P4**: R(x) 2 \\\n",
    "\n",
    "5.  **P1**: W(x) 1 \\\n",
    "    **P2**: W(x) 2 \\\n",
    "    **P3**: R(x) 2; R(x) 1 \\\n",
    "    **P4**: R(x) 1; R(x) 2\n",
    "\n",
    "    **Solution :** Not sequentially consistent, Right consistent as follows:\\\n",
    "    **P1**: W(x) 1 \\\n",
    "    **P2**: W(x) 2 \\\n",
    "    **P3**: R(x) 1; R(x) 2 \\\n",
    "    **P4**: R(x) 1; R(x) 2 \n",
    "\n",
    "    Can be executed as follows: \\\n",
    "    **P1**: W(x) 1 -> **P2**: W(x) 2 -> **P3**: R(x) 1 -> **P4**: R(x) 1 -> **P3**: R(x) 2 -> **P3**: R(x) 2 \\\n",
    "\n",
    "6.  **P1**: W(x) 1; R(x) 1; R(y) 0 \\\n",
    "    **P2**: W(y) 1; R(y) 1; R(x) 1 \\\n",
    "    **P3**: R(x) 1; R(y) 0 \\\n",
    "    **P4**: R(y) 0; R(x) 0\n",
    "\n",
    "    **Solution :** Not sequentially consistent, Right consistent as follows:\\\n",
    "    **P1**: R(y) 0; W(x) 1; R(x) 1 \\\n",
    "    **P2**: W(y) 1; R(y) 1; R(x) 1 \\\n",
    "    **P3**: R(y) 0; R(x) 1 \\\n",
    "    **P4**: R(y) 0; R(x) 0\n",
    "\n",
    "    Can be executed as follows: \\\n",
    "    **P4**: R(y) 3 -> **P4**: R(y) -> 0 **P1**: R(y) -> 0 **P2**: W(y) -> 1 **P4**: R(x) -> 0 **P1**: W(x) -> 1 **P3**: W(x) -> 1 **P2**: R(y) -> 1 **P1**: R(x) -> 1 **P2**: R(x) 1 \\\n",
    "\n",
    "\n",
    "7.  **P1**: W(x) 1; R(x) 1; R(y) 1 \\\n",
    "    **P2**: W(y) 1; R(y) 1; R(x) 1 \\\n",
    "    **P3**: R(x) 0; R(y) 1\n",
    "\n",
    "    **Solution :** They are sequentially consistent. They can be executed as follows: \\\n",
    "    **P3**: R(x) -> 0 **P1**: W(x) -> 1 **P2**: W(y) -> 1 **P3**: R(x) -> 0; R(y) -> 1 **P2**: R(x) -> 0; R(y) -> 1 **P1**: R(x) -> 1 **P2**: R(x) -> 1 **P1**: R(y) 1"
   ]
  }
 ],
 "metadata": {
  "kernelspec": {
   "display_name": "Python 3 (ipykernel)",
   "language": "python",
   "name": "python3"
  },
  "language_info": {
   "codemirror_mode": {
    "name": "ipython",
    "version": 3
   },
   "file_extension": ".py",
   "mimetype": "text/x-python",
   "name": "python",
   "nbconvert_exporter": "python",
   "pygments_lexer": "ipython3",
   "version": "3.8.10"
  }
 },
 "nbformat": 4,
 "nbformat_minor": 2
}
