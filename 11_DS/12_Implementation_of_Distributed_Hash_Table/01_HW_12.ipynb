{
 "cells": [
  {
   "cell_type": "markdown",
   "metadata": {},
   "source": [
    "# Distributed Systems (LTAT.06.007)\n",
    "### Seminar 12: Implementation of Distributed Hash Table (DHT) in python\n",
    "\n",
    "**Student :** ChengHan Chung\n",
    "\n",
    "----"
   ]
  },
  {
   "cell_type": "markdown",
   "metadata": {},
   "source": [
    "## Task\n",
    "\n",
    "Based on the exercise, Please implement the DHT with the following commands:\n",
    "\n",
    "- **Join:** this commands allows a new node to join the ring. Notice that successor and next successor references should be updated.\n",
    "\n",
    "    `$ join 7: its successor 17 and next successor is 22`\n",
    "\n",
    "- **Shortcut:** this command adds a shortcut from one node to another.\n",
    "\n",
    "    `$ shortcut 7:22`"
   ]
  },
  {
   "cell_type": "markdown",
   "metadata": {},
   "source": [
    "**(A) :**\n",
    "\n",
    "![](imgs/ex1_01.png)"
   ]
  }
 ],
 "metadata": {
  "interpreter": {
   "hash": "916dbcbb3f70747c44a77c7bcd40155683ae19c65e1c03b4aa3499c5328201f1"
  },
  "kernelspec": {
   "display_name": "Python 3.8.10 64-bit",
   "language": "python",
   "name": "python3"
  },
  "language_info": {
   "codemirror_mode": {
    "name": "ipython",
    "version": 3
   },
   "file_extension": ".py",
   "mimetype": "text/x-python",
   "name": "python",
   "nbconvert_exporter": "python",
   "pygments_lexer": "ipython3",
   "version": "3.8.10"
  }
 },
 "nbformat": 4,
 "nbformat_minor": 2
}
