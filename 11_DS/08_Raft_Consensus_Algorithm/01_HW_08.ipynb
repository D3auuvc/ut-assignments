{
 "cells": [
  {
   "cell_type": "markdown",
   "metadata": {},
   "source": [
    "# Distributed Systems (LTAT.06.007)\n",
    "### Seminar 8: Raft consensus algorithm in python\n",
    "\n",
    "**Student :** ChengHan Chung\n",
    "\n",
    "----"
   ]
  },
  {
   "cell_type": "markdown",
   "metadata": {},
   "source": [
    "## Task\n",
    "\n",
    "We will get acquainted with the Raft algorithm by using the python library PySyncObj. PySyncObj is a python library for building fault-tolerant distributed systems. It provides the ability to replicate your application data between multiple servers. It provides raft protocol for leader election and log replication.\n",
    "\n",
    "Based on kvstorage.py, please implement the raft algorithm with log index increment when you set new key-value pairs or pop key-value pairs."
   ]
  },
  {
   "cell_type": "markdown",
   "metadata": {},
   "source": [
    "**(A) :**\n",
    "1. The result of server (localhost:4321):\n",
    "\n",
    "![](imgs/ex1_serv1.png)\n",
    "\n",
    "2. The result of server (localhost:4322):\n",
    "\n",
    "![](imgs/ex1_serv2.png)"
   ]
  }
 ],
 "metadata": {
  "kernelspec": {
   "display_name": "Python 3 (ipykernel)",
   "language": "python",
   "name": "python3"
  },
  "language_info": {
   "codemirror_mode": {
    "name": "ipython",
    "version": 3
   },
   "file_extension": ".py",
   "mimetype": "text/x-python",
   "name": "python",
   "nbconvert_exporter": "python",
   "pygments_lexer": "ipython3",
   "version": "3.9.7"
  }
 },
 "nbformat": 4,
 "nbformat_minor": 2
}
