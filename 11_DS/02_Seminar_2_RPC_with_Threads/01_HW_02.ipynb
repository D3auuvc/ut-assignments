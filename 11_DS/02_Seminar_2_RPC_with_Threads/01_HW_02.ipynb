{
 "cells": [
  {
   "cell_type": "markdown",
   "metadata": {},
   "source": [
    "# Distributed Systems (LTAT.06.007)\n",
    "### Seminar 2: Remote Procedure Calls (RPC) with threads in python\n",
    "\n",
    "**Student :** ChengHan Chung\n",
    "\n",
    "----"
   ]
  },
  {
   "attachments": {},
   "cell_type": "markdown",
   "metadata": {},
   "source": [
    "**1. Running a Server**\n",
    "\n",
    "![01](imgs/ex1_01.png)"
   ]
  },
  {
   "cell_type": "markdown",
   "metadata": {},
   "source": [
    "**2. Running a Client**"
   ]
  },
  {
   "cell_type": "markdown",
   "metadata": {},
   "source": [
    "2.1. Pass arguments from client side to server function"
   ]
  },
  {
   "cell_type": "code",
   "execution_count": null,
   "metadata": {},
   "outputs": [],
   "source": [
    "import rpyc\n",
    "import sys\n",
    " \n",
    "if len(sys.argv) < 2:\n",
    "   exit(\"Usage {} SERVER\".format(sys.argv[0]))\n",
    " \n",
    "server = sys.argv[1]\n",
    "\n",
    "conn = rpyc.connect(server,18812)\n",
    "conn.root.bubble_sort('[39,12,18,85,72,10,2]') "
   ]
  },
  {
   "cell_type": "markdown",
   "metadata": {},
   "source": [
    "![02](imgs/ex1_02.png)"
   ]
  },
  {
   "cell_type": "markdown",
   "metadata": {},
   "source": [
    "2.2. Receive arguments from client side and print the result of execution."
   ]
  },
  {
   "cell_type": "code",
   "execution_count": null,
   "metadata": {},
   "outputs": [],
   "source": [
    "def exposed_bubble_sort(self, arr):\n",
    "  import json\n",
    "  try:\n",
    "    print(f'Unsorted Array: {arr}')\n",
    "    elements = json.loads(arr)\n",
    "    # Looping from size of array from last index[-1] to index [0]\n",
    "    for n in range(len(elements)-1, 0, -1):\n",
    "       for i in range(n):\n",
    "          if elements[i] > elements[i + 1]:\n",
    "             # swapping data if the element is less than next element in the array\n",
    "             elements[i], elements[i + 1] = elements[i + 1], elements[i]\n",
    "    print(f'Sorted Array: {elements}')\n",
    "  except Exception as e:\n",
    "    print(f'[Error]: {e} ')"
   ]
  },
  {
   "cell_type": "markdown",
   "metadata": {},
   "source": [
    "![03](imgs/ex1_03.png)"
   ]
  }
 ],
 "metadata": {
  "kernelspec": {
   "display_name": "Python 3 (ipykernel)",
   "language": "python",
   "name": "python3"
  },
  "language_info": {
   "codemirror_mode": {
    "name": "ipython",
    "version": 3
   },
   "file_extension": ".py",
   "mimetype": "text/x-python",
   "name": "python",
   "nbconvert_exporter": "python",
   "pygments_lexer": "ipython3",
   "version": "3.9.7"
  }
 },
 "nbformat": 4,
 "nbformat_minor": 2
}
