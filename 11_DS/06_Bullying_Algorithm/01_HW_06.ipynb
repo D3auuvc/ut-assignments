{
 "cells": [
  {
   "cell_type": "markdown",
   "metadata": {},
   "source": [
    "# Distributed Systems (LTAT.06.007)\n",
    "### Seminar 6: Bullying Algorithm in python\n",
    "\n",
    "**Student :** ChengHan Chung\n",
    "\n",
    "----"
   ]
  },
  {
   "cell_type": "markdown",
   "metadata": {},
   "source": [
    "## 1. Task-1: \n",
    "In **Seminar 4**, we have learnt how to implement Berkeley Algorithm for clock synchronization based on the pre-assigned and fixed coordinator. In this similar, you should achieve the Bully Algorithm based on `clock-sync.py` to select the coordinator dynamically. The code for the above implementation is given here for you."
   ]
  },
  {
   "cell_type": "markdown",
   "metadata": {},
   "source": [
    "1.1 For implementation `Bully Algorithm`, code and result shown as follwing below:"
   ]
  },
  {
   "cell_type": "code",
   "execution_count": null,
   "metadata": {},
   "outputs": [],
   "source": [
    "def coordinator_election(processes):\n",
    "    highest_id = max([p.id for p in processes])\n",
    "    for p in processes:\n",
    "        if p.id == highest_id:\n",
    "            p.label = 'C'\n",
    "        else:\n",
    "            p.label = 'S'"
   ]
  },
  {
   "cell_type": "markdown",
   "metadata": {},
   "source": [
    "![](imgs/ex1_01.png)"
   ]
  },
  {
   "cell_type": "markdown",
   "metadata": {},
   "source": [
    "## 2. Task-2: \n",
    "In **Seminar 4**, we already practice to implement Berkeley algorithm by using RPyC ThreadedServer in python. For this task:\n",
    "\n",
    "1. Integrate the bully function of **Task-1** into RPyC **server communiction**.\n",
    "2. Pass **arguments** one by one (\"bully.txt\" and different commands) from client to server."
   ]
  },
  {
   "cell_type": "markdown",
   "metadata": {},
   "source": [
    "2.1 The result shonw as following below:"
   ]
  },
  {
   "cell_type": "markdown",
   "metadata": {},
   "source": [
    "Client side\n",
    "\n",
    "![](imgs/ex2_01_c.png)"
   ]
  },
  {
   "cell_type": "markdown",
   "metadata": {},
   "source": [
    "Server sdie\n",
    "\n",
    "![](imgs/ex2_02_s.png)"
   ]
  }
 ],
 "metadata": {
  "kernelspec": {
   "display_name": "Python 3 (ipykernel)",
   "language": "python",
   "name": "python3"
  },
  "language_info": {
   "codemirror_mode": {
    "name": "ipython",
    "version": 3
   },
   "file_extension": ".py",
   "mimetype": "text/x-python",
   "name": "python",
   "nbconvert_exporter": "python",
   "pygments_lexer": "ipython3",
   "version": "3.9.7"
  }
 },
 "nbformat": 4,
 "nbformat_minor": 2
}
