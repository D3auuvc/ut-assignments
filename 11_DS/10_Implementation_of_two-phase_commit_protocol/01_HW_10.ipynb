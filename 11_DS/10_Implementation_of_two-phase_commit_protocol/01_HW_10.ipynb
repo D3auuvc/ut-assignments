{
 "cells": [
  {
   "cell_type": "markdown",
   "metadata": {},
   "source": [
    "# Distributed Systems (LTAT.06.007)\n",
    "### Seminar 10: Implementation of two-phase commit protocol in python\n",
    "\n",
    "**Student :** ChengHan Chung\n",
    "\n",
    "----"
   ]
  },
  {
   "cell_type": "markdown",
   "metadata": {},
   "source": [
    "## Task\n",
    "\n",
    "Based on the exercise, Please implement the **Two-phase commit protocol (2PC)** with the following commands:\n",
    "\n",
    "1. Set-value X -- This command sends a new value “X” to the system (to be committed)\n",
    "If X = 20, the state should be [4,5,6,7,8,9,20]\n",
    "2. Rollback N --This command rolls back to previous values based on a number N of positions. For instance, following our previous example, “Rollback 2” should take the system back to value 7. For simplicity, all values after the rolled back value are forgotten by the system. In this example, all values after 7 are loss.\n",
    "If N=2, the state should be [4,5,6,7] or only [7]\n",
    "Handling errors: Notice that errors should be handled by providing a message warning through console. For instance, $ Rollback 25 -> “The system cannot reverse to that long state”\n",
    "3. Time-failure PX time -- It makes a specific process “PX” unavailable in the system for a period of “time” in seconds. This means that the process cannot be reached nor respond to any external request. After the time is over, the process becomes again available and continues its normal operations. For instance, $ Time-failure P2 120"
   ]
  },
  {
   "cell_type": "markdown",
   "metadata": {},
   "source": [
    "**(A) :**\n",
    "1. Set-value X: \n",
    "\n",
    "![](imgs/ex1_set-value.png)\n",
    "\n",
    "2. Rollback N:\n",
    "\n",
    "![](imgs/ex1_rollback.png)\n",
    "\n",
    "3. Time-failure PX time:\n",
    "\n",
    "![](imgs/ex1_time-failure.png)"
   ]
  }
 ],
 "metadata": {
  "kernelspec": {
   "display_name": "Python 3 (ipykernel)",
   "language": "python",
   "name": "python3"
  },
  "language_info": {
   "codemirror_mode": {
    "name": "ipython",
    "version": 3
   },
   "file_extension": ".py",
   "mimetype": "text/x-python",
   "name": "python",
   "nbconvert_exporter": "python",
   "pygments_lexer": "ipython3",
   "version": "3.9.12"
  }
 },
 "nbformat": 4,
 "nbformat_minor": 2
}
