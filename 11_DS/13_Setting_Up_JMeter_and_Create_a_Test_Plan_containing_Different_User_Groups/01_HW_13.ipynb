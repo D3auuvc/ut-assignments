{
 "cells": [
  {
   "cell_type": "markdown",
   "metadata": {},
   "source": [
    "# Distributed Systems (LTAT.06.007)\n",
    "\n",
    "## Seminar 13: Setting Up JMeter and Create a Test Plan containing Different User Groups\n",
    "\n",
    "**Student :** ChengHan Chung\n",
    "\n",
    "----"
   ]
  },
  {
   "cell_type": "markdown",
   "metadata": {},
   "source": [
    "## Task\n",
    "\n",
    "Based on the exercise, download the new(.jmx file) (Code). Open the downloaded .jmx with JMeter (File → Open). Three ThreadGroups have been added to the code and have been named as BubbleSort, InsertionSort and TOH and the JSR223 Sampler has been added to the respective thread groups."
   ]
  },
  {
   "cell_type": "markdown",
   "metadata": {},
   "source": [
    "**(A)**\n",
    "\n",
    "1.1 Run the Test on JMeter Server (remote use)\n",
    "\n",
    "![](imgs/ex1_01.png)\n",
    "\n",
    "1.2 Run the Test on JMeter Server\n",
    "\n",
    "**Server Side**\n",
    "\n",
    "![](imgs/ex1_02.png)\n",
    "\n",
    "**Client Side**\n",
    "\n",
    "![](imgs/ex1_03.png)\n",
    "\n",
    "The .jmx file and result, please check `test.jmx` and `test.csv` in the folder.\n"
   ]
  }
 ],
 "metadata": {
  "kernelspec": {
   "display_name": "Python 3 (ipykernel)",
   "language": "python",
   "name": "python3"
  },
  "language_info": {
   "codemirror_mode": {
    "name": "ipython",
    "version": 3
   },
   "file_extension": ".py",
   "mimetype": "text/x-python",
   "name": "python",
   "nbconvert_exporter": "python",
   "pygments_lexer": "ipython3",
   "version": "3.9.7"
  }
 },
 "nbformat": 4,
 "nbformat_minor": 2
}
