{
 "cells": [
  {
   "cell_type": "markdown",
   "metadata": {
    "id": "q3TTb55jpC6C"
   },
   "source": [
    "## Homework 4\n",
    "### Text Classification with CNN\n",
    "\n",
    "Welcome to Homework 4! \n",
    "\n",
    "The homework contains several tasks. You can find the amount of points that you get for the correct solution in the task header. Maximum amount of points for each homework is _four_.\n",
    "\n",
    "The **grading** for each task is the following:\n",
    "- correct answer - **full points**\n",
    "- insufficient solution or solution resulting in the incorrect output - **half points**\n",
    "- no answer or completely wrong solution - **no points**\n",
    "\n",
    "Even if you don't know how to solve the task, we encourage you to write down your thoughts and progress and try to address the issues that stop you from completing the task.\n",
    "\n",
    "When working on the written tasks, try to make your answers short and accurate. Most of the times, it is possible to answer the question in 1-3 sentences.\n",
    "\n",
    "When writing code, make it readable. Choose appropriate names for your variables (`a = 'cat'` - not good, `word = 'cat'` - good). Avoid constructing lines of code longer than 100 characters (79 characters is ideal). If needed, provide the commentaries for your code, however, a good code should be easily readable without them :)\n",
    "\n",
    "Finally, all your answers should be written only by yourself. If you copy them from other sources it will be considered as an academic fraud. You can discuss the tasks with your classmates but each solution must be individual.\n",
    "\n",
    "<font color='red'>**Important!:**</font> **before sending your solution, do the `Kernel -> Restart & Run All` to ensure that all your code works.**"
   ]
  },
  {
   "cell_type": "code",
   "execution_count": 3,
   "metadata": {
    "colab": {
     "base_uri": "https://localhost:8080/"
    },
    "id": "4zZoefGFMWNO",
    "outputId": "05f34f51-d998-4f63-daaa-5fffa0054e08"
   },
   "outputs": [
    {
     "name": "stdout",
     "output_type": "stream",
     "text": [
      "\u001b[K     |████████████████████████████████| 312 kB 5.1 MB/s \n",
      "\u001b[K     |████████████████████████████████| 397 kB 45.1 MB/s \n",
      "\u001b[K     |████████████████████████████████| 134 kB 36.2 MB/s \n",
      "\u001b[K     |████████████████████████████████| 212 kB 38.2 MB/s \n",
      "\u001b[K     |████████████████████████████████| 67 kB 4.2 MB/s \n",
      "\u001b[K     |████████████████████████████████| 1.1 MB 16.1 MB/s \n",
      "\u001b[K     |████████████████████████████████| 127 kB 40.1 MB/s \n",
      "\u001b[K     |████████████████████████████████| 94 kB 1.8 MB/s \n",
      "\u001b[K     |████████████████████████████████| 271 kB 12.5 MB/s \n",
      "\u001b[K     |████████████████████████████████| 144 kB 39.0 MB/s \n",
      "\u001b[31mERROR: pip's dependency resolver does not currently take into account all the packages that are installed. This behaviour is the source of the following dependency conflicts.\n",
      "datascience 0.10.6 requires folium==0.2.1, but you have folium 0.8.3 which is incompatible.\u001b[0m\n",
      "\u001b[?25h"
     ]
    }
   ],
   "source": [
    "!pip install datasets torchmetrics --quiet"
   ]
  },
  {
   "cell_type": "code",
   "execution_count": 4,
   "metadata": {
    "id": "JZprDQ1WMcrM"
   },
   "outputs": [],
   "source": [
    "import torch\n",
    "import torch.nn as nn\n",
    "from datasets import load_dataset\n",
    "from torch.utils.data import Dataset, DataLoader\n",
    "from torchmetrics.functional import f1_score, accuracy\n",
    "import json\n",
    "from tqdm.notebook import tqdm"
   ]
  },
  {
   "cell_type": "markdown",
   "metadata": {
    "id": "sBwCNa8apKQo"
   },
   "source": [
    "In this homework, you are going to work again with [Stanford Semantic Treebank](https://nlp.stanford.edu/sentiment/index.html).\n",
    "\n",
    "Only this time, we are going to split the labels into five classes, instead of two. This way, we will do a multi-class classification.\n",
    "\n",
    "Run the cell below to load the dataset."
   ]
  },
  {
   "cell_type": "code",
   "execution_count": 5,
   "metadata": {
    "colab": {
     "base_uri": "https://localhost:8080/",
     "height": 232,
     "referenced_widgets": [
      "3128b7b509db4de98b96c7fe3acef71d",
      "2cb5e71861704c2ab52cc8bf73441a1a",
      "91d797697605412a8b5eba283e6b2d2c",
      "5783b18a47b240e0958fd39f0f246557",
      "6ea7aea1622c4dcc828239f6526e337e",
      "f6657dee843d4b90b9c85b61c22295c6",
      "b176743d681843cfb9ad3d6f00097bc6",
      "968a54956e6046089c5ab634fcec78a7",
      "80fa9755fec046c49087572cc813dc8f",
      "263ccbc9abc6493281291ea94e53ade3",
      "d72b7480dfe740629d6ff7dbb6f5dee2",
      "8cc62943e62549588496c8eb4ed3367b",
      "e7e3c967b6d94e29af7454b8493904d4",
      "716e77b28b54485d8259cc3cfd73239c",
      "e61efc6dea574b56b8514deaeee4787d",
      "4d3db7ac7b4f4a778df29aa752ef9b1a",
      "e4a3b93e04df4f3cbb39d4fb12f2face",
      "a6dd54277b29469ebdcff6e4e6125559",
      "3bdfb7ab4024406da4dee1f6b6652d85",
      "52e87d83d1ca4f44a835571f879d1b56",
      "24eb34cc41d0415987c36880902f6a5e",
      "9933c6823608499abe1252451930de9c",
      "d0326d7790de4174b6eb445a5d25df2a",
      "4c4f4062167549468b24d1a85dcc4bac",
      "eddad50a15174153a56dc0a9f36d274d",
      "4fd9d48e464b4db7b53db0fa9ed3a22d",
      "a73176eb879d4c5482ed87cd8dd4cabc",
      "fc60ae7a9176472283fd6ade92652c39",
      "5df16d16d08e49898ef2a3705fc829d2",
      "3d70d6b97c354539ab98453c3473ebfc",
      "d9c28b4fbd6c4bb1acb59297644d3d76",
      "add84bfa089f4154ad307c9eca1615aa",
      "52909b229e00488680a76aa4ae00b7e7",
      "19f9e314b026442fad353e033ca8d713",
      "8ff811a912b74cedb8f293967a1aa100",
      "e48a52d09dc34cacaf440f3b00158c5f",
      "a9364baa83934a66947ba719b740f325",
      "02abd97778bc4aa7963580364dd57448",
      "7699b9a3dfa54faca553a5b4233f159a",
      "f2c9cd975966464492c10120b11a24d4",
      "d785ba9b272c424f939f7d3a2d6d3f12",
      "3db7a3f3d70d4d0a84862f784a6511da",
      "f0d4b4b5382b40e59e9cd396d83b3bfb",
      "4fd3342ab9d34a97b78e9ff525ea92d6",
      "03810d58434d40969bb53446b5c8fedf",
      "2311272514c04aec88f9e1b8072f07e7",
      "54bab38e9ac2425696b1e874f21bd0d9",
      "ba17b9d1e0d048b4b957049fcdb523c1",
      "17238b2d8d714ea2957d35c81684007d",
      "19450c7981cd407caa7d1b7c4f07f139",
      "f65d2670e92c41c0aa65311d1ed3f3d3",
      "1cbcb5327dee4943b8e4fb1564a5c3f1",
      "b20546bae92b47a19319ebbaffd5cd4f",
      "af4df85eec574a8497c88df37f1a88eb",
      "ee57c2fadd414a2c88166358f5d6faf6",
      "64cae74eb0b842c3afcd6c441f908248",
      "aea81aabada94d6bbe94e9b889c4598e",
      "23ff06d17d7b4d7ab6c0a3c2cdcac790",
      "3415f8ae4f1d44dc9d52f5c7fc1b87c5",
      "e8e173d30e18402cb2213b470161619b",
      "5941cf0da1934ea19e029ff1a52714c3",
      "2fd915ed7fa640bfa3b36b5beede4ffa",
      "10397501538244f08f09e68ba6c0ba49",
      "41e912c0d8d84c5584f594abb7917550",
      "b6818317feec4ff8873303568e7998d2",
      "d6f224829f4e41fd8b5d4e5f68128cb6",
      "c348612d71964dc1babfb7cc08f8fca4",
      "382bcbc6b4904de280a6292e6d2b005f",
      "d6283f43969240518b64370909f65a5b",
      "435621bdba88454f93db58647d82a1b2",
      "890e5d9f02e344eeb7392d9fcbcdf4c7",
      "c66dee0fb7ba46ebad8273e6c573e260",
      "9db4de6c16e846758b550851cb833922",
      "e8893e4bdfbc4d1695ea314e67566cfe",
      "e5830105ba1d499390b6f8c9360cc997",
      "6899dabb2ccb4674a79e91252fdf5026",
      "025a9e6b6fac4be9a92b167a3d65d010",
      "4c80b97ee1e54965adea04d4e6d1109e",
      "a59791a4bd4a40b59a2ed5686f859b34",
      "78e07d9315b34eca9f09b9ab9f4d1769",
      "51092e5c57274e4faa9e361c1fcd281c",
      "6079d52e04a14d1a8bd5a3868aa49441",
      "3e956e177a20493cb679a5c47550eee0",
      "feeefa9b7dc5415c82477a4c40cfc264",
      "f9643a7e5df14a51b7859f994ccf0815",
      "73401aad84244df68a56cd65979e6c81",
      "9cf0927d373349d48c5eab450b65f37e",
      "045d1157aee04fa6937d4a2510824dfa"
     ]
    },
    "id": "7n9Llk_sMr6f",
    "outputId": "c4ad39a8-3a8a-4f0b-ed01-ffa663d7c7d1"
   },
   "outputs": [
    {
     "data": {
      "application/vnd.jupyter.widget-view+json": {
       "model_id": "3128b7b509db4de98b96c7fe3acef71d",
       "version_major": 2,
       "version_minor": 0
      },
      "text/plain": [
       "Downloading:   0%|          | 0.00/2.59k [00:00<?, ?B/s]"
      ]
     },
     "metadata": {},
     "output_type": "display_data"
    },
    {
     "data": {
      "application/vnd.jupyter.widget-view+json": {
       "model_id": "8cc62943e62549588496c8eb4ed3367b",
       "version_major": 2,
       "version_minor": 0
      },
      "text/plain": [
       "Downloading:   0%|          | 0.00/1.17k [00:00<?, ?B/s]"
      ]
     },
     "metadata": {},
     "output_type": "display_data"
    },
    {
     "name": "stdout",
     "output_type": "stream",
     "text": [
      "Downloading and preparing dataset sst/default (download: 6.83 MiB, generated: 3.73 MiB, post-processed: Unknown size, total: 10.56 MiB) to /root/.cache/huggingface/datasets/sst/default/1.0.0/b8a7889ef01c5d3ae8c379b84cc4080f8aad3ac2bc538701cbe0ac6416fb76ff...\n"
     ]
    },
    {
     "data": {
      "application/vnd.jupyter.widget-view+json": {
       "model_id": "d0326d7790de4174b6eb445a5d25df2a",
       "version_major": 2,
       "version_minor": 0
      },
      "text/plain": [
       "Downloading:   0%|          | 0.00/6.37M [00:00<?, ?B/s]"
      ]
     },
     "metadata": {},
     "output_type": "display_data"
    },
    {
     "data": {
      "application/vnd.jupyter.widget-view+json": {
       "model_id": "19f9e314b026442fad353e033ca8d713",
       "version_major": 2,
       "version_minor": 0
      },
      "text/plain": [
       "Downloading:   0%|          | 0.00/790k [00:00<?, ?B/s]"
      ]
     },
     "metadata": {},
     "output_type": "display_data"
    },
    {
     "data": {
      "application/vnd.jupyter.widget-view+json": {
       "model_id": "03810d58434d40969bb53446b5c8fedf",
       "version_major": 2,
       "version_minor": 0
      },
      "text/plain": [
       "0 examples [00:00, ? examples/s]"
      ]
     },
     "metadata": {},
     "output_type": "display_data"
    },
    {
     "data": {
      "application/vnd.jupyter.widget-view+json": {
       "model_id": "64cae74eb0b842c3afcd6c441f908248",
       "version_major": 2,
       "version_minor": 0
      },
      "text/plain": [
       "0 examples [00:00, ? examples/s]"
      ]
     },
     "metadata": {},
     "output_type": "display_data"
    },
    {
     "data": {
      "application/vnd.jupyter.widget-view+json": {
       "model_id": "c348612d71964dc1babfb7cc08f8fca4",
       "version_major": 2,
       "version_minor": 0
      },
      "text/plain": [
       "0 examples [00:00, ? examples/s]"
      ]
     },
     "metadata": {},
     "output_type": "display_data"
    },
    {
     "name": "stdout",
     "output_type": "stream",
     "text": [
      "Dataset sst downloaded and prepared to /root/.cache/huggingface/datasets/sst/default/1.0.0/b8a7889ef01c5d3ae8c379b84cc4080f8aad3ac2bc538701cbe0ac6416fb76ff. Subsequent calls will reuse this data.\n"
     ]
    },
    {
     "data": {
      "application/vnd.jupyter.widget-view+json": {
       "model_id": "4c80b97ee1e54965adea04d4e6d1109e",
       "version_major": 2,
       "version_minor": 0
      },
      "text/plain": [
       "  0%|          | 0/3 [00:00<?, ?it/s]"
      ]
     },
     "metadata": {},
     "output_type": "display_data"
    }
   ],
   "source": [
    "sst = load_dataset(\"sst\", \"default\")"
   ]
  },
  {
   "cell_type": "markdown",
   "metadata": {
    "id": "gndqQVT5qlAz"
   },
   "source": [
    "Download the pretrained [GloVe 6B](https://nlp.stanford.edu/projects/glove/) word embeddings. \n",
    "\n",
    "If you are on Windows, just copy the URL into your browser, download the ZIP file and unpack it into the same folder as this notebook."
   ]
  },
  {
   "cell_type": "code",
   "execution_count": 6,
   "metadata": {
    "colab": {
     "base_uri": "https://localhost:8080/"
    },
    "id": "eSlRyxW-Mtzf",
    "outputId": "b9354220-a6a9-4682-b242-cc16b04acf24"
   },
   "outputs": [
    {
     "name": "stdout",
     "output_type": "stream",
     "text": [
      "--2022-03-08 06:02:59--  https://nlp.stanford.edu/data/glove.6B.zip\n",
      "Resolving nlp.stanford.edu (nlp.stanford.edu)... 171.64.67.140\n",
      "Connecting to nlp.stanford.edu (nlp.stanford.edu)|171.64.67.140|:443... connected.\n",
      "HTTP request sent, awaiting response... 301 Moved Permanently\n",
      "Location: http://downloads.cs.stanford.edu/nlp/data/glove.6B.zip [following]\n",
      "--2022-03-08 06:02:59--  http://downloads.cs.stanford.edu/nlp/data/glove.6B.zip\n",
      "Resolving downloads.cs.stanford.edu (downloads.cs.stanford.edu)... 171.64.64.22\n",
      "Connecting to downloads.cs.stanford.edu (downloads.cs.stanford.edu)|171.64.64.22|:80... connected.\n",
      "HTTP request sent, awaiting response... 200 OK\n",
      "Length: 862182613 (822M) [application/zip]\n",
      "Saving to: ‘glove.6B.zip’\n",
      "\n",
      "glove.6B.zip        100%[===================>] 822.24M  5.06MB/s    in 2m 40s  \n",
      "\n",
      "2022-03-08 06:05:39 (5.14 MB/s) - ‘glove.6B.zip’ saved [862182613/862182613]\n",
      "\n",
      "Archive:  glove.6B.zip\n",
      "  inflating: glove.6B.50d.txt        \n",
      "  inflating: glove.6B.100d.txt       \n",
      "  inflating: glove.6B.200d.txt       \n",
      "  inflating: glove.6B.300d.txt       \n"
     ]
    }
   ],
   "source": [
    "!wget https://nlp.stanford.edu/data/glove.6B.zip\n",
    "!unzip glove.6B.zip"
   ]
  },
  {
   "cell_type": "code",
   "execution_count": 7,
   "metadata": {
    "cellView": "code",
    "colab": {
     "base_uri": "https://localhost:8080/",
     "height": 49,
     "referenced_widgets": [
      "4edec285f1c34b569f6234963849c550",
      "8f7d3386a981462f986dc3b924b6d42b",
      "81647e5b9972456cae2d01508aa121e3",
      "e5f2ba89ab9c45ff964ff844dbafc6f7",
      "f63ac4c86db54d83a0bbbb60b7c99284",
      "7c66b437441c4b399cdfd73fe64cc482",
      "5bc2e78aac764219906b93d2880d531c",
      "5e6ee542e32049c8aa82f3bed37cafaf",
      "5aab437c91444ac9a03ebbf9c308ecff",
      "9909ef2087334aa3a373ad0b6d1451c8",
      "65baef21f5744b09a2cf91563a2fcdb4"
     ]
    },
    "id": "0yfaS5qvMygq",
    "outputId": "cb883136-455c-458d-a84b-148ea34b712a"
   },
   "outputs": [
    {
     "data": {
      "application/vnd.jupyter.widget-view+json": {
       "model_id": "4edec285f1c34b569f6234963849c550",
       "version_major": 2,
       "version_minor": 0
      },
      "text/plain": [
       "0it [00:00, ?it/s]"
      ]
     },
     "metadata": {},
     "output_type": "display_data"
    }
   ],
   "source": [
    "# Load the embeddings into the memory\n",
    "glove_path = 'glove.6B.300d.txt'\n",
    "glove_vecs = []\n",
    "idx2token = []\n",
    "with open(glove_path, encoding='utf-8') as f:\n",
    "    for line in tqdm(f):\n",
    "        line = line.strip().split()\n",
    "        word = line[0]\n",
    "        vec = [float(x) for x in line[1:]]\n",
    "        glove_vecs.append(vec)\n",
    "        idx2token.append(word)\n",
    "\n",
    "# Convert to tensor\n",
    "glove_vecs = torch.tensor(glove_vecs)\n",
    "\n",
    "# Put zero vector for padding and mean for unknown\n",
    "glove_vecs = torch.vstack(\n",
    "    [\n",
    "        torch.zeros(1, glove_vecs.size(1)),\n",
    "        torch.mean(glove_vecs, dim=0).unsqueeze(0),\n",
    "        glove_vecs,\n",
    "    ]\n",
    ")\n",
    "\n",
    "# Save the embeddings in Pytorch format\n",
    "torch.save(glove_vecs, 'glove.6B.300d.pt')\n",
    "\n",
    "# Add special pad and unk tokens to the vocab\n",
    "PAD = '<pad>'\n",
    "PAD_ID = 0\n",
    "UNK = '<unk>'\n",
    "UNK_ID = 1\n",
    "\n",
    "idx2token = [PAD, UNK] + idx2token\n",
    "\n",
    "# Save the vocab\n",
    "json.dump(idx2token, open('idx2token.json', 'w', encoding='utf-8'))"
   ]
  },
  {
   "cell_type": "markdown",
   "metadata": {
    "id": "jNQtMdombb3k"
   },
   "source": [
    "Uncomment the cell below if you want to load the saved embeddings and vocabulary"
   ]
  },
  {
   "cell_type": "code",
   "execution_count": 8,
   "metadata": {
    "id": "dIJegSMzbRAA"
   },
   "outputs": [],
   "source": [
    "# PAD = '<pad>'\n",
    "# PAD_ID = 0\n",
    "# UNK = '<unk>'\n",
    "# UNK_ID = 1\n",
    "\n",
    "# glove_vecs = torch.load('glove.6B.300d.pt')\n",
    "# idx2token = json.load(open('idx2token.json', encoding='utf-8'))"
   ]
  },
  {
   "cell_type": "code",
   "execution_count": 9,
   "metadata": {
    "id": "sR36mxtcQGQf"
   },
   "outputs": [],
   "source": [
    "# Create a reverse vocab\n",
    "token2idx = {token: idx for idx, token in enumerate(idx2token)}"
   ]
  },
  {
   "cell_type": "code",
   "execution_count": 10,
   "metadata": {
    "colab": {
     "base_uri": "https://localhost:8080/"
    },
    "id": "l7CmNCfsUM1I",
    "outputId": "689b99e8-9643-4aea-e94d-71a218ccfec0"
   },
   "outputs": [
    {
     "data": {
      "text/plain": [
       "device(type='cuda')"
      ]
     },
     "execution_count": 10,
     "metadata": {},
     "output_type": "execute_result"
    }
   ],
   "source": [
    "# Set the device (GPU or CPU)\n",
    "device = torch.device('cuda') if torch.cuda.is_available() else torch.device('cpu')\n",
    "device"
   ]
  },
  {
   "cell_type": "markdown",
   "metadata": {
    "id": "YUD_yrB_sbNG"
   },
   "source": [
    "### Task 1. Build the dataset (1 point)\n",
    "\n",
    "The SST dataset has a sentiment label for each sentence. This label ranges from 0 to 1, 0 being very negative and 1 being very positive. During the practice session, we split the labels into a binary format, i.e. all the labels lower than 0.5 became 0 and greater than 0.5 became 1.\n",
    "\n",
    "This time, you will need to split them into five categories that have the following ranges: $(0, 0.2]$, $(0.2, 0.4]$, $(0.4, 0.6]$, $(0.6, 0.8]$, $(0.8, 1]$. They should be transformed into the labels $0$, $1$, $2$, $3$, $4$ respectively.\n",
    "\n",
    "In the end, you should have five labels:\n",
    "- 0 (very negative)\n",
    "- 1 (negative)\n",
    "- 2 (neural)\n",
    "- 3 (positive)\n",
    "- 4 (very positive)"
   ]
  },
  {
   "cell_type": "code",
   "execution_count": 11,
   "metadata": {
    "id": "TGUwo620OPKf"
   },
   "outputs": [],
   "source": [
    "class SSTDataset(Dataset):\n",
    "    def __init__(self, data, token2idx, max_seq_len=100, device=torch.device('cpu')):\n",
    "        super().__init__()\n",
    "        self.max_seq_len = max_seq_len\n",
    "        self.device = device\n",
    "\n",
    "        self.texts = []\n",
    "        self.labels = []\n",
    "        for item in data:\n",
    "            label = item['label']\n",
    "            tokens = [token2idx.get(token.lower(), UNK_ID) for token in item['tokens'].split('|')]\n",
    "            tokens = torch.tensor(tokens, dtype=torch.long, device=self.device)\n",
    "            self.texts.append(tokens)\n",
    "\n",
    "            # Transform the continuous label into five classes and add it to the self.labels list\n",
    "            ### YOUR CODE STARTS HERE\n",
    "            breakpoints=[0,0.2,0.4,0.6,0.8]\n",
    "            from bisect import bisect\n",
    "            self.labels.append(bisect(breakpoints,label)-1)\n",
    "            ### YOUR CODE ENDS HERE\n",
    "\n",
    "    def __getitem__(self, idx):\n",
    "        padded_text = torch.zeros(self.max_seq_len, dtype=torch.long, device=self.device)\n",
    "        text = self.texts[idx][:self.max_seq_len]\n",
    "        padded_text[:text.size(0)] = text\n",
    "        return padded_text, self.labels[idx]\n",
    "\n",
    "    def __len__(self):\n",
    "        return len(self.texts)"
   ]
  },
  {
   "cell_type": "markdown",
   "metadata": {
    "id": "bON8-iE8rMif"
   },
   "source": [
    "Load the datasets."
   ]
  },
  {
   "cell_type": "code",
   "execution_count": 12,
   "metadata": {
    "id": "umYjHzMPPshz"
   },
   "outputs": [],
   "source": [
    "train_dataset = SSTDataset(sst['train'], token2idx, max_seq_len=52, device=device)\n",
    "validation_dataset = SSTDataset(sst['validation'], token2idx, max_seq_len=52, device=device)\n",
    "test_dataset = SSTDataset(sst['test'], token2idx, max_seq_len=52, device=device)"
   ]
  },
  {
   "cell_type": "code",
   "execution_count": 13,
   "metadata": {
    "colab": {
     "base_uri": "https://localhost:8080/"
    },
    "id": "DOjQboUkAefw",
    "outputId": "c0a73e4f-378c-428b-e990-7d13e9e796f8"
   },
   "outputs": [
    {
     "data": {
      "text/plain": [
       "(8544, 1101, 2210)"
      ]
     },
     "execution_count": 13,
     "metadata": {},
     "output_type": "execute_result"
    }
   ],
   "source": [
    "len(train_dataset), len(validation_dataset), len(test_dataset)"
   ]
  },
  {
   "cell_type": "code",
   "execution_count": 14,
   "metadata": {
    "id": "UECZCKiRP9j3"
   },
   "outputs": [],
   "source": [
    "train_dataloader = DataLoader(train_dataset, batch_size=50)\n",
    "validation_dataloader = DataLoader(validation_dataset, batch_size=50)\n",
    "test_dataloader = DataLoader(test_dataset, batch_size=50)"
   ]
  },
  {
   "cell_type": "markdown",
   "metadata": {
    "id": "-f9cSt_ftHUV"
   },
   "source": [
    "### Task 2. Modify the Model (1 point)\n",
    "\n",
    "Since now we have five classes instead of two, you need to modify the final layer of the model to have five outputs (ref. [nn.Linear](https://pytorch.org/docs/stable/generated/torch.nn.Linear.html?highlight=linear#torch.nn.Linear)).\n",
    "\n",
    "Also, we are going to finetune the pretrained embeddings this time, so you need to \"unfreeze\" them (ref. [nn.Embedding](https://pytorch.org/docs/stable/generated/torch.nn.Embedding.html?highlight=embedding#torch.nn.Embedding)).\n",
    "\n",
    "This task doesn't have `### YOUR CODE STARTS HERE` field, you have to find the parameters and modify them yourself."
   ]
  },
  {
   "cell_type": "code",
   "execution_count": 15,
   "metadata": {
    "id": "p-HMNr2FTnyC"
   },
   "outputs": [],
   "source": [
    "class SSTClassificationModel(nn.Module):\n",
    "    def __init__(self, pretrained_emb, num_filters, kernel_sizes):\n",
    "        super().__init__()\n",
    "        self.emb = nn.Embedding.from_pretrained(pretrained_emb, padding_idx=PAD_ID, freeze=False)\n",
    "        emb_size = self.emb.weight.size(1)\n",
    "\n",
    "        self.convs = nn.ModuleList(\n",
    "            [\n",
    "                  nn.Conv1d(in_channels=emb_size, out_channels=num_filters, kernel_size=kernel_size)\n",
    "                  for kernel_size in kernel_sizes                  \n",
    "            ]\n",
    "        )\n",
    "        self.linear_out = nn.Linear(in_features=num_filters * len(kernel_sizes), out_features=5)\n",
    "        self.drop = nn.Dropout(0.5)\n",
    "\n",
    "    def forward(self, x):\n",
    "        # x size is [batch x seq_len]\n",
    "        x = self.emb(x) # [batch x seq_len x emb_dim]\n",
    "        x = x.permute(0, 2, 1) # [batch x emb_dim x seq_len]\n",
    "        xs = [torch.relu(conv(x)) for conv in self.convs] # [batch x num_filters x conv_seq_len] x num_kernels\n",
    "        xs = [torch.nn.functional.max_pool1d(x, x.size(2)).squeeze(2) for x in xs] # [batch x num_filters] x num_kernels\n",
    "        x = torch.cat(xs, dim=1) # [batch x num_filters * num_kernels]\n",
    "        x = self.drop(x)\n",
    "        x = self.linear_out(x) # [batch x 2]\n",
    "        return x"
   ]
  },
  {
   "cell_type": "markdown",
   "metadata": {
    "id": "gbCQwNjWsOlj"
   },
   "source": [
    "Model parameters. Feel free to modify them if you'd like to."
   ]
  },
  {
   "cell_type": "code",
   "execution_count": 16,
   "metadata": {
    "id": "VqDeDhWXXT_A"
   },
   "outputs": [],
   "source": [
    "num_filters = 100\n",
    "kernel_sizes = [3, 4, 5]\n",
    "lr = 1e-3\n",
    "\n",
    "num_iters = 100"
   ]
  },
  {
   "cell_type": "markdown",
   "metadata": {
    "id": "VZYrFOeWsW5F"
   },
   "source": [
    "Initalize the model."
   ]
  },
  {
   "cell_type": "code",
   "execution_count": 17,
   "metadata": {
    "id": "dKdE58QXXYqa"
   },
   "outputs": [],
   "source": [
    "model = SSTClassificationModel(glove_vecs, num_filters, kernel_sizes)\n",
    "model = model.to(device)"
   ]
  },
  {
   "cell_type": "code",
   "execution_count": 18,
   "metadata": {
    "colab": {
     "base_uri": "https://localhost:8080/"
    },
    "id": "fERQusefC9_w",
    "outputId": "8f2fe9f1-8f9a-4bc0-cc2d-1e56fee6ca9c"
   },
   "outputs": [
    {
     "name": "stdout",
     "output_type": "stream",
     "text": [
      "SSTClassificationModel(\n",
      "  (emb): Embedding(400002, 300, padding_idx=0)\n",
      "  (convs): ModuleList(\n",
      "    (0): Conv1d(300, 100, kernel_size=(3,), stride=(1,))\n",
      "    (1): Conv1d(300, 100, kernel_size=(4,), stride=(1,))\n",
      "    (2): Conv1d(300, 100, kernel_size=(5,), stride=(1,))\n",
      "  )\n",
      "  (linear_out): Linear(in_features=300, out_features=5, bias=True)\n",
      "  (drop): Dropout(p=0.5, inplace=False)\n",
      ")\n"
     ]
    }
   ],
   "source": [
    "print(model)"
   ]
  },
  {
   "cell_type": "markdown",
   "metadata": {
    "id": "p76KzvOCsb6W"
   },
   "source": [
    "Initialize the loss and optimizer. Feel free to use different optimizer if you'd like to."
   ]
  },
  {
   "cell_type": "code",
   "execution_count": 19,
   "metadata": {
    "id": "D3qMRf6FXwBI"
   },
   "outputs": [],
   "source": [
    "loss_fn = nn.CrossEntropyLoss()\n",
    "optimizer = torch.optim.Adam(model.parameters(), lr=lr)"
   ]
  },
  {
   "cell_type": "markdown",
   "metadata": {
    "id": "rWGxo8kvskn1"
   },
   "source": [
    "Train the model.\n",
    "\n",
    "__This may take around 25-30 minutes!__\n",
    "\n",
    "In the end, you should have around 0.40 accuracy.\n",
    "If the training takes too long or you have time constrains, feel free to reduce the number of epochs."
   ]
  },
  {
   "cell_type": "code",
   "execution_count": 20,
   "metadata": {
    "colab": {
     "base_uri": "https://localhost:8080/"
    },
    "id": "5SQaBbe6YFol",
    "outputId": "4c80d826-2a5b-4e1c-dcd9-a438f5281a89"
   },
   "outputs": [
    {
     "name": "stderr",
     "output_type": "stream",
     "text": [
      "/usr/local/lib/python3.7/dist-packages/ipykernel_launcher.py:8: UserWarning: To copy construct from a tensor, it is recommended to use sourceTensor.clone().detach() or sourceTensor.clone().detach().requires_grad_(True), rather than torch.tensor(sourceTensor).\n",
      "  \n",
      "/usr/local/lib/python3.7/dist-packages/ipykernel_launcher.py:21: UserWarning: To copy construct from a tensor, it is recommended to use sourceTensor.clone().detach() or sourceTensor.clone().detach().requires_grad_(True), rather than torch.tensor(sourceTensor).\n"
     ]
    },
    {
     "name": "stdout",
     "output_type": "stream",
     "text": [
      "Accuracy increased [0.0000 --> 0.2974]. Saving the model...\n",
      "Epoch: 0\tTrain loss: 1.2682\tVal loss: 1.7318\tVal acc: 0.2974\n",
      "Epoch: 1\tTrain loss: 1.2806\tVal loss: 1.7097\tVal acc: 0.2496\n",
      "Epoch: 2\tTrain loss: 1.1406\tVal loss: 1.6654\tVal acc: 0.2687\n",
      "Accuracy increased [0.2974 --> 0.3113]. Saving the model...\n",
      "Epoch: 3\tTrain loss: 0.9019\tVal loss: 1.7026\tVal acc: 0.3113\n",
      "Accuracy increased [0.3113 --> 0.3365]. Saving the model...\n",
      "Epoch: 4\tTrain loss: 0.6330\tVal loss: 1.7822\tVal acc: 0.3365\n",
      "Accuracy increased [0.3365 --> 0.3391]. Saving the model...\n",
      "Epoch: 5\tTrain loss: 0.4080\tVal loss: 2.0280\tVal acc: 0.3391\n",
      "Accuracy increased [0.3391 --> 0.3696]. Saving the model...\n",
      "Epoch: 6\tTrain loss: 0.2690\tVal loss: 2.4153\tVal acc: 0.3696\n",
      "Accuracy increased [0.3696 --> 0.3739]. Saving the model...\n",
      "Epoch: 7\tTrain loss: 0.1948\tVal loss: 2.6628\tVal acc: 0.3739\n",
      "Epoch: 8\tTrain loss: 0.1462\tVal loss: 2.7479\tVal acc: 0.3739\n",
      "Epoch: 9\tTrain loss: 0.1129\tVal loss: 3.0582\tVal acc: 0.3678\n",
      "Epoch: 10\tTrain loss: 0.0886\tVal loss: 3.5034\tVal acc: 0.3591\n",
      "Epoch: 11\tTrain loss: 0.0735\tVal loss: 3.7344\tVal acc: 0.3574\n",
      "Epoch: 12\tTrain loss: 0.0622\tVal loss: 4.0025\tVal acc: 0.3522\n",
      "Epoch: 13\tTrain loss: 0.0517\tVal loss: 4.0735\tVal acc: 0.3635\n",
      "Epoch: 14\tTrain loss: 0.0453\tVal loss: 4.3162\tVal acc: 0.3626\n",
      "Epoch: 15\tTrain loss: 0.0441\tVal loss: 4.4438\tVal acc: 0.3626\n",
      "Epoch: 16\tTrain loss: 0.0376\tVal loss: 4.6097\tVal acc: 0.3722\n",
      "Epoch: 17\tTrain loss: 0.0339\tVal loss: 4.7991\tVal acc: 0.3722\n",
      "Epoch: 18\tTrain loss: 0.0350\tVal loss: 4.8185\tVal acc: 0.3261\n",
      "Epoch: 19\tTrain loss: 0.0310\tVal loss: 5.0603\tVal acc: 0.3617\n",
      "Epoch: 20\tTrain loss: 0.0288\tVal loss: 5.1377\tVal acc: 0.3252\n",
      "Epoch: 21\tTrain loss: 0.0264\tVal loss: 5.3432\tVal acc: 0.3200\n",
      "Epoch: 22\tTrain loss: 0.0299\tVal loss: 5.2117\tVal acc: 0.3287\n",
      "Epoch: 23\tTrain loss: 0.0276\tVal loss: 5.5009\tVal acc: 0.3348\n",
      "Epoch: 24\tTrain loss: 0.0270\tVal loss: 5.8346\tVal acc: 0.3348\n",
      "Epoch: 25\tTrain loss: 0.0244\tVal loss: 5.7714\tVal acc: 0.3304\n",
      "Epoch: 26\tTrain loss: 0.0310\tVal loss: 5.6305\tVal acc: 0.3391\n",
      "Accuracy increased [0.3739 --> 0.3783]. Saving the model...\n",
      "Epoch: 27\tTrain loss: 0.0254\tVal loss: 5.9364\tVal acc: 0.3783\n",
      "Epoch: 28\tTrain loss: 0.0232\tVal loss: 6.1860\tVal acc: 0.3304\n",
      "Epoch: 29\tTrain loss: 0.0208\tVal loss: 6.2371\tVal acc: 0.3322\n",
      "Epoch: 30\tTrain loss: 0.0234\tVal loss: 6.6982\tVal acc: 0.3339\n",
      "Epoch: 31\tTrain loss: 0.0244\tVal loss: 6.8243\tVal acc: 0.3339\n",
      "Epoch: 32\tTrain loss: 0.0218\tVal loss: 6.6238\tVal acc: 0.3435\n",
      "Epoch: 33\tTrain loss: 0.0278\tVal loss: 6.8556\tVal acc: 0.3383\n",
      "Epoch: 34\tTrain loss: 0.0221\tVal loss: 7.0506\tVal acc: 0.3304\n",
      "Epoch: 35\tTrain loss: 0.0211\tVal loss: 7.5199\tVal acc: 0.3322\n",
      "Epoch: 36\tTrain loss: 0.0170\tVal loss: 7.3695\tVal acc: 0.3487\n",
      "Epoch: 37\tTrain loss: 0.0182\tVal loss: 7.5842\tVal acc: 0.3426\n",
      "Epoch: 38\tTrain loss: 0.0147\tVal loss: 7.8464\tVal acc: 0.3374\n",
      "Epoch: 39\tTrain loss: 0.0213\tVal loss: 7.8774\tVal acc: 0.3435\n",
      "Epoch: 40\tTrain loss: 0.0165\tVal loss: 8.1847\tVal acc: 0.3461\n",
      "Epoch: 41\tTrain loss: 0.0150\tVal loss: 8.0018\tVal acc: 0.3461\n",
      "Epoch: 42\tTrain loss: 0.0180\tVal loss: 8.0301\tVal acc: 0.3435\n",
      "Epoch: 43\tTrain loss: 0.0119\tVal loss: 8.0297\tVal acc: 0.3452\n",
      "Epoch: 44\tTrain loss: 0.0112\tVal loss: 8.2545\tVal acc: 0.3530\n",
      "Epoch: 45\tTrain loss: 0.0156\tVal loss: 8.3333\tVal acc: 0.3478\n",
      "Epoch: 46\tTrain loss: 0.0136\tVal loss: 8.4904\tVal acc: 0.3426\n",
      "Accuracy increased [0.3783 --> 0.3835]. Saving the model...\n",
      "Epoch: 47\tTrain loss: 0.0128\tVal loss: 8.9308\tVal acc: 0.3835\n",
      "Epoch: 48\tTrain loss: 0.0135\tVal loss: 8.5183\tVal acc: 0.3357\n",
      "Epoch: 49\tTrain loss: 0.0126\tVal loss: 8.8779\tVal acc: 0.3400\n",
      "Epoch: 50\tTrain loss: 0.0156\tVal loss: 8.9122\tVal acc: 0.3313\n",
      "Epoch: 51\tTrain loss: 0.0142\tVal loss: 9.4477\tVal acc: 0.3339\n",
      "Epoch: 52\tTrain loss: 0.0120\tVal loss: 9.2859\tVal acc: 0.3374\n",
      "Epoch: 53\tTrain loss: 0.0219\tVal loss: 9.0855\tVal acc: 0.3426\n",
      "Epoch: 54\tTrain loss: 0.0122\tVal loss: 9.2997\tVal acc: 0.3426\n",
      "Epoch: 55\tTrain loss: 0.0124\tVal loss: 9.3660\tVal acc: 0.3365\n",
      "Epoch: 56\tTrain loss: 0.0119\tVal loss: 9.1815\tVal acc: 0.3426\n",
      "Epoch: 57\tTrain loss: 0.0119\tVal loss: 9.2447\tVal acc: 0.3400\n",
      "Epoch: 58\tTrain loss: 0.0101\tVal loss: 9.4155\tVal acc: 0.3339\n",
      "Epoch: 59\tTrain loss: 0.0120\tVal loss: 9.4888\tVal acc: 0.3322\n",
      "Epoch: 60\tTrain loss: 0.0113\tVal loss: 10.0384\tVal acc: 0.3391\n",
      "Epoch: 61\tTrain loss: 0.0113\tVal loss: 10.1186\tVal acc: 0.3409\n",
      "Epoch: 62\tTrain loss: 0.0100\tVal loss: 10.0781\tVal acc: 0.3374\n",
      "Epoch: 63\tTrain loss: 0.0089\tVal loss: 10.0744\tVal acc: 0.3435\n",
      "Epoch: 64\tTrain loss: 0.0097\tVal loss: 10.1380\tVal acc: 0.3435\n",
      "Epoch: 65\tTrain loss: 0.0085\tVal loss: 10.0253\tVal acc: 0.3357\n",
      "Epoch: 66\tTrain loss: 0.0092\tVal loss: 10.0662\tVal acc: 0.3383\n",
      "Accuracy increased [0.3835 --> 0.3922]. Saving the model...\n",
      "Epoch: 67\tTrain loss: 0.0104\tVal loss: 10.5337\tVal acc: 0.3922\n",
      "Epoch: 68\tTrain loss: 0.0084\tVal loss: 10.3771\tVal acc: 0.3400\n",
      "Epoch: 69\tTrain loss: 0.0091\tVal loss: 10.6182\tVal acc: 0.3287\n",
      "Epoch: 70\tTrain loss: 0.0082\tVal loss: 10.5207\tVal acc: 0.3339\n",
      "Epoch: 71\tTrain loss: 0.0115\tVal loss: 10.6350\tVal acc: 0.3374\n",
      "Epoch: 72\tTrain loss: 0.0138\tVal loss: 10.9179\tVal acc: 0.3374\n",
      "Epoch: 73\tTrain loss: 0.0091\tVal loss: 10.9023\tVal acc: 0.3357\n",
      "Epoch: 74\tTrain loss: 0.0111\tVal loss: 11.1076\tVal acc: 0.3417\n",
      "Epoch: 75\tTrain loss: 0.0101\tVal loss: 11.0918\tVal acc: 0.3339\n",
      "Epoch: 76\tTrain loss: 0.0086\tVal loss: 10.9928\tVal acc: 0.3426\n",
      "Epoch: 77\tTrain loss: 0.0101\tVal loss: 11.1122\tVal acc: 0.3400\n",
      "Epoch: 78\tTrain loss: 0.0109\tVal loss: 11.2948\tVal acc: 0.3357\n",
      "Epoch: 79\tTrain loss: 0.0105\tVal loss: 11.4610\tVal acc: 0.3409\n",
      "Epoch: 80\tTrain loss: 0.0093\tVal loss: 11.6067\tVal acc: 0.3452\n",
      "Epoch: 81\tTrain loss: 0.0077\tVal loss: 11.6515\tVal acc: 0.3487\n",
      "Epoch: 82\tTrain loss: 0.0084\tVal loss: 11.9468\tVal acc: 0.3400\n",
      "Epoch: 83\tTrain loss: 0.0095\tVal loss: 11.9358\tVal acc: 0.3339\n",
      "Epoch: 84\tTrain loss: 0.0070\tVal loss: 12.1936\tVal acc: 0.3417\n",
      "Epoch: 85\tTrain loss: 0.0068\tVal loss: 12.2693\tVal acc: 0.3426\n",
      "Epoch: 86\tTrain loss: 0.0058\tVal loss: 12.4514\tVal acc: 0.3348\n",
      "Epoch: 87\tTrain loss: 0.0085\tVal loss: 12.7923\tVal acc: 0.3452\n",
      "Epoch: 88\tTrain loss: 0.0076\tVal loss: 12.6882\tVal acc: 0.3296\n",
      "Epoch: 89\tTrain loss: 0.0058\tVal loss: 12.7372\tVal acc: 0.3409\n",
      "Epoch: 90\tTrain loss: 0.0075\tVal loss: 13.0063\tVal acc: 0.3461\n",
      "Epoch: 91\tTrain loss: 0.0110\tVal loss: 13.2705\tVal acc: 0.3478\n",
      "Epoch: 92\tTrain loss: 0.0091\tVal loss: 12.8850\tVal acc: 0.3496\n",
      "Epoch: 93\tTrain loss: 0.0131\tVal loss: 12.8107\tVal acc: 0.3452\n",
      "Epoch: 94\tTrain loss: 0.0092\tVal loss: 13.0835\tVal acc: 0.3504\n",
      "Epoch: 95\tTrain loss: 0.0085\tVal loss: 13.2118\tVal acc: 0.3522\n",
      "Epoch: 96\tTrain loss: 0.0063\tVal loss: 13.1689\tVal acc: 0.3443\n",
      "Epoch: 97\tTrain loss: 0.0074\tVal loss: 13.4532\tVal acc: 0.3504\n",
      "Epoch: 98\tTrain loss: 0.0089\tVal loss: 13.4954\tVal acc: 0.3487\n",
      "Epoch: 99\tTrain loss: 0.0082\tVal loss: 13.9221\tVal acc: 0.3522\n"
     ]
    }
   ],
   "source": [
    "best_accuracy = 0.0\n",
    "for i in range(num_iters):\n",
    "    current_loss = 0\n",
    "    model.train()\n",
    "    for texts, labels in train_dataloader:\n",
    "        model.zero_grad()\n",
    "        preds = model(texts)\n",
    "        labels=torch.tensor(labels).long().to(device)\n",
    "        loss = loss_fn(preds, labels)\n",
    "        current_loss += loss\n",
    "        loss.backward()\n",
    "        optimizer.step()\n",
    "    avg_train_loss = current_loss.item() / len(train_dataloader)\n",
    "\n",
    "    current_loss = 0\n",
    "    current_acc = 0\n",
    "    model.eval()\n",
    "    for texts, labels in validation_dataloader:\n",
    "        with torch.no_grad():\n",
    "            preds = model(texts)\n",
    "            labels=torch.tensor(labels).long().to(device)\n",
    "            loss = loss_fn(preds, labels)\n",
    "            preds = torch.argmax(torch.log_softmax(preds, dim=1), dim=1)\n",
    "            acc = accuracy(preds, labels)\n",
    "            current_loss += loss\n",
    "            current_acc += acc\n",
    "    avg_val_loss = current_loss.item() / len(validation_dataloader)\n",
    "    avg_val_acc = current_acc.item() / len(validation_dataloader)\n",
    "\n",
    "    if avg_val_acc > best_accuracy:\n",
    "        print(f'Accuracy increased [{best_accuracy:.4f} --> {avg_val_acc:.4f}]. Saving the model...')\n",
    "        best_accuracy = avg_val_acc\n",
    "        torch.save(model, 'model_best.pt')\n",
    "\n",
    "    print(f'Epoch: {i}\\tTrain loss: {avg_train_loss:.4f}\\tVal loss: {avg_val_loss:.4f}\\tVal acc: {avg_val_acc:.4f}')"
   ]
  },
  {
   "cell_type": "markdown",
   "metadata": {
    "id": "foysvIb9tC7T"
   },
   "source": [
    "Load the best model."
   ]
  },
  {
   "cell_type": "code",
   "execution_count": 21,
   "metadata": {
    "id": "smJhIRzJY0in"
   },
   "outputs": [],
   "source": [
    "model = torch.load('model_best.pt')"
   ]
  },
  {
   "cell_type": "code",
   "execution_count": 22,
   "metadata": {
    "colab": {
     "base_uri": "https://localhost:8080/"
    },
    "id": "24I6u_37HJz9",
    "outputId": "c205b5af-14ef-4f9c-fc22-5b469a91da17"
   },
   "outputs": [
    {
     "data": {
      "text/plain": [
       "SSTClassificationModel(\n",
       "  (emb): Embedding(400002, 300, padding_idx=0)\n",
       "  (convs): ModuleList(\n",
       "    (0): Conv1d(300, 100, kernel_size=(3,), stride=(1,))\n",
       "    (1): Conv1d(300, 100, kernel_size=(4,), stride=(1,))\n",
       "    (2): Conv1d(300, 100, kernel_size=(5,), stride=(1,))\n",
       "  )\n",
       "  (linear_out): Linear(in_features=300, out_features=5, bias=True)\n",
       "  (drop): Dropout(p=0.5, inplace=False)\n",
       ")"
      ]
     },
     "execution_count": 22,
     "metadata": {},
     "output_type": "execute_result"
    }
   ],
   "source": [
    "model.to(device)"
   ]
  },
  {
   "cell_type": "markdown",
   "metadata": {
    "id": "z88ZGIq2tG0s"
   },
   "source": [
    "Test the model on the test set and save all the labels and predictions."
   ]
  },
  {
   "cell_type": "code",
   "execution_count": 23,
   "metadata": {
    "colab": {
     "base_uri": "https://localhost:8080/"
    },
    "id": "ntBuIZQLGdFs",
    "outputId": "1f8c6bb9-5684-4a8e-f8aa-f166cff804b5"
   },
   "outputs": [
    {
     "name": "stderr",
     "output_type": "stream",
     "text": [
      "/usr/local/lib/python3.7/dist-packages/ipykernel_launcher.py:8: UserWarning: To copy construct from a tensor, it is recommended to use sourceTensor.clone().detach() or sourceTensor.clone().detach().requires_grad_(True), rather than torch.tensor(sourceTensor).\n",
      "  \n"
     ]
    },
    {
     "name": "stdout",
     "output_type": "stream",
     "text": [
      "Test loss: 10.209472\tTest acc: 38.67%\n"
     ]
    }
   ],
   "source": [
    "current_acc = 0\n",
    "current_loss = 0\n",
    "y_true = []\n",
    "y_pred = []\n",
    "model.eval()\n",
    "with torch.no_grad():\n",
    "    for text, label in test_dataloader:\n",
    "        label = torch.tensor(label).long().to(device)\n",
    "        preds = model(text)\n",
    "        loss = loss_fn(preds, label)\n",
    "        preds = torch.argmax(torch.log_softmax(preds, dim=1), dim=1)\n",
    "        acc = accuracy(preds, label)\n",
    "        current_loss += loss\n",
    "        current_acc += acc\n",
    "        y_true.append(label)\n",
    "        y_pred.append(preds)\n",
    "avg_test_loss = current_loss.item() / len(test_dataloader)\n",
    "avg_test_acc = current_acc.item() / len(test_dataloader)\n",
    "\n",
    "print(f'Test loss: {avg_test_loss:.6f}\\tTest acc: {avg_test_acc:.2%}')\n",
    "\n",
    "y_true = torch.hstack(y_true).cpu().numpy()\n",
    "y_pred = torch.hstack(y_pred).cpu().numpy()"
   ]
  },
  {
   "cell_type": "markdown",
   "metadata": {
    "id": "QQ-fdgJvtRLR"
   },
   "source": [
    "### Task 3. Evaluate the model (1 point)\n",
    "\n",
    "One way to better understand a multi-class model is to build a [confusion matrix](https://en.wikipedia.org/wiki/Confusion_matrix#Confusion_matrices_with_more_than_two_categories).\n",
    "\n",
    "Run the cell below and describe what you see. For example, which classes are the most difficult for the model to differentiate? What one are the easiest? Why do you think it happens?"
   ]
  },
  {
   "cell_type": "code",
   "execution_count": 24,
   "metadata": {
    "colab": {
     "base_uri": "https://localhost:8080/",
     "height": 340
    },
    "id": "KBIuhddZjByf",
    "outputId": "4846a629-78e1-4779-8ab3-8c2567171dc8"
   },
   "outputs": [
    {
     "data": {
      "image/png": "[encoded data removed]",
      "text/plain": [
       "<Figure size 432x288 with 2 Axes>"
      ]
     },
     "metadata": {
      "needs_background": "light"
     },
     "output_type": "display_data"
    }
   ],
   "source": [
    "from sklearn.metrics import ConfusionMatrixDisplay\n",
    "\n",
    "class_labels = ['very negative', 'negative', 'neutral', 'positive', 'very positive']\n",
    "ConfusionMatrixDisplay.from_predictions(y_true, y_pred, display_labels=class_labels, xticks_rotation=\"vertical\");"
   ]
  },
  {
   "cell_type": "markdown",
   "metadata": {
    "id": "-iVeKcZzuEtR"
   },
   "source": [
    "__YOUR ANSWER HERE__\n",
    "\n",
    "**(A) :** The easiest class is `negative` label, about 0.6288% accuracy. The most difficult class is `neutral` label, about 0.1388 accuracy.\n",
    "However, Accuracy is not a reliable index for measuring performance of the classifier, because it will give misleading results if the dataset is unbalanced (i.e. the number of negative classes is 633, so the result will observe negative mostly)."
   ]
  },
  {
   "cell_type": "markdown",
   "metadata": {
    "id": "wQefkgYCuHiN"
   },
   "source": [
    "### Task 4. Fine-tuned embeddings (1 point)\n",
    "\n",
    "Since we fine-tuned the pretrained word embeddings, they should now better fit our task, which is sentiment classification.\n",
    "\n",
    "Try different words that have sentimental meaning, e.g. \"bad\", \"good\", \"fantastic\", \"disgusting\", and find similar words to them using both pretrained GloVe and fine-tuned embeddings. \n",
    "\n",
    "Briefly describe which words you tried and which difference you observed. Provide some examples."
   ]
  },
  {
   "cell_type": "code",
   "execution_count": 25,
   "metadata": {
    "id": "Sy2QdRBUjj2y"
   },
   "outputs": [],
   "source": [
    "def get_word_embedding(word, embeddings, vocab):\n",
    "    return embeddings[vocab[word]]\n",
    "\n",
    "def find_most_similar(word, embeddings, token2idx, idx2token, n=5):\n",
    "    word_norm = torch.nn.functional.normalize(get_word_embedding(word, embeddings, token2idx), dim=0)\n",
    "    emb_norm = torch.nn.functional.normalize(embeddings, dim=1)\n",
    "    similarities = torch.matmul(word_norm, emb_norm.T)\n",
    "    top_n = torch.argsort(similarities, descending=True)[1:n+1]\n",
    "    \n",
    "    print(f'Top-{n} most similar to the word \"{word}\":\\n')\n",
    "    for idx in top_n:\n",
    "        print(f'{idx2token[idx]}\\t{similarities[idx]:.4f}')"
   ]
  },
  {
   "cell_type": "code",
   "execution_count": 30,
   "metadata": {
    "colab": {
     "base_uri": "https://localhost:8080/"
    },
    "id": "ihKs24RinhYs",
    "outputId": "41d21716-1934-447b-eed8-60c07069a882"
   },
   "outputs": [
    {
     "name": "stdout",
     "output_type": "stream",
     "text": [
      "Top-5 most similar to the word \"nice\":\n",
      "\n",
      "wonderful\t0.5994\n",
      "pretty\t0.5976\n",
      "guy\t0.5972\n",
      "good\t0.5929\n",
      "lovely\t0.5860\n"
     ]
    }
   ],
   "source": [
    "# Pretrained Glove embeddings\n",
    "find_most_similar('nice', glove_vecs, token2idx, idx2token)"
   ]
  },
  {
   "cell_type": "code",
   "execution_count": 31,
   "metadata": {
    "colab": {
     "base_uri": "https://localhost:8080/"
    },
    "id": "CkkJkHxVnvLl",
    "outputId": "b547cbc2-c7ee-4c49-813c-bf86882508b4"
   },
   "outputs": [
    {
     "name": "stdout",
     "output_type": "stream",
     "text": [
      "Top-5 most similar to the word \"nice\":\n",
      "\n",
      "lovely\t0.5584\n",
      "wonderful\t0.5556\n",
      "pretty\t0.5423\n",
      "fun\t0.5111\n",
      "'ll\t0.5096\n"
     ]
    }
   ],
   "source": [
    "# Fine-tuned embeddings\n",
    "find_most_similar('nice', model.emb.weight, token2idx, idx2token)"
   ]
  },
  {
   "cell_type": "markdown",
   "metadata": {
    "id": "6rlBQN0qu-D3"
   },
   "source": [
    "__YOUR ANSWER HERE__\n",
    "\n",
    "**(A) :** in sentimental meaning term, it can be easliy to replce and correct in grammatical fluency(e.g., `nice`, `better` ). But when I try `unsentimental` term (e.g., `king`, `dog`) both still have nearly same word but different score."
   ]
  }
 ],
 "metadata": {
  "accelerator": "GPU",
  "colab": {
   "collapsed_sections": [],
   "name": "Copy of Homeword4_CNN_Release.ipynb",
   "provenance": []
  },
  "kernelspec": {
   "display_name": "Python 3 (ipykernel)",
   "language": "python",
   "name": "python3"
  },
  "language_info": {
   "codemirror_mode": {
    "name": "ipython",
    "version": 3
   },
   "file_extension": ".py",
   "mimetype": "text/x-python",
   "name": "python",
   "nbconvert_exporter": "python",
   "pygments_lexer": "ipython3",
   "version": "3.8.10"
  },
  "widgets": {
   "application/vnd.jupyter.widget-state+json": {
    "025a9e6b6fac4be9a92b167a3d65d010": {
     "model_module": "@jupyter-widgets/base",
     "model_module_version": "1.2.0",
     "model_name": "LayoutModel",
     "state": {
      "_model_module": "@jupyter-widgets/base",
      "_model_module_version": "1.2.0",
      "_model_name": "LayoutModel",
      "_view_count": null,
      "_view_module": "@jupyter-widgets/base",
      "_view_module_version": "1.2.0",
      "_view_name": "LayoutView",
      "align_content": null,
      "align_items": null,
      "align_self": null,
      "border": null,
      "bottom": null,
      "display": null,
      "flex": null,
      "flex_flow": null,
      "grid_area": null,
      "grid_auto_columns": null,
      "grid_auto_flow": null,
      "grid_auto_rows": null,
      "grid_column": null,
      "grid_gap": null,
      "grid_row": null,
      "grid_template_areas": null,
      "grid_template_columns": null,
      "grid_template_rows": null,
      "height": null,
      "justify_content": null,
      "justify_items": null,
      "left": null,
      "margin": null,
      "max_height": null,
      "max_width": null,
      "min_height": null,
      "min_width": null,
      "object_fit": null,
      "object_position": null,
      "order": null,
      "overflow": null,
      "overflow_x": null,
      "overflow_y": null,
      "padding": null,
      "right": null,
      "top": null,
      "visibility": null,
      "width": null
     }
    },
    "02abd97778bc4aa7963580364dd57448": {
     "model_module": "@jupyter-widgets/controls",
     "model_module_version": "1.5.0",
     "model_name": "HTMLModel",
     "state": {
      "_dom_classes": [],
      "_model_module": "@jupyter-widgets/controls",
      "_model_module_version": "1.5.0",
      "_model_name": "HTMLModel",
      "_view_count": null,
      "_view_module": "@jupyter-widgets/controls",
      "_view_module_version": "1.5.0",
      "_view_name": "HTMLView",
      "description": "",
      "description_tooltip": null,
      "layout": "IPY_MODEL_4fd3342ab9d34a97b78e9ff525ea92d6",
      "placeholder": "​",
      "style": "IPY_MODEL_f0d4b4b5382b40e59e9cd396d83b3bfb",
      "value": " 790k/790k [00:00&lt;00:00, 1.93MB/s]"
     }
    },
    "03810d58434d40969bb53446b5c8fedf": {
     "model_module": "@jupyter-widgets/controls",
     "model_module_version": "1.5.0",
     "model_name": "HBoxModel",
     "state": {
      "_dom_classes": [],
      "_model_module": "@jupyter-widgets/controls",
      "_model_module_version": "1.5.0",
      "_model_name": "HBoxModel",
      "_view_count": null,
      "_view_module": "@jupyter-widgets/controls",
      "_view_module_version": "1.5.0",
      "_view_name": "HBoxView",
      "box_style": "",
      "children": [
       "IPY_MODEL_54bab38e9ac2425696b1e874f21bd0d9",
       "IPY_MODEL_ba17b9d1e0d048b4b957049fcdb523c1",
       "IPY_MODEL_17238b2d8d714ea2957d35c81684007d"
      ],
      "layout": "IPY_MODEL_2311272514c04aec88f9e1b8072f07e7"
     }
    },
    "045d1157aee04fa6937d4a2510824dfa": {
     "model_module": "@jupyter-widgets/base",
     "model_module_version": "1.2.0",
     "model_name": "LayoutModel",
     "state": {
      "_model_module": "@jupyter-widgets/base",
      "_model_module_version": "1.2.0",
      "_model_name": "LayoutModel",
      "_view_count": null,
      "_view_module": "@jupyter-widgets/base",
      "_view_module_version": "1.2.0",
      "_view_name": "LayoutView",
      "align_content": null,
      "align_items": null,
      "align_self": null,
      "border": null,
      "bottom": null,
      "display": null,
      "flex": null,
      "flex_flow": null,
      "grid_area": null,
      "grid_auto_columns": null,
      "grid_auto_flow": null,
      "grid_auto_rows": null,
      "grid_column": null,
      "grid_gap": null,
      "grid_row": null,
      "grid_template_areas": null,
      "grid_template_columns": null,
      "grid_template_rows": null,
      "height": null,
      "justify_content": null,
      "justify_items": null,
      "left": null,
      "margin": null,
      "max_height": null,
      "max_width": null,
      "min_height": null,
      "min_width": null,
      "object_fit": null,
      "object_position": null,
      "order": null,
      "overflow": null,
      "overflow_x": null,
      "overflow_y": null,
      "padding": null,
      "right": null,
      "top": null,
      "visibility": null,
      "width": null
     }
    },
    "10397501538244f08f09e68ba6c0ba49": {
     "model_module": "@jupyter-widgets/controls",
     "model_module_version": "1.5.0",
     "model_name": "ProgressStyleModel",
     "state": {
      "_model_module": "@jupyter-widgets/controls",
      "_model_module_version": "1.5.0",
      "_model_name": "ProgressStyleModel",
      "_view_count": null,
      "_view_module": "@jupyter-widgets/base",
      "_view_module_version": "1.2.0",
      "_view_name": "StyleView",
      "bar_color": null,
      "description_width": ""
     }
    },
    "17238b2d8d714ea2957d35c81684007d": {
     "model_module": "@jupyter-widgets/controls",
     "model_module_version": "1.5.0",
     "model_name": "HTMLModel",
     "state": {
      "_dom_classes": [],
      "_model_module": "@jupyter-widgets/controls",
      "_model_module_version": "1.5.0",
      "_model_name": "HTMLModel",
      "_view_count": null,
      "_view_module": "@jupyter-widgets/controls",
      "_view_module_version": "1.5.0",
      "_view_name": "HTMLView",
      "description": "",
      "description_tooltip": null,
      "layout": "IPY_MODEL_ee57c2fadd414a2c88166358f5d6faf6",
      "placeholder": "​",
      "style": "IPY_MODEL_af4df85eec574a8497c88df37f1a88eb",
      "value": " 8508/0 [00:04&lt;00:00, 4812.34 examples/s]"
     }
    },
    "19450c7981cd407caa7d1b7c4f07f139": {
     "model_module": "@jupyter-widgets/controls",
     "model_module_version": "1.5.0",
     "model_name": "DescriptionStyleModel",
     "state": {
      "_model_module": "@jupyter-widgets/controls",
      "_model_module_version": "1.5.0",
      "_model_name": "DescriptionStyleModel",
      "_view_count": null,
      "_view_module": "@jupyter-widgets/base",
      "_view_module_version": "1.2.0",
      "_view_name": "StyleView",
      "description_width": ""
     }
    },
    "19f9e314b026442fad353e033ca8d713": {
     "model_module": "@jupyter-widgets/controls",
     "model_module_version": "1.5.0",
     "model_name": "HBoxModel",
     "state": {
      "_dom_classes": [],
      "_model_module": "@jupyter-widgets/controls",
      "_model_module_version": "1.5.0",
      "_model_name": "HBoxModel",
      "_view_count": null,
      "_view_module": "@jupyter-widgets/controls",
      "_view_module_version": "1.5.0",
      "_view_name": "HBoxView",
      "box_style": "",
      "children": [
       "IPY_MODEL_e48a52d09dc34cacaf440f3b00158c5f",
       "IPY_MODEL_a9364baa83934a66947ba719b740f325",
       "IPY_MODEL_02abd97778bc4aa7963580364dd57448"
      ],
      "layout": "IPY_MODEL_8ff811a912b74cedb8f293967a1aa100"
     }
    },
    "1cbcb5327dee4943b8e4fb1564a5c3f1": {
     "model_module": "@jupyter-widgets/controls",
     "model_module_version": "1.5.0",
     "model_name": "ProgressStyleModel",
     "state": {
      "_model_module": "@jupyter-widgets/controls",
      "_model_module_version": "1.5.0",
      "_model_name": "ProgressStyleModel",
      "_view_count": null,
      "_view_module": "@jupyter-widgets/base",
      "_view_module_version": "1.2.0",
      "_view_name": "StyleView",
      "bar_color": null,
      "description_width": ""
     }
    },
    "2311272514c04aec88f9e1b8072f07e7": {
     "model_module": "@jupyter-widgets/base",
     "model_module_version": "1.2.0",
     "model_name": "LayoutModel",
     "state": {
      "_model_module": "@jupyter-widgets/base",
      "_model_module_version": "1.2.0",
      "_model_name": "LayoutModel",
      "_view_count": null,
      "_view_module": "@jupyter-widgets/base",
      "_view_module_version": "1.2.0",
      "_view_name": "LayoutView",
      "align_content": null,
      "align_items": null,
      "align_self": null,
      "border": null,
      "bottom": null,
      "display": null,
      "flex": null,
      "flex_flow": null,
      "grid_area": null,
      "grid_auto_columns": null,
      "grid_auto_flow": null,
      "grid_auto_rows": null,
      "grid_column": null,
      "grid_gap": null,
      "grid_row": null,
      "grid_template_areas": null,
      "grid_template_columns": null,
      "grid_template_rows": null,
      "height": null,
      "justify_content": null,
      "justify_items": null,
      "left": null,
      "margin": null,
      "max_height": null,
      "max_width": null,
      "min_height": null,
      "min_width": null,
      "object_fit": null,
      "object_position": null,
      "order": null,
      "overflow": null,
      "overflow_x": null,
      "overflow_y": null,
      "padding": null,
      "right": null,
      "top": null,
      "visibility": null,
      "width": null
     }
    },
    "23ff06d17d7b4d7ab6c0a3c2cdcac790": {
     "model_module": "@jupyter-widgets/controls",
     "model_module_version": "1.5.0",
     "model_name": "HTMLModel",
     "state": {
      "_dom_classes": [],
      "_model_module": "@jupyter-widgets/controls",
      "_model_module_version": "1.5.0",
      "_model_name": "HTMLModel",
      "_view_count": null,
      "_view_module": "@jupyter-widgets/controls",
      "_view_module_version": "1.5.0",
      "_view_name": "HTMLView",
      "description": "",
      "description_tooltip": null,
      "layout": "IPY_MODEL_2fd915ed7fa640bfa3b36b5beede4ffa",
      "placeholder": "​",
      "style": "IPY_MODEL_5941cf0da1934ea19e029ff1a52714c3",
      "value": ""
     }
    },
    "24eb34cc41d0415987c36880902f6a5e": {
     "model_module": "@jupyter-widgets/controls",
     "model_module_version": "1.5.0",
     "model_name": "DescriptionStyleModel",
     "state": {
      "_model_module": "@jupyter-widgets/controls",
      "_model_module_version": "1.5.0",
      "_model_name": "DescriptionStyleModel",
      "_view_count": null,
      "_view_module": "@jupyter-widgets/base",
      "_view_module_version": "1.2.0",
      "_view_name": "StyleView",
      "description_width": ""
     }
    },
    "263ccbc9abc6493281291ea94e53ade3": {
     "model_module": "@jupyter-widgets/controls",
     "model_module_version": "1.5.0",
     "model_name": "DescriptionStyleModel",
     "state": {
      "_model_module": "@jupyter-widgets/controls",
      "_model_module_version": "1.5.0",
      "_model_name": "DescriptionStyleModel",
      "_view_count": null,
      "_view_module": "@jupyter-widgets/base",
      "_view_module_version": "1.2.0",
      "_view_name": "StyleView",
      "description_width": ""
     }
    },
    "2cb5e71861704c2ab52cc8bf73441a1a": {
     "model_module": "@jupyter-widgets/base",
     "model_module_version": "1.2.0",
     "model_name": "LayoutModel",
     "state": {
      "_model_module": "@jupyter-widgets/base",
      "_model_module_version": "1.2.0",
      "_model_name": "LayoutModel",
      "_view_count": null,
      "_view_module": "@jupyter-widgets/base",
      "_view_module_version": "1.2.0",
      "_view_name": "LayoutView",
      "align_content": null,
      "align_items": null,
      "align_self": null,
      "border": null,
      "bottom": null,
      "display": null,
      "flex": null,
      "flex_flow": null,
      "grid_area": null,
      "grid_auto_columns": null,
      "grid_auto_flow": null,
      "grid_auto_rows": null,
      "grid_column": null,
      "grid_gap": null,
      "grid_row": null,
      "grid_template_areas": null,
      "grid_template_columns": null,
      "grid_template_rows": null,
      "height": null,
      "justify_content": null,
      "justify_items": null,
      "left": null,
      "margin": null,
      "max_height": null,
      "max_width": null,
      "min_height": null,
      "min_width": null,
      "object_fit": null,
      "object_position": null,
      "order": null,
      "overflow": null,
      "overflow_x": null,
      "overflow_y": null,
      "padding": null,
      "right": null,
      "top": null,
      "visibility": null,
      "width": null
     }
    },
    "2fd915ed7fa640bfa3b36b5beede4ffa": {
     "model_module": "@jupyter-widgets/base",
     "model_module_version": "1.2.0",
     "model_name": "LayoutModel",
     "state": {
      "_model_module": "@jupyter-widgets/base",
      "_model_module_version": "1.2.0",
      "_model_name": "LayoutModel",
      "_view_count": null,
      "_view_module": "@jupyter-widgets/base",
      "_view_module_version": "1.2.0",
      "_view_name": "LayoutView",
      "align_content": null,
      "align_items": null,
      "align_self": null,
      "border": null,
      "bottom": null,
      "display": null,
      "flex": null,
      "flex_flow": null,
      "grid_area": null,
      "grid_auto_columns": null,
      "grid_auto_flow": null,
      "grid_auto_rows": null,
      "grid_column": null,
      "grid_gap": null,
      "grid_row": null,
      "grid_template_areas": null,
      "grid_template_columns": null,
      "grid_template_rows": null,
      "height": null,
      "justify_content": null,
      "justify_items": null,
      "left": null,
      "margin": null,
      "max_height": null,
      "max_width": null,
      "min_height": null,
      "min_width": null,
      "object_fit": null,
      "object_position": null,
      "order": null,
      "overflow": null,
      "overflow_x": null,
      "overflow_y": null,
      "padding": null,
      "right": null,
      "top": null,
      "visibility": null,
      "width": null
     }
    },
    "3128b7b509db4de98b96c7fe3acef71d": {
     "model_module": "@jupyter-widgets/controls",
     "model_module_version": "1.5.0",
     "model_name": "HBoxModel",
     "state": {
      "_dom_classes": [],
      "_model_module": "@jupyter-widgets/controls",
      "_model_module_version": "1.5.0",
      "_model_name": "HBoxModel",
      "_view_count": null,
      "_view_module": "@jupyter-widgets/controls",
      "_view_module_version": "1.5.0",
      "_view_name": "HBoxView",
      "box_style": "",
      "children": [
       "IPY_MODEL_91d797697605412a8b5eba283e6b2d2c",
       "IPY_MODEL_5783b18a47b240e0958fd39f0f246557",
       "IPY_MODEL_6ea7aea1622c4dcc828239f6526e337e"
      ],
      "layout": "IPY_MODEL_2cb5e71861704c2ab52cc8bf73441a1a"
     }
    },
    "3415f8ae4f1d44dc9d52f5c7fc1b87c5": {
     "model_module": "@jupyter-widgets/controls",
     "model_module_version": "1.5.0",
     "model_name": "FloatProgressModel",
     "state": {
      "_dom_classes": [],
      "_model_module": "@jupyter-widgets/controls",
      "_model_module_version": "1.5.0",
      "_model_name": "FloatProgressModel",
      "_view_count": null,
      "_view_module": "@jupyter-widgets/controls",
      "_view_module_version": "1.5.0",
      "_view_name": "ProgressView",
      "bar_style": "info",
      "description": "",
      "description_tooltip": null,
      "layout": "IPY_MODEL_41e912c0d8d84c5584f594abb7917550",
      "max": 1,
      "min": 0,
      "orientation": "horizontal",
      "style": "IPY_MODEL_10397501538244f08f09e68ba6c0ba49",
      "value": 1
     }
    },
    "382bcbc6b4904de280a6292e6d2b005f": {
     "model_module": "@jupyter-widgets/base",
     "model_module_version": "1.2.0",
     "model_name": "LayoutModel",
     "state": {
      "_model_module": "@jupyter-widgets/base",
      "_model_module_version": "1.2.0",
      "_model_name": "LayoutModel",
      "_view_count": null,
      "_view_module": "@jupyter-widgets/base",
      "_view_module_version": "1.2.0",
      "_view_name": "LayoutView",
      "align_content": null,
      "align_items": null,
      "align_self": null,
      "border": null,
      "bottom": null,
      "display": null,
      "flex": null,
      "flex_flow": null,
      "grid_area": null,
      "grid_auto_columns": null,
      "grid_auto_flow": null,
      "grid_auto_rows": null,
      "grid_column": null,
      "grid_gap": null,
      "grid_row": null,
      "grid_template_areas": null,
      "grid_template_columns": null,
      "grid_template_rows": null,
      "height": null,
      "justify_content": null,
      "justify_items": null,
      "left": null,
      "margin": null,
      "max_height": null,
      "max_width": null,
      "min_height": null,
      "min_width": null,
      "object_fit": null,
      "object_position": null,
      "order": null,
      "overflow": null,
      "overflow_x": null,
      "overflow_y": null,
      "padding": null,
      "right": null,
      "top": null,
      "visibility": null,
      "width": null
     }
    },
    "3bdfb7ab4024406da4dee1f6b6652d85": {
     "model_module": "@jupyter-widgets/controls",
     "model_module_version": "1.5.0",
     "model_name": "ProgressStyleModel",
     "state": {
      "_model_module": "@jupyter-widgets/controls",
      "_model_module_version": "1.5.0",
      "_model_name": "ProgressStyleModel",
      "_view_count": null,
      "_view_module": "@jupyter-widgets/base",
      "_view_module_version": "1.2.0",
      "_view_name": "StyleView",
      "bar_color": null,
      "description_width": ""
     }
    },
    "3d70d6b97c354539ab98453c3473ebfc": {
     "model_module": "@jupyter-widgets/controls",
     "model_module_version": "1.5.0",
     "model_name": "ProgressStyleModel",
     "state": {
      "_model_module": "@jupyter-widgets/controls",
      "_model_module_version": "1.5.0",
      "_model_name": "ProgressStyleModel",
      "_view_count": null,
      "_view_module": "@jupyter-widgets/base",
      "_view_module_version": "1.2.0",
      "_view_name": "StyleView",
      "bar_color": null,
      "description_width": ""
     }
    },
    "3db7a3f3d70d4d0a84862f784a6511da": {
     "model_module": "@jupyter-widgets/base",
     "model_module_version": "1.2.0",
     "model_name": "LayoutModel",
     "state": {
      "_model_module": "@jupyter-widgets/base",
      "_model_module_version": "1.2.0",
      "_model_name": "LayoutModel",
      "_view_count": null,
      "_view_module": "@jupyter-widgets/base",
      "_view_module_version": "1.2.0",
      "_view_name": "LayoutView",
      "align_content": null,
      "align_items": null,
      "align_self": null,
      "border": null,
      "bottom": null,
      "display": null,
      "flex": null,
      "flex_flow": null,
      "grid_area": null,
      "grid_auto_columns": null,
      "grid_auto_flow": null,
      "grid_auto_rows": null,
      "grid_column": null,
      "grid_gap": null,
      "grid_row": null,
      "grid_template_areas": null,
      "grid_template_columns": null,
      "grid_template_rows": null,
      "height": null,
      "justify_content": null,
      "justify_items": null,
      "left": null,
      "margin": null,
      "max_height": null,
      "max_width": null,
      "min_height": null,
      "min_width": null,
      "object_fit": null,
      "object_position": null,
      "order": null,
      "overflow": null,
      "overflow_x": null,
      "overflow_y": null,
      "padding": null,
      "right": null,
      "top": null,
      "visibility": null,
      "width": null
     }
    },
    "3e956e177a20493cb679a5c47550eee0": {
     "model_module": "@jupyter-widgets/controls",
     "model_module_version": "1.5.0",
     "model_name": "DescriptionStyleModel",
     "state": {
      "_model_module": "@jupyter-widgets/controls",
      "_model_module_version": "1.5.0",
      "_model_name": "DescriptionStyleModel",
      "_view_count": null,
      "_view_module": "@jupyter-widgets/base",
      "_view_module_version": "1.2.0",
      "_view_name": "StyleView",
      "description_width": ""
     }
    },
    "41e912c0d8d84c5584f594abb7917550": {
     "model_module": "@jupyter-widgets/base",
     "model_module_version": "1.2.0",
     "model_name": "LayoutModel",
     "state": {
      "_model_module": "@jupyter-widgets/base",
      "_model_module_version": "1.2.0",
      "_model_name": "LayoutModel",
      "_view_count": null,
      "_view_module": "@jupyter-widgets/base",
      "_view_module_version": "1.2.0",
      "_view_name": "LayoutView",
      "align_content": null,
      "align_items": null,
      "align_self": null,
      "border": null,
      "bottom": null,
      "display": null,
      "flex": null,
      "flex_flow": null,
      "grid_area": null,
      "grid_auto_columns": null,
      "grid_auto_flow": null,
      "grid_auto_rows": null,
      "grid_column": null,
      "grid_gap": null,
      "grid_row": null,
      "grid_template_areas": null,
      "grid_template_columns": null,
      "grid_template_rows": null,
      "height": null,
      "justify_content": null,
      "justify_items": null,
      "left": null,
      "margin": null,
      "max_height": null,
      "max_width": null,
      "min_height": null,
      "min_width": null,
      "object_fit": null,
      "object_position": null,
      "order": null,
      "overflow": null,
      "overflow_x": null,
      "overflow_y": null,
      "padding": null,
      "right": null,
      "top": null,
      "visibility": null,
      "width": "20px"
     }
    },
    "435621bdba88454f93db58647d82a1b2": {
     "model_module": "@jupyter-widgets/controls",
     "model_module_version": "1.5.0",
     "model_name": "FloatProgressModel",
     "state": {
      "_dom_classes": [],
      "_model_module": "@jupyter-widgets/controls",
      "_model_module_version": "1.5.0",
      "_model_name": "FloatProgressModel",
      "_view_count": null,
      "_view_module": "@jupyter-widgets/controls",
      "_view_module_version": "1.5.0",
      "_view_name": "ProgressView",
      "bar_style": "info",
      "description": "",
      "description_tooltip": null,
      "layout": "IPY_MODEL_e5830105ba1d499390b6f8c9360cc997",
      "max": 1,
      "min": 0,
      "orientation": "horizontal",
      "style": "IPY_MODEL_e8893e4bdfbc4d1695ea314e67566cfe",
      "value": 1
     }
    },
    "4c4f4062167549468b24d1a85dcc4bac": {
     "model_module": "@jupyter-widgets/base",
     "model_module_version": "1.2.0",
     "model_name": "LayoutModel",
     "state": {
      "_model_module": "@jupyter-widgets/base",
      "_model_module_version": "1.2.0",
      "_model_name": "LayoutModel",
      "_view_count": null,
      "_view_module": "@jupyter-widgets/base",
      "_view_module_version": "1.2.0",
      "_view_name": "LayoutView",
      "align_content": null,
      "align_items": null,
      "align_self": null,
      "border": null,
      "bottom": null,
      "display": null,
      "flex": null,
      "flex_flow": null,
      "grid_area": null,
      "grid_auto_columns": null,
      "grid_auto_flow": null,
      "grid_auto_rows": null,
      "grid_column": null,
      "grid_gap": null,
      "grid_row": null,
      "grid_template_areas": null,
      "grid_template_columns": null,
      "grid_template_rows": null,
      "height": null,
      "justify_content": null,
      "justify_items": null,
      "left": null,
      "margin": null,
      "max_height": null,
      "max_width": null,
      "min_height": null,
      "min_width": null,
      "object_fit": null,
      "object_position": null,
      "order": null,
      "overflow": null,
      "overflow_x": null,
      "overflow_y": null,
      "padding": null,
      "right": null,
      "top": null,
      "visibility": null,
      "width": null
     }
    },
    "4c80b97ee1e54965adea04d4e6d1109e": {
     "model_module": "@jupyter-widgets/controls",
     "model_module_version": "1.5.0",
     "model_name": "HBoxModel",
     "state": {
      "_dom_classes": [],
      "_model_module": "@jupyter-widgets/controls",
      "_model_module_version": "1.5.0",
      "_model_name": "HBoxModel",
      "_view_count": null,
      "_view_module": "@jupyter-widgets/controls",
      "_view_module_version": "1.5.0",
      "_view_name": "HBoxView",
      "box_style": "",
      "children": [
       "IPY_MODEL_78e07d9315b34eca9f09b9ab9f4d1769",
       "IPY_MODEL_51092e5c57274e4faa9e361c1fcd281c",
       "IPY_MODEL_6079d52e04a14d1a8bd5a3868aa49441"
      ],
      "layout": "IPY_MODEL_a59791a4bd4a40b59a2ed5686f859b34"
     }
    },
    "4d3db7ac7b4f4a778df29aa752ef9b1a": {
     "model_module": "@jupyter-widgets/controls",
     "model_module_version": "1.5.0",
     "model_name": "HTMLModel",
     "state": {
      "_dom_classes": [],
      "_model_module": "@jupyter-widgets/controls",
      "_model_module_version": "1.5.0",
      "_model_name": "HTMLModel",
      "_view_count": null,
      "_view_module": "@jupyter-widgets/controls",
      "_view_module_version": "1.5.0",
      "_view_name": "HTMLView",
      "description": "",
      "description_tooltip": null,
      "layout": "IPY_MODEL_9933c6823608499abe1252451930de9c",
      "placeholder": "​",
      "style": "IPY_MODEL_24eb34cc41d0415987c36880902f6a5e",
      "value": " 5.99k/? [00:00&lt;00:00, 85.4kB/s]"
     }
    },
    "4edec285f1c34b569f6234963849c550": {
     "model_module": "@jupyter-widgets/controls",
     "model_module_version": "1.5.0",
     "model_name": "HBoxModel",
     "state": {
      "_dom_classes": [],
      "_model_module": "@jupyter-widgets/controls",
      "_model_module_version": "1.5.0",
      "_model_name": "HBoxModel",
      "_view_count": null,
      "_view_module": "@jupyter-widgets/controls",
      "_view_module_version": "1.5.0",
      "_view_name": "HBoxView",
      "box_style": "",
      "children": [
       "IPY_MODEL_81647e5b9972456cae2d01508aa121e3",
       "IPY_MODEL_e5f2ba89ab9c45ff964ff844dbafc6f7",
       "IPY_MODEL_f63ac4c86db54d83a0bbbb60b7c99284"
      ],
      "layout": "IPY_MODEL_8f7d3386a981462f986dc3b924b6d42b"
     }
    },
    "4fd3342ab9d34a97b78e9ff525ea92d6": {
     "model_module": "@jupyter-widgets/base",
     "model_module_version": "1.2.0",
     "model_name": "LayoutModel",
     "state": {
      "_model_module": "@jupyter-widgets/base",
      "_model_module_version": "1.2.0",
      "_model_name": "LayoutModel",
      "_view_count": null,
      "_view_module": "@jupyter-widgets/base",
      "_view_module_version": "1.2.0",
      "_view_name": "LayoutView",
      "align_content": null,
      "align_items": null,
      "align_self": null,
      "border": null,
      "bottom": null,
      "display": null,
      "flex": null,
      "flex_flow": null,
      "grid_area": null,
      "grid_auto_columns": null,
      "grid_auto_flow": null,
      "grid_auto_rows": null,
      "grid_column": null,
      "grid_gap": null,
      "grid_row": null,
      "grid_template_areas": null,
      "grid_template_columns": null,
      "grid_template_rows": null,
      "height": null,
      "justify_content": null,
      "justify_items": null,
      "left": null,
      "margin": null,
      "max_height": null,
      "max_width": null,
      "min_height": null,
      "min_width": null,
      "object_fit": null,
      "object_position": null,
      "order": null,
      "overflow": null,
      "overflow_x": null,
      "overflow_y": null,
      "padding": null,
      "right": null,
      "top": null,
      "visibility": null,
      "width": null
     }
    },
    "4fd9d48e464b4db7b53db0fa9ed3a22d": {
     "model_module": "@jupyter-widgets/controls",
     "model_module_version": "1.5.0",
     "model_name": "FloatProgressModel",
     "state": {
      "_dom_classes": [],
      "_model_module": "@jupyter-widgets/controls",
      "_model_module_version": "1.5.0",
      "_model_name": "FloatProgressModel",
      "_view_count": null,
      "_view_module": "@jupyter-widgets/controls",
      "_view_module_version": "1.5.0",
      "_view_name": "ProgressView",
      "bar_style": "success",
      "description": "",
      "description_tooltip": null,
      "layout": "IPY_MODEL_d9c28b4fbd6c4bb1acb59297644d3d76",
      "max": 6372817,
      "min": 0,
      "orientation": "horizontal",
      "style": "IPY_MODEL_3d70d6b97c354539ab98453c3473ebfc",
      "value": 6372817
     }
    },
    "51092e5c57274e4faa9e361c1fcd281c": {
     "model_module": "@jupyter-widgets/controls",
     "model_module_version": "1.5.0",
     "model_name": "FloatProgressModel",
     "state": {
      "_dom_classes": [],
      "_model_module": "@jupyter-widgets/controls",
      "_model_module_version": "1.5.0",
      "_model_name": "FloatProgressModel",
      "_view_count": null,
      "_view_module": "@jupyter-widgets/controls",
      "_view_module_version": "1.5.0",
      "_view_name": "ProgressView",
      "bar_style": "success",
      "description": "",
      "description_tooltip": null,
      "layout": "IPY_MODEL_73401aad84244df68a56cd65979e6c81",
      "max": 3,
      "min": 0,
      "orientation": "horizontal",
      "style": "IPY_MODEL_f9643a7e5df14a51b7859f994ccf0815",
      "value": 3
     }
    },
    "52909b229e00488680a76aa4ae00b7e7": {
     "model_module": "@jupyter-widgets/base",
     "model_module_version": "1.2.0",
     "model_name": "LayoutModel",
     "state": {
      "_model_module": "@jupyter-widgets/base",
      "_model_module_version": "1.2.0",
      "_model_name": "LayoutModel",
      "_view_count": null,
      "_view_module": "@jupyter-widgets/base",
      "_view_module_version": "1.2.0",
      "_view_name": "LayoutView",
      "align_content": null,
      "align_items": null,
      "align_self": null,
      "border": null,
      "bottom": null,
      "display": null,
      "flex": null,
      "flex_flow": null,
      "grid_area": null,
      "grid_auto_columns": null,
      "grid_auto_flow": null,
      "grid_auto_rows": null,
      "grid_column": null,
      "grid_gap": null,
      "grid_row": null,
      "grid_template_areas": null,
      "grid_template_columns": null,
      "grid_template_rows": null,
      "height": null,
      "justify_content": null,
      "justify_items": null,
      "left": null,
      "margin": null,
      "max_height": null,
      "max_width": null,
      "min_height": null,
      "min_width": null,
      "object_fit": null,
      "object_position": null,
      "order": null,
      "overflow": null,
      "overflow_x": null,
      "overflow_y": null,
      "padding": null,
      "right": null,
      "top": null,
      "visibility": null,
      "width": null
     }
    },
    "52e87d83d1ca4f44a835571f879d1b56": {
     "model_module": "@jupyter-widgets/base",
     "model_module_version": "1.2.0",
     "model_name": "LayoutModel",
     "state": {
      "_model_module": "@jupyter-widgets/base",
      "_model_module_version": "1.2.0",
      "_model_name": "LayoutModel",
      "_view_count": null,
      "_view_module": "@jupyter-widgets/base",
      "_view_module_version": "1.2.0",
      "_view_name": "LayoutView",
      "align_content": null,
      "align_items": null,
      "align_self": null,
      "border": null,
      "bottom": null,
      "display": null,
      "flex": null,
      "flex_flow": null,
      "grid_area": null,
      "grid_auto_columns": null,
      "grid_auto_flow": null,
      "grid_auto_rows": null,
      "grid_column": null,
      "grid_gap": null,
      "grid_row": null,
      "grid_template_areas": null,
      "grid_template_columns": null,
      "grid_template_rows": null,
      "height": null,
      "justify_content": null,
      "justify_items": null,
      "left": null,
      "margin": null,
      "max_height": null,
      "max_width": null,
      "min_height": null,
      "min_width": null,
      "object_fit": null,
      "object_position": null,
      "order": null,
      "overflow": null,
      "overflow_x": null,
      "overflow_y": null,
      "padding": null,
      "right": null,
      "top": null,
      "visibility": null,
      "width": null
     }
    },
    "54bab38e9ac2425696b1e874f21bd0d9": {
     "model_module": "@jupyter-widgets/controls",
     "model_module_version": "1.5.0",
     "model_name": "HTMLModel",
     "state": {
      "_dom_classes": [],
      "_model_module": "@jupyter-widgets/controls",
      "_model_module_version": "1.5.0",
      "_model_name": "HTMLModel",
      "_view_count": null,
      "_view_module": "@jupyter-widgets/controls",
      "_view_module_version": "1.5.0",
      "_view_name": "HTMLView",
      "description": "",
      "description_tooltip": null,
      "layout": "IPY_MODEL_f65d2670e92c41c0aa65311d1ed3f3d3",
      "placeholder": "​",
      "style": "IPY_MODEL_19450c7981cd407caa7d1b7c4f07f139",
      "value": ""
     }
    },
    "5783b18a47b240e0958fd39f0f246557": {
     "model_module": "@jupyter-widgets/controls",
     "model_module_version": "1.5.0",
     "model_name": "FloatProgressModel",
     "state": {
      "_dom_classes": [],
      "_model_module": "@jupyter-widgets/controls",
      "_model_module_version": "1.5.0",
      "_model_name": "FloatProgressModel",
      "_view_count": null,
      "_view_module": "@jupyter-widgets/controls",
      "_view_module_version": "1.5.0",
      "_view_name": "ProgressView",
      "bar_style": "success",
      "description": "",
      "description_tooltip": null,
      "layout": "IPY_MODEL_80fa9755fec046c49087572cc813dc8f",
      "max": 2590,
      "min": 0,
      "orientation": "horizontal",
      "style": "IPY_MODEL_968a54956e6046089c5ab634fcec78a7",
      "value": 2590
     }
    },
    "5941cf0da1934ea19e029ff1a52714c3": {
     "model_module": "@jupyter-widgets/controls",
     "model_module_version": "1.5.0",
     "model_name": "DescriptionStyleModel",
     "state": {
      "_model_module": "@jupyter-widgets/controls",
      "_model_module_version": "1.5.0",
      "_model_name": "DescriptionStyleModel",
      "_view_count": null,
      "_view_module": "@jupyter-widgets/base",
      "_view_module_version": "1.2.0",
      "_view_name": "StyleView",
      "description_width": ""
     }
    },
    "5aab437c91444ac9a03ebbf9c308ecff": {
     "model_module": "@jupyter-widgets/base",
     "model_module_version": "1.2.0",
     "model_name": "LayoutModel",
     "state": {
      "_model_module": "@jupyter-widgets/base",
      "_model_module_version": "1.2.0",
      "_model_name": "LayoutModel",
      "_view_count": null,
      "_view_module": "@jupyter-widgets/base",
      "_view_module_version": "1.2.0",
      "_view_name": "LayoutView",
      "align_content": null,
      "align_items": null,
      "align_self": null,
      "border": null,
      "bottom": null,
      "display": null,
      "flex": null,
      "flex_flow": null,
      "grid_area": null,
      "grid_auto_columns": null,
      "grid_auto_flow": null,
      "grid_auto_rows": null,
      "grid_column": null,
      "grid_gap": null,
      "grid_row": null,
      "grid_template_areas": null,
      "grid_template_columns": null,
      "grid_template_rows": null,
      "height": null,
      "justify_content": null,
      "justify_items": null,
      "left": null,
      "margin": null,
      "max_height": null,
      "max_width": null,
      "min_height": null,
      "min_width": null,
      "object_fit": null,
      "object_position": null,
      "order": null,
      "overflow": null,
      "overflow_x": null,
      "overflow_y": null,
      "padding": null,
      "right": null,
      "top": null,
      "visibility": null,
      "width": "20px"
     }
    },
    "5bc2e78aac764219906b93d2880d531c": {
     "model_module": "@jupyter-widgets/base",
     "model_module_version": "1.2.0",
     "model_name": "LayoutModel",
     "state": {
      "_model_module": "@jupyter-widgets/base",
      "_model_module_version": "1.2.0",
      "_model_name": "LayoutModel",
      "_view_count": null,
      "_view_module": "@jupyter-widgets/base",
      "_view_module_version": "1.2.0",
      "_view_name": "LayoutView",
      "align_content": null,
      "align_items": null,
      "align_self": null,
      "border": null,
      "bottom": null,
      "display": null,
      "flex": null,
      "flex_flow": null,
      "grid_area": null,
      "grid_auto_columns": null,
      "grid_auto_flow": null,
      "grid_auto_rows": null,
      "grid_column": null,
      "grid_gap": null,
      "grid_row": null,
      "grid_template_areas": null,
      "grid_template_columns": null,
      "grid_template_rows": null,
      "height": null,
      "justify_content": null,
      "justify_items": null,
      "left": null,
      "margin": null,
      "max_height": null,
      "max_width": null,
      "min_height": null,
      "min_width": null,
      "object_fit": null,
      "object_position": null,
      "order": null,
      "overflow": null,
      "overflow_x": null,
      "overflow_y": null,
      "padding": null,
      "right": null,
      "top": null,
      "visibility": null,
      "width": null
     }
    },
    "5df16d16d08e49898ef2a3705fc829d2": {
     "model_module": "@jupyter-widgets/base",
     "model_module_version": "1.2.0",
     "model_name": "LayoutModel",
     "state": {
      "_model_module": "@jupyter-widgets/base",
      "_model_module_version": "1.2.0",
      "_model_name": "LayoutModel",
      "_view_count": null,
      "_view_module": "@jupyter-widgets/base",
      "_view_module_version": "1.2.0",
      "_view_name": "LayoutView",
      "align_content": null,
      "align_items": null,
      "align_self": null,
      "border": null,
      "bottom": null,
      "display": null,
      "flex": null,
      "flex_flow": null,
      "grid_area": null,
      "grid_auto_columns": null,
      "grid_auto_flow": null,
      "grid_auto_rows": null,
      "grid_column": null,
      "grid_gap": null,
      "grid_row": null,
      "grid_template_areas": null,
      "grid_template_columns": null,
      "grid_template_rows": null,
      "height": null,
      "justify_content": null,
      "justify_items": null,
      "left": null,
      "margin": null,
      "max_height": null,
      "max_width": null,
      "min_height": null,
      "min_width": null,
      "object_fit": null,
      "object_position": null,
      "order": null,
      "overflow": null,
      "overflow_x": null,
      "overflow_y": null,
      "padding": null,
      "right": null,
      "top": null,
      "visibility": null,
      "width": null
     }
    },
    "5e6ee542e32049c8aa82f3bed37cafaf": {
     "model_module": "@jupyter-widgets/controls",
     "model_module_version": "1.5.0",
     "model_name": "ProgressStyleModel",
     "state": {
      "_model_module": "@jupyter-widgets/controls",
      "_model_module_version": "1.5.0",
      "_model_name": "ProgressStyleModel",
      "_view_count": null,
      "_view_module": "@jupyter-widgets/base",
      "_view_module_version": "1.2.0",
      "_view_name": "StyleView",
      "bar_color": null,
      "description_width": ""
     }
    },
    "6079d52e04a14d1a8bd5a3868aa49441": {
     "model_module": "@jupyter-widgets/controls",
     "model_module_version": "1.5.0",
     "model_name": "HTMLModel",
     "state": {
      "_dom_classes": [],
      "_model_module": "@jupyter-widgets/controls",
      "_model_module_version": "1.5.0",
      "_model_name": "HTMLModel",
      "_view_count": null,
      "_view_module": "@jupyter-widgets/controls",
      "_view_module_version": "1.5.0",
      "_view_name": "HTMLView",
      "description": "",
      "description_tooltip": null,
      "layout": "IPY_MODEL_045d1157aee04fa6937d4a2510824dfa",
      "placeholder": "​",
      "style": "IPY_MODEL_9cf0927d373349d48c5eab450b65f37e",
      "value": " 3/3 [00:00&lt;00:00,  8.27it/s]"
     }
    },
    "64cae74eb0b842c3afcd6c441f908248": {
     "model_module": "@jupyter-widgets/controls",
     "model_module_version": "1.5.0",
     "model_name": "HBoxModel",
     "state": {
      "_dom_classes": [],
      "_model_module": "@jupyter-widgets/controls",
      "_model_module_version": "1.5.0",
      "_model_name": "HBoxModel",
      "_view_count": null,
      "_view_module": "@jupyter-widgets/controls",
      "_view_module_version": "1.5.0",
      "_view_name": "HBoxView",
      "box_style": "",
      "children": [
       "IPY_MODEL_23ff06d17d7b4d7ab6c0a3c2cdcac790",
       "IPY_MODEL_3415f8ae4f1d44dc9d52f5c7fc1b87c5",
       "IPY_MODEL_e8e173d30e18402cb2213b470161619b"
      ],
      "layout": "IPY_MODEL_aea81aabada94d6bbe94e9b889c4598e"
     }
    },
    "65baef21f5744b09a2cf91563a2fcdb4": {
     "model_module": "@jupyter-widgets/base",
     "model_module_version": "1.2.0",
     "model_name": "LayoutModel",
     "state": {
      "_model_module": "@jupyter-widgets/base",
      "_model_module_version": "1.2.0",
      "_model_name": "LayoutModel",
      "_view_count": null,
      "_view_module": "@jupyter-widgets/base",
      "_view_module_version": "1.2.0",
      "_view_name": "LayoutView",
      "align_content": null,
      "align_items": null,
      "align_self": null,
      "border": null,
      "bottom": null,
      "display": null,
      "flex": null,
      "flex_flow": null,
      "grid_area": null,
      "grid_auto_columns": null,
      "grid_auto_flow": null,
      "grid_auto_rows": null,
      "grid_column": null,
      "grid_gap": null,
      "grid_row": null,
      "grid_template_areas": null,
      "grid_template_columns": null,
      "grid_template_rows": null,
      "height": null,
      "justify_content": null,
      "justify_items": null,
      "left": null,
      "margin": null,
      "max_height": null,
      "max_width": null,
      "min_height": null,
      "min_width": null,
      "object_fit": null,
      "object_position": null,
      "order": null,
      "overflow": null,
      "overflow_x": null,
      "overflow_y": null,
      "padding": null,
      "right": null,
      "top": null,
      "visibility": null,
      "width": null
     }
    },
    "6899dabb2ccb4674a79e91252fdf5026": {
     "model_module": "@jupyter-widgets/controls",
     "model_module_version": "1.5.0",
     "model_name": "DescriptionStyleModel",
     "state": {
      "_model_module": "@jupyter-widgets/controls",
      "_model_module_version": "1.5.0",
      "_model_name": "DescriptionStyleModel",
      "_view_count": null,
      "_view_module": "@jupyter-widgets/base",
      "_view_module_version": "1.2.0",
      "_view_name": "StyleView",
      "description_width": ""
     }
    },
    "6ea7aea1622c4dcc828239f6526e337e": {
     "model_module": "@jupyter-widgets/controls",
     "model_module_version": "1.5.0",
     "model_name": "HTMLModel",
     "state": {
      "_dom_classes": [],
      "_model_module": "@jupyter-widgets/controls",
      "_model_module_version": "1.5.0",
      "_model_name": "HTMLModel",
      "_view_count": null,
      "_view_module": "@jupyter-widgets/controls",
      "_view_module_version": "1.5.0",
      "_view_name": "HTMLView",
      "description": "",
      "description_tooltip": null,
      "layout": "IPY_MODEL_d72b7480dfe740629d6ff7dbb6f5dee2",
      "placeholder": "​",
      "style": "IPY_MODEL_263ccbc9abc6493281291ea94e53ade3",
      "value": " 9.13k/? [00:00&lt;00:00, 193kB/s]"
     }
    },
    "716e77b28b54485d8259cc3cfd73239c": {
     "model_module": "@jupyter-widgets/controls",
     "model_module_version": "1.5.0",
     "model_name": "HTMLModel",
     "state": {
      "_dom_classes": [],
      "_model_module": "@jupyter-widgets/controls",
      "_model_module_version": "1.5.0",
      "_model_name": "HTMLModel",
      "_view_count": null,
      "_view_module": "@jupyter-widgets/controls",
      "_view_module_version": "1.5.0",
      "_view_name": "HTMLView",
      "description": "",
      "description_tooltip": null,
      "layout": "IPY_MODEL_a6dd54277b29469ebdcff6e4e6125559",
      "placeholder": "​",
      "style": "IPY_MODEL_e4a3b93e04df4f3cbb39d4fb12f2face",
      "value": "Downloading: "
     }
    },
    "73401aad84244df68a56cd65979e6c81": {
     "model_module": "@jupyter-widgets/base",
     "model_module_version": "1.2.0",
     "model_name": "LayoutModel",
     "state": {
      "_model_module": "@jupyter-widgets/base",
      "_model_module_version": "1.2.0",
      "_model_name": "LayoutModel",
      "_view_count": null,
      "_view_module": "@jupyter-widgets/base",
      "_view_module_version": "1.2.0",
      "_view_name": "LayoutView",
      "align_content": null,
      "align_items": null,
      "align_self": null,
      "border": null,
      "bottom": null,
      "display": null,
      "flex": null,
      "flex_flow": null,
      "grid_area": null,
      "grid_auto_columns": null,
      "grid_auto_flow": null,
      "grid_auto_rows": null,
      "grid_column": null,
      "grid_gap": null,
      "grid_row": null,
      "grid_template_areas": null,
      "grid_template_columns": null,
      "grid_template_rows": null,
      "height": null,
      "justify_content": null,
      "justify_items": null,
      "left": null,
      "margin": null,
      "max_height": null,
      "max_width": null,
      "min_height": null,
      "min_width": null,
      "object_fit": null,
      "object_position": null,
      "order": null,
      "overflow": null,
      "overflow_x": null,
      "overflow_y": null,
      "padding": null,
      "right": null,
      "top": null,
      "visibility": null,
      "width": null
     }
    },
    "7699b9a3dfa54faca553a5b4233f159a": {
     "model_module": "@jupyter-widgets/controls",
     "model_module_version": "1.5.0",
     "model_name": "DescriptionStyleModel",
     "state": {
      "_model_module": "@jupyter-widgets/controls",
      "_model_module_version": "1.5.0",
      "_model_name": "DescriptionStyleModel",
      "_view_count": null,
      "_view_module": "@jupyter-widgets/base",
      "_view_module_version": "1.2.0",
      "_view_name": "StyleView",
      "description_width": ""
     }
    },
    "78e07d9315b34eca9f09b9ab9f4d1769": {
     "model_module": "@jupyter-widgets/controls",
     "model_module_version": "1.5.0",
     "model_name": "HTMLModel",
     "state": {
      "_dom_classes": [],
      "_model_module": "@jupyter-widgets/controls",
      "_model_module_version": "1.5.0",
      "_model_name": "HTMLModel",
      "_view_count": null,
      "_view_module": "@jupyter-widgets/controls",
      "_view_module_version": "1.5.0",
      "_view_name": "HTMLView",
      "description": "",
      "description_tooltip": null,
      "layout": "IPY_MODEL_feeefa9b7dc5415c82477a4c40cfc264",
      "placeholder": "​",
      "style": "IPY_MODEL_3e956e177a20493cb679a5c47550eee0",
      "value": "100%"
     }
    },
    "7c66b437441c4b399cdfd73fe64cc482": {
     "model_module": "@jupyter-widgets/controls",
     "model_module_version": "1.5.0",
     "model_name": "DescriptionStyleModel",
     "state": {
      "_model_module": "@jupyter-widgets/controls",
      "_model_module_version": "1.5.0",
      "_model_name": "DescriptionStyleModel",
      "_view_count": null,
      "_view_module": "@jupyter-widgets/base",
      "_view_module_version": "1.2.0",
      "_view_name": "StyleView",
      "description_width": ""
     }
    },
    "80fa9755fec046c49087572cc813dc8f": {
     "model_module": "@jupyter-widgets/base",
     "model_module_version": "1.2.0",
     "model_name": "LayoutModel",
     "state": {
      "_model_module": "@jupyter-widgets/base",
      "_model_module_version": "1.2.0",
      "_model_name": "LayoutModel",
      "_view_count": null,
      "_view_module": "@jupyter-widgets/base",
      "_view_module_version": "1.2.0",
      "_view_name": "LayoutView",
      "align_content": null,
      "align_items": null,
      "align_self": null,
      "border": null,
      "bottom": null,
      "display": null,
      "flex": null,
      "flex_flow": null,
      "grid_area": null,
      "grid_auto_columns": null,
      "grid_auto_flow": null,
      "grid_auto_rows": null,
      "grid_column": null,
      "grid_gap": null,
      "grid_row": null,
      "grid_template_areas": null,
      "grid_template_columns": null,
      "grid_template_rows": null,
      "height": null,
      "justify_content": null,
      "justify_items": null,
      "left": null,
      "margin": null,
      "max_height": null,
      "max_width": null,
      "min_height": null,
      "min_width": null,
      "object_fit": null,
      "object_position": null,
      "order": null,
      "overflow": null,
      "overflow_x": null,
      "overflow_y": null,
      "padding": null,
      "right": null,
      "top": null,
      "visibility": null,
      "width": null
     }
    },
    "81647e5b9972456cae2d01508aa121e3": {
     "model_module": "@jupyter-widgets/controls",
     "model_module_version": "1.5.0",
     "model_name": "HTMLModel",
     "state": {
      "_dom_classes": [],
      "_model_module": "@jupyter-widgets/controls",
      "_model_module_version": "1.5.0",
      "_model_name": "HTMLModel",
      "_view_count": null,
      "_view_module": "@jupyter-widgets/controls",
      "_view_module_version": "1.5.0",
      "_view_name": "HTMLView",
      "description": "",
      "description_tooltip": null,
      "layout": "IPY_MODEL_5bc2e78aac764219906b93d2880d531c",
      "placeholder": "​",
      "style": "IPY_MODEL_7c66b437441c4b399cdfd73fe64cc482",
      "value": ""
     }
    },
    "890e5d9f02e344eeb7392d9fcbcdf4c7": {
     "model_module": "@jupyter-widgets/controls",
     "model_module_version": "1.5.0",
     "model_name": "HTMLModel",
     "state": {
      "_dom_classes": [],
      "_model_module": "@jupyter-widgets/controls",
      "_model_module_version": "1.5.0",
      "_model_name": "HTMLModel",
      "_view_count": null,
      "_view_module": "@jupyter-widgets/controls",
      "_view_module_version": "1.5.0",
      "_view_name": "HTMLView",
      "description": "",
      "description_tooltip": null,
      "layout": "IPY_MODEL_025a9e6b6fac4be9a92b167a3d65d010",
      "placeholder": "​",
      "style": "IPY_MODEL_6899dabb2ccb4674a79e91252fdf5026",
      "value": " 2165/0 [00:03&lt;00:00, 1362.57 examples/s]"
     }
    },
    "8cc62943e62549588496c8eb4ed3367b": {
     "model_module": "@jupyter-widgets/controls",
     "model_module_version": "1.5.0",
     "model_name": "HBoxModel",
     "state": {
      "_dom_classes": [],
      "_model_module": "@jupyter-widgets/controls",
      "_model_module_version": "1.5.0",
      "_model_name": "HBoxModel",
      "_view_count": null,
      "_view_module": "@jupyter-widgets/controls",
      "_view_module_version": "1.5.0",
      "_view_name": "HBoxView",
      "box_style": "",
      "children": [
       "IPY_MODEL_716e77b28b54485d8259cc3cfd73239c",
       "IPY_MODEL_e61efc6dea574b56b8514deaeee4787d",
       "IPY_MODEL_4d3db7ac7b4f4a778df29aa752ef9b1a"
      ],
      "layout": "IPY_MODEL_e7e3c967b6d94e29af7454b8493904d4"
     }
    },
    "8f7d3386a981462f986dc3b924b6d42b": {
     "model_module": "@jupyter-widgets/base",
     "model_module_version": "1.2.0",
     "model_name": "LayoutModel",
     "state": {
      "_model_module": "@jupyter-widgets/base",
      "_model_module_version": "1.2.0",
      "_model_name": "LayoutModel",
      "_view_count": null,
      "_view_module": "@jupyter-widgets/base",
      "_view_module_version": "1.2.0",
      "_view_name": "LayoutView",
      "align_content": null,
      "align_items": null,
      "align_self": null,
      "border": null,
      "bottom": null,
      "display": null,
      "flex": null,
      "flex_flow": null,
      "grid_area": null,
      "grid_auto_columns": null,
      "grid_auto_flow": null,
      "grid_auto_rows": null,
      "grid_column": null,
      "grid_gap": null,
      "grid_row": null,
      "grid_template_areas": null,
      "grid_template_columns": null,
      "grid_template_rows": null,
      "height": null,
      "justify_content": null,
      "justify_items": null,
      "left": null,
      "margin": null,
      "max_height": null,
      "max_width": null,
      "min_height": null,
      "min_width": null,
      "object_fit": null,
      "object_position": null,
      "order": null,
      "overflow": null,
      "overflow_x": null,
      "overflow_y": null,
      "padding": null,
      "right": null,
      "top": null,
      "visibility": null,
      "width": null
     }
    },
    "8ff811a912b74cedb8f293967a1aa100": {
     "model_module": "@jupyter-widgets/base",
     "model_module_version": "1.2.0",
     "model_name": "LayoutModel",
     "state": {
      "_model_module": "@jupyter-widgets/base",
      "_model_module_version": "1.2.0",
      "_model_name": "LayoutModel",
      "_view_count": null,
      "_view_module": "@jupyter-widgets/base",
      "_view_module_version": "1.2.0",
      "_view_name": "LayoutView",
      "align_content": null,
      "align_items": null,
      "align_self": null,
      "border": null,
      "bottom": null,
      "display": null,
      "flex": null,
      "flex_flow": null,
      "grid_area": null,
      "grid_auto_columns": null,
      "grid_auto_flow": null,
      "grid_auto_rows": null,
      "grid_column": null,
      "grid_gap": null,
      "grid_row": null,
      "grid_template_areas": null,
      "grid_template_columns": null,
      "grid_template_rows": null,
      "height": null,
      "justify_content": null,
      "justify_items": null,
      "left": null,
      "margin": null,
      "max_height": null,
      "max_width": null,
      "min_height": null,
      "min_width": null,
      "object_fit": null,
      "object_position": null,
      "order": null,
      "overflow": null,
      "overflow_x": null,
      "overflow_y": null,
      "padding": null,
      "right": null,
      "top": null,
      "visibility": null,
      "width": null
     }
    },
    "91d797697605412a8b5eba283e6b2d2c": {
     "model_module": "@jupyter-widgets/controls",
     "model_module_version": "1.5.0",
     "model_name": "HTMLModel",
     "state": {
      "_dom_classes": [],
      "_model_module": "@jupyter-widgets/controls",
      "_model_module_version": "1.5.0",
      "_model_name": "HTMLModel",
      "_view_count": null,
      "_view_module": "@jupyter-widgets/controls",
      "_view_module_version": "1.5.0",
      "_view_name": "HTMLView",
      "description": "",
      "description_tooltip": null,
      "layout": "IPY_MODEL_b176743d681843cfb9ad3d6f00097bc6",
      "placeholder": "​",
      "style": "IPY_MODEL_f6657dee843d4b90b9c85b61c22295c6",
      "value": "Downloading: "
     }
    },
    "968a54956e6046089c5ab634fcec78a7": {
     "model_module": "@jupyter-widgets/controls",
     "model_module_version": "1.5.0",
     "model_name": "ProgressStyleModel",
     "state": {
      "_model_module": "@jupyter-widgets/controls",
      "_model_module_version": "1.5.0",
      "_model_name": "ProgressStyleModel",
      "_view_count": null,
      "_view_module": "@jupyter-widgets/base",
      "_view_module_version": "1.2.0",
      "_view_name": "StyleView",
      "bar_color": null,
      "description_width": ""
     }
    },
    "9909ef2087334aa3a373ad0b6d1451c8": {
     "model_module": "@jupyter-widgets/controls",
     "model_module_version": "1.5.0",
     "model_name": "DescriptionStyleModel",
     "state": {
      "_model_module": "@jupyter-widgets/controls",
      "_model_module_version": "1.5.0",
      "_model_name": "DescriptionStyleModel",
      "_view_count": null,
      "_view_module": "@jupyter-widgets/base",
      "_view_module_version": "1.2.0",
      "_view_name": "StyleView",
      "description_width": ""
     }
    },
    "9933c6823608499abe1252451930de9c": {
     "model_module": "@jupyter-widgets/base",
     "model_module_version": "1.2.0",
     "model_name": "LayoutModel",
     "state": {
      "_model_module": "@jupyter-widgets/base",
      "_model_module_version": "1.2.0",
      "_model_name": "LayoutModel",
      "_view_count": null,
      "_view_module": "@jupyter-widgets/base",
      "_view_module_version": "1.2.0",
      "_view_name": "LayoutView",
      "align_content": null,
      "align_items": null,
      "align_self": null,
      "border": null,
      "bottom": null,
      "display": null,
      "flex": null,
      "flex_flow": null,
      "grid_area": null,
      "grid_auto_columns": null,
      "grid_auto_flow": null,
      "grid_auto_rows": null,
      "grid_column": null,
      "grid_gap": null,
      "grid_row": null,
      "grid_template_areas": null,
      "grid_template_columns": null,
      "grid_template_rows": null,
      "height": null,
      "justify_content": null,
      "justify_items": null,
      "left": null,
      "margin": null,
      "max_height": null,
      "max_width": null,
      "min_height": null,
      "min_width": null,
      "object_fit": null,
      "object_position": null,
      "order": null,
      "overflow": null,
      "overflow_x": null,
      "overflow_y": null,
      "padding": null,
      "right": null,
      "top": null,
      "visibility": null,
      "width": null
     }
    },
    "9cf0927d373349d48c5eab450b65f37e": {
     "model_module": "@jupyter-widgets/controls",
     "model_module_version": "1.5.0",
     "model_name": "DescriptionStyleModel",
     "state": {
      "_model_module": "@jupyter-widgets/controls",
      "_model_module_version": "1.5.0",
      "_model_name": "DescriptionStyleModel",
      "_view_count": null,
      "_view_module": "@jupyter-widgets/base",
      "_view_module_version": "1.2.0",
      "_view_name": "StyleView",
      "description_width": ""
     }
    },
    "9db4de6c16e846758b550851cb833922": {
     "model_module": "@jupyter-widgets/base",
     "model_module_version": "1.2.0",
     "model_name": "LayoutModel",
     "state": {
      "_model_module": "@jupyter-widgets/base",
      "_model_module_version": "1.2.0",
      "_model_name": "LayoutModel",
      "_view_count": null,
      "_view_module": "@jupyter-widgets/base",
      "_view_module_version": "1.2.0",
      "_view_name": "LayoutView",
      "align_content": null,
      "align_items": null,
      "align_self": null,
      "border": null,
      "bottom": null,
      "display": null,
      "flex": null,
      "flex_flow": null,
      "grid_area": null,
      "grid_auto_columns": null,
      "grid_auto_flow": null,
      "grid_auto_rows": null,
      "grid_column": null,
      "grid_gap": null,
      "grid_row": null,
      "grid_template_areas": null,
      "grid_template_columns": null,
      "grid_template_rows": null,
      "height": null,
      "justify_content": null,
      "justify_items": null,
      "left": null,
      "margin": null,
      "max_height": null,
      "max_width": null,
      "min_height": null,
      "min_width": null,
      "object_fit": null,
      "object_position": null,
      "order": null,
      "overflow": null,
      "overflow_x": null,
      "overflow_y": null,
      "padding": null,
      "right": null,
      "top": null,
      "visibility": null,
      "width": null
     }
    },
    "a59791a4bd4a40b59a2ed5686f859b34": {
     "model_module": "@jupyter-widgets/base",
     "model_module_version": "1.2.0",
     "model_name": "LayoutModel",
     "state": {
      "_model_module": "@jupyter-widgets/base",
      "_model_module_version": "1.2.0",
      "_model_name": "LayoutModel",
      "_view_count": null,
      "_view_module": "@jupyter-widgets/base",
      "_view_module_version": "1.2.0",
      "_view_name": "LayoutView",
      "align_content": null,
      "align_items": null,
      "align_self": null,
      "border": null,
      "bottom": null,
      "display": null,
      "flex": null,
      "flex_flow": null,
      "grid_area": null,
      "grid_auto_columns": null,
      "grid_auto_flow": null,
      "grid_auto_rows": null,
      "grid_column": null,
      "grid_gap": null,
      "grid_row": null,
      "grid_template_areas": null,
      "grid_template_columns": null,
      "grid_template_rows": null,
      "height": null,
      "justify_content": null,
      "justify_items": null,
      "left": null,
      "margin": null,
      "max_height": null,
      "max_width": null,
      "min_height": null,
      "min_width": null,
      "object_fit": null,
      "object_position": null,
      "order": null,
      "overflow": null,
      "overflow_x": null,
      "overflow_y": null,
      "padding": null,
      "right": null,
      "top": null,
      "visibility": null,
      "width": null
     }
    },
    "a6dd54277b29469ebdcff6e4e6125559": {
     "model_module": "@jupyter-widgets/base",
     "model_module_version": "1.2.0",
     "model_name": "LayoutModel",
     "state": {
      "_model_module": "@jupyter-widgets/base",
      "_model_module_version": "1.2.0",
      "_model_name": "LayoutModel",
      "_view_count": null,
      "_view_module": "@jupyter-widgets/base",
      "_view_module_version": "1.2.0",
      "_view_name": "LayoutView",
      "align_content": null,
      "align_items": null,
      "align_self": null,
      "border": null,
      "bottom": null,
      "display": null,
      "flex": null,
      "flex_flow": null,
      "grid_area": null,
      "grid_auto_columns": null,
      "grid_auto_flow": null,
      "grid_auto_rows": null,
      "grid_column": null,
      "grid_gap": null,
      "grid_row": null,
      "grid_template_areas": null,
      "grid_template_columns": null,
      "grid_template_rows": null,
      "height": null,
      "justify_content": null,
      "justify_items": null,
      "left": null,
      "margin": null,
      "max_height": null,
      "max_width": null,
      "min_height": null,
      "min_width": null,
      "object_fit": null,
      "object_position": null,
      "order": null,
      "overflow": null,
      "overflow_x": null,
      "overflow_y": null,
      "padding": null,
      "right": null,
      "top": null,
      "visibility": null,
      "width": null
     }
    },
    "a73176eb879d4c5482ed87cd8dd4cabc": {
     "model_module": "@jupyter-widgets/controls",
     "model_module_version": "1.5.0",
     "model_name": "HTMLModel",
     "state": {
      "_dom_classes": [],
      "_model_module": "@jupyter-widgets/controls",
      "_model_module_version": "1.5.0",
      "_model_name": "HTMLModel",
      "_view_count": null,
      "_view_module": "@jupyter-widgets/controls",
      "_view_module_version": "1.5.0",
      "_view_name": "HTMLView",
      "description": "",
      "description_tooltip": null,
      "layout": "IPY_MODEL_52909b229e00488680a76aa4ae00b7e7",
      "placeholder": "​",
      "style": "IPY_MODEL_add84bfa089f4154ad307c9eca1615aa",
      "value": " 6.37M/6.37M [00:02&lt;00:00, 3.42MB/s]"
     }
    },
    "a9364baa83934a66947ba719b740f325": {
     "model_module": "@jupyter-widgets/controls",
     "model_module_version": "1.5.0",
     "model_name": "FloatProgressModel",
     "state": {
      "_dom_classes": [],
      "_model_module": "@jupyter-widgets/controls",
      "_model_module_version": "1.5.0",
      "_model_name": "FloatProgressModel",
      "_view_count": null,
      "_view_module": "@jupyter-widgets/controls",
      "_view_module_version": "1.5.0",
      "_view_name": "ProgressView",
      "bar_style": "success",
      "description": "",
      "description_tooltip": null,
      "layout": "IPY_MODEL_3db7a3f3d70d4d0a84862f784a6511da",
      "max": 789539,
      "min": 0,
      "orientation": "horizontal",
      "style": "IPY_MODEL_d785ba9b272c424f939f7d3a2d6d3f12",
      "value": 789539
     }
    },
    "add84bfa089f4154ad307c9eca1615aa": {
     "model_module": "@jupyter-widgets/controls",
     "model_module_version": "1.5.0",
     "model_name": "DescriptionStyleModel",
     "state": {
      "_model_module": "@jupyter-widgets/controls",
      "_model_module_version": "1.5.0",
      "_model_name": "DescriptionStyleModel",
      "_view_count": null,
      "_view_module": "@jupyter-widgets/base",
      "_view_module_version": "1.2.0",
      "_view_name": "StyleView",
      "description_width": ""
     }
    },
    "aea81aabada94d6bbe94e9b889c4598e": {
     "model_module": "@jupyter-widgets/base",
     "model_module_version": "1.2.0",
     "model_name": "LayoutModel",
     "state": {
      "_model_module": "@jupyter-widgets/base",
      "_model_module_version": "1.2.0",
      "_model_name": "LayoutModel",
      "_view_count": null,
      "_view_module": "@jupyter-widgets/base",
      "_view_module_version": "1.2.0",
      "_view_name": "LayoutView",
      "align_content": null,
      "align_items": null,
      "align_self": null,
      "border": null,
      "bottom": null,
      "display": null,
      "flex": null,
      "flex_flow": null,
      "grid_area": null,
      "grid_auto_columns": null,
      "grid_auto_flow": null,
      "grid_auto_rows": null,
      "grid_column": null,
      "grid_gap": null,
      "grid_row": null,
      "grid_template_areas": null,
      "grid_template_columns": null,
      "grid_template_rows": null,
      "height": null,
      "justify_content": null,
      "justify_items": null,
      "left": null,
      "margin": null,
      "max_height": null,
      "max_width": null,
      "min_height": null,
      "min_width": null,
      "object_fit": null,
      "object_position": null,
      "order": null,
      "overflow": null,
      "overflow_x": null,
      "overflow_y": null,
      "padding": null,
      "right": null,
      "top": null,
      "visibility": null,
      "width": null
     }
    },
    "af4df85eec574a8497c88df37f1a88eb": {
     "model_module": "@jupyter-widgets/controls",
     "model_module_version": "1.5.0",
     "model_name": "DescriptionStyleModel",
     "state": {
      "_model_module": "@jupyter-widgets/controls",
      "_model_module_version": "1.5.0",
      "_model_name": "DescriptionStyleModel",
      "_view_count": null,
      "_view_module": "@jupyter-widgets/base",
      "_view_module_version": "1.2.0",
      "_view_name": "StyleView",
      "description_width": ""
     }
    },
    "b176743d681843cfb9ad3d6f00097bc6": {
     "model_module": "@jupyter-widgets/base",
     "model_module_version": "1.2.0",
     "model_name": "LayoutModel",
     "state": {
      "_model_module": "@jupyter-widgets/base",
      "_model_module_version": "1.2.0",
      "_model_name": "LayoutModel",
      "_view_count": null,
      "_view_module": "@jupyter-widgets/base",
      "_view_module_version": "1.2.0",
      "_view_name": "LayoutView",
      "align_content": null,
      "align_items": null,
      "align_self": null,
      "border": null,
      "bottom": null,
      "display": null,
      "flex": null,
      "flex_flow": null,
      "grid_area": null,
      "grid_auto_columns": null,
      "grid_auto_flow": null,
      "grid_auto_rows": null,
      "grid_column": null,
      "grid_gap": null,
      "grid_row": null,
      "grid_template_areas": null,
      "grid_template_columns": null,
      "grid_template_rows": null,
      "height": null,
      "justify_content": null,
      "justify_items": null,
      "left": null,
      "margin": null,
      "max_height": null,
      "max_width": null,
      "min_height": null,
      "min_width": null,
      "object_fit": null,
      "object_position": null,
      "order": null,
      "overflow": null,
      "overflow_x": null,
      "overflow_y": null,
      "padding": null,
      "right": null,
      "top": null,
      "visibility": null,
      "width": null
     }
    },
    "b20546bae92b47a19319ebbaffd5cd4f": {
     "model_module": "@jupyter-widgets/base",
     "model_module_version": "1.2.0",
     "model_name": "LayoutModel",
     "state": {
      "_model_module": "@jupyter-widgets/base",
      "_model_module_version": "1.2.0",
      "_model_name": "LayoutModel",
      "_view_count": null,
      "_view_module": "@jupyter-widgets/base",
      "_view_module_version": "1.2.0",
      "_view_name": "LayoutView",
      "align_content": null,
      "align_items": null,
      "align_self": null,
      "border": null,
      "bottom": null,
      "display": null,
      "flex": null,
      "flex_flow": null,
      "grid_area": null,
      "grid_auto_columns": null,
      "grid_auto_flow": null,
      "grid_auto_rows": null,
      "grid_column": null,
      "grid_gap": null,
      "grid_row": null,
      "grid_template_areas": null,
      "grid_template_columns": null,
      "grid_template_rows": null,
      "height": null,
      "justify_content": null,
      "justify_items": null,
      "left": null,
      "margin": null,
      "max_height": null,
      "max_width": null,
      "min_height": null,
      "min_width": null,
      "object_fit": null,
      "object_position": null,
      "order": null,
      "overflow": null,
      "overflow_x": null,
      "overflow_y": null,
      "padding": null,
      "right": null,
      "top": null,
      "visibility": null,
      "width": "20px"
     }
    },
    "b6818317feec4ff8873303568e7998d2": {
     "model_module": "@jupyter-widgets/controls",
     "model_module_version": "1.5.0",
     "model_name": "DescriptionStyleModel",
     "state": {
      "_model_module": "@jupyter-widgets/controls",
      "_model_module_version": "1.5.0",
      "_model_name": "DescriptionStyleModel",
      "_view_count": null,
      "_view_module": "@jupyter-widgets/base",
      "_view_module_version": "1.2.0",
      "_view_name": "StyleView",
      "description_width": ""
     }
    },
    "ba17b9d1e0d048b4b957049fcdb523c1": {
     "model_module": "@jupyter-widgets/controls",
     "model_module_version": "1.5.0",
     "model_name": "FloatProgressModel",
     "state": {
      "_dom_classes": [],
      "_model_module": "@jupyter-widgets/controls",
      "_model_module_version": "1.5.0",
      "_model_name": "FloatProgressModel",
      "_view_count": null,
      "_view_module": "@jupyter-widgets/controls",
      "_view_module_version": "1.5.0",
      "_view_name": "ProgressView",
      "bar_style": "info",
      "description": "",
      "description_tooltip": null,
      "layout": "IPY_MODEL_b20546bae92b47a19319ebbaffd5cd4f",
      "max": 1,
      "min": 0,
      "orientation": "horizontal",
      "style": "IPY_MODEL_1cbcb5327dee4943b8e4fb1564a5c3f1",
      "value": 1
     }
    },
    "c348612d71964dc1babfb7cc08f8fca4": {
     "model_module": "@jupyter-widgets/controls",
     "model_module_version": "1.5.0",
     "model_name": "HBoxModel",
     "state": {
      "_dom_classes": [],
      "_model_module": "@jupyter-widgets/controls",
      "_model_module_version": "1.5.0",
      "_model_name": "HBoxModel",
      "_view_count": null,
      "_view_module": "@jupyter-widgets/controls",
      "_view_module_version": "1.5.0",
      "_view_name": "HBoxView",
      "box_style": "",
      "children": [
       "IPY_MODEL_d6283f43969240518b64370909f65a5b",
       "IPY_MODEL_435621bdba88454f93db58647d82a1b2",
       "IPY_MODEL_890e5d9f02e344eeb7392d9fcbcdf4c7"
      ],
      "layout": "IPY_MODEL_382bcbc6b4904de280a6292e6d2b005f"
     }
    },
    "c66dee0fb7ba46ebad8273e6c573e260": {
     "model_module": "@jupyter-widgets/controls",
     "model_module_version": "1.5.0",
     "model_name": "DescriptionStyleModel",
     "state": {
      "_model_module": "@jupyter-widgets/controls",
      "_model_module_version": "1.5.0",
      "_model_name": "DescriptionStyleModel",
      "_view_count": null,
      "_view_module": "@jupyter-widgets/base",
      "_view_module_version": "1.2.0",
      "_view_name": "StyleView",
      "description_width": ""
     }
    },
    "d0326d7790de4174b6eb445a5d25df2a": {
     "model_module": "@jupyter-widgets/controls",
     "model_module_version": "1.5.0",
     "model_name": "HBoxModel",
     "state": {
      "_dom_classes": [],
      "_model_module": "@jupyter-widgets/controls",
      "_model_module_version": "1.5.0",
      "_model_name": "HBoxModel",
      "_view_count": null,
      "_view_module": "@jupyter-widgets/controls",
      "_view_module_version": "1.5.0",
      "_view_name": "HBoxView",
      "box_style": "",
      "children": [
       "IPY_MODEL_eddad50a15174153a56dc0a9f36d274d",
       "IPY_MODEL_4fd9d48e464b4db7b53db0fa9ed3a22d",
       "IPY_MODEL_a73176eb879d4c5482ed87cd8dd4cabc"
      ],
      "layout": "IPY_MODEL_4c4f4062167549468b24d1a85dcc4bac"
     }
    },
    "d6283f43969240518b64370909f65a5b": {
     "model_module": "@jupyter-widgets/controls",
     "model_module_version": "1.5.0",
     "model_name": "HTMLModel",
     "state": {
      "_dom_classes": [],
      "_model_module": "@jupyter-widgets/controls",
      "_model_module_version": "1.5.0",
      "_model_name": "HTMLModel",
      "_view_count": null,
      "_view_module": "@jupyter-widgets/controls",
      "_view_module_version": "1.5.0",
      "_view_name": "HTMLView",
      "description": "",
      "description_tooltip": null,
      "layout": "IPY_MODEL_9db4de6c16e846758b550851cb833922",
      "placeholder": "​",
      "style": "IPY_MODEL_c66dee0fb7ba46ebad8273e6c573e260",
      "value": ""
     }
    },
    "d6f224829f4e41fd8b5d4e5f68128cb6": {
     "model_module": "@jupyter-widgets/base",
     "model_module_version": "1.2.0",
     "model_name": "LayoutModel",
     "state": {
      "_model_module": "@jupyter-widgets/base",
      "_model_module_version": "1.2.0",
      "_model_name": "LayoutModel",
      "_view_count": null,
      "_view_module": "@jupyter-widgets/base",
      "_view_module_version": "1.2.0",
      "_view_name": "LayoutView",
      "align_content": null,
      "align_items": null,
      "align_self": null,
      "border": null,
      "bottom": null,
      "display": null,
      "flex": null,
      "flex_flow": null,
      "grid_area": null,
      "grid_auto_columns": null,
      "grid_auto_flow": null,
      "grid_auto_rows": null,
      "grid_column": null,
      "grid_gap": null,
      "grid_row": null,
      "grid_template_areas": null,
      "grid_template_columns": null,
      "grid_template_rows": null,
      "height": null,
      "justify_content": null,
      "justify_items": null,
      "left": null,
      "margin": null,
      "max_height": null,
      "max_width": null,
      "min_height": null,
      "min_width": null,
      "object_fit": null,
      "object_position": null,
      "order": null,
      "overflow": null,
      "overflow_x": null,
      "overflow_y": null,
      "padding": null,
      "right": null,
      "top": null,
      "visibility": null,
      "width": null
     }
    },
    "d72b7480dfe740629d6ff7dbb6f5dee2": {
     "model_module": "@jupyter-widgets/base",
     "model_module_version": "1.2.0",
     "model_name": "LayoutModel",
     "state": {
      "_model_module": "@jupyter-widgets/base",
      "_model_module_version": "1.2.0",
      "_model_name": "LayoutModel",
      "_view_count": null,
      "_view_module": "@jupyter-widgets/base",
      "_view_module_version": "1.2.0",
      "_view_name": "LayoutView",
      "align_content": null,
      "align_items": null,
      "align_self": null,
      "border": null,
      "bottom": null,
      "display": null,
      "flex": null,
      "flex_flow": null,
      "grid_area": null,
      "grid_auto_columns": null,
      "grid_auto_flow": null,
      "grid_auto_rows": null,
      "grid_column": null,
      "grid_gap": null,
      "grid_row": null,
      "grid_template_areas": null,
      "grid_template_columns": null,
      "grid_template_rows": null,
      "height": null,
      "justify_content": null,
      "justify_items": null,
      "left": null,
      "margin": null,
      "max_height": null,
      "max_width": null,
      "min_height": null,
      "min_width": null,
      "object_fit": null,
      "object_position": null,
      "order": null,
      "overflow": null,
      "overflow_x": null,
      "overflow_y": null,
      "padding": null,
      "right": null,
      "top": null,
      "visibility": null,
      "width": null
     }
    },
    "d785ba9b272c424f939f7d3a2d6d3f12": {
     "model_module": "@jupyter-widgets/controls",
     "model_module_version": "1.5.0",
     "model_name": "ProgressStyleModel",
     "state": {
      "_model_module": "@jupyter-widgets/controls",
      "_model_module_version": "1.5.0",
      "_model_name": "ProgressStyleModel",
      "_view_count": null,
      "_view_module": "@jupyter-widgets/base",
      "_view_module_version": "1.2.0",
      "_view_name": "StyleView",
      "bar_color": null,
      "description_width": ""
     }
    },
    "d9c28b4fbd6c4bb1acb59297644d3d76": {
     "model_module": "@jupyter-widgets/base",
     "model_module_version": "1.2.0",
     "model_name": "LayoutModel",
     "state": {
      "_model_module": "@jupyter-widgets/base",
      "_model_module_version": "1.2.0",
      "_model_name": "LayoutModel",
      "_view_count": null,
      "_view_module": "@jupyter-widgets/base",
      "_view_module_version": "1.2.0",
      "_view_name": "LayoutView",
      "align_content": null,
      "align_items": null,
      "align_self": null,
      "border": null,
      "bottom": null,
      "display": null,
      "flex": null,
      "flex_flow": null,
      "grid_area": null,
      "grid_auto_columns": null,
      "grid_auto_flow": null,
      "grid_auto_rows": null,
      "grid_column": null,
      "grid_gap": null,
      "grid_row": null,
      "grid_template_areas": null,
      "grid_template_columns": null,
      "grid_template_rows": null,
      "height": null,
      "justify_content": null,
      "justify_items": null,
      "left": null,
      "margin": null,
      "max_height": null,
      "max_width": null,
      "min_height": null,
      "min_width": null,
      "object_fit": null,
      "object_position": null,
      "order": null,
      "overflow": null,
      "overflow_x": null,
      "overflow_y": null,
      "padding": null,
      "right": null,
      "top": null,
      "visibility": null,
      "width": null
     }
    },
    "e48a52d09dc34cacaf440f3b00158c5f": {
     "model_module": "@jupyter-widgets/controls",
     "model_module_version": "1.5.0",
     "model_name": "HTMLModel",
     "state": {
      "_dom_classes": [],
      "_model_module": "@jupyter-widgets/controls",
      "_model_module_version": "1.5.0",
      "_model_name": "HTMLModel",
      "_view_count": null,
      "_view_module": "@jupyter-widgets/controls",
      "_view_module_version": "1.5.0",
      "_view_name": "HTMLView",
      "description": "",
      "description_tooltip": null,
      "layout": "IPY_MODEL_f2c9cd975966464492c10120b11a24d4",
      "placeholder": "​",
      "style": "IPY_MODEL_7699b9a3dfa54faca553a5b4233f159a",
      "value": "Downloading: 100%"
     }
    },
    "e4a3b93e04df4f3cbb39d4fb12f2face": {
     "model_module": "@jupyter-widgets/controls",
     "model_module_version": "1.5.0",
     "model_name": "DescriptionStyleModel",
     "state": {
      "_model_module": "@jupyter-widgets/controls",
      "_model_module_version": "1.5.0",
      "_model_name": "DescriptionStyleModel",
      "_view_count": null,
      "_view_module": "@jupyter-widgets/base",
      "_view_module_version": "1.2.0",
      "_view_name": "StyleView",
      "description_width": ""
     }
    },
    "e5830105ba1d499390b6f8c9360cc997": {
     "model_module": "@jupyter-widgets/base",
     "model_module_version": "1.2.0",
     "model_name": "LayoutModel",
     "state": {
      "_model_module": "@jupyter-widgets/base",
      "_model_module_version": "1.2.0",
      "_model_name": "LayoutModel",
      "_view_count": null,
      "_view_module": "@jupyter-widgets/base",
      "_view_module_version": "1.2.0",
      "_view_name": "LayoutView",
      "align_content": null,
      "align_items": null,
      "align_self": null,
      "border": null,
      "bottom": null,
      "display": null,
      "flex": null,
      "flex_flow": null,
      "grid_area": null,
      "grid_auto_columns": null,
      "grid_auto_flow": null,
      "grid_auto_rows": null,
      "grid_column": null,
      "grid_gap": null,
      "grid_row": null,
      "grid_template_areas": null,
      "grid_template_columns": null,
      "grid_template_rows": null,
      "height": null,
      "justify_content": null,
      "justify_items": null,
      "left": null,
      "margin": null,
      "max_height": null,
      "max_width": null,
      "min_height": null,
      "min_width": null,
      "object_fit": null,
      "object_position": null,
      "order": null,
      "overflow": null,
      "overflow_x": null,
      "overflow_y": null,
      "padding": null,
      "right": null,
      "top": null,
      "visibility": null,
      "width": "20px"
     }
    },
    "e5f2ba89ab9c45ff964ff844dbafc6f7": {
     "model_module": "@jupyter-widgets/controls",
     "model_module_version": "1.5.0",
     "model_name": "FloatProgressModel",
     "state": {
      "_dom_classes": [],
      "_model_module": "@jupyter-widgets/controls",
      "_model_module_version": "1.5.0",
      "_model_name": "FloatProgressModel",
      "_view_count": null,
      "_view_module": "@jupyter-widgets/controls",
      "_view_module_version": "1.5.0",
      "_view_name": "ProgressView",
      "bar_style": "success",
      "description": "",
      "description_tooltip": null,
      "layout": "IPY_MODEL_5aab437c91444ac9a03ebbf9c308ecff",
      "max": 1,
      "min": 0,
      "orientation": "horizontal",
      "style": "IPY_MODEL_5e6ee542e32049c8aa82f3bed37cafaf",
      "value": 1
     }
    },
    "e61efc6dea574b56b8514deaeee4787d": {
     "model_module": "@jupyter-widgets/controls",
     "model_module_version": "1.5.0",
     "model_name": "FloatProgressModel",
     "state": {
      "_dom_classes": [],
      "_model_module": "@jupyter-widgets/controls",
      "_model_module_version": "1.5.0",
      "_model_name": "FloatProgressModel",
      "_view_count": null,
      "_view_module": "@jupyter-widgets/controls",
      "_view_module_version": "1.5.0",
      "_view_name": "ProgressView",
      "bar_style": "success",
      "description": "",
      "description_tooltip": null,
      "layout": "IPY_MODEL_52e87d83d1ca4f44a835571f879d1b56",
      "max": 1173,
      "min": 0,
      "orientation": "horizontal",
      "style": "IPY_MODEL_3bdfb7ab4024406da4dee1f6b6652d85",
      "value": 1173
     }
    },
    "e7e3c967b6d94e29af7454b8493904d4": {
     "model_module": "@jupyter-widgets/base",
     "model_module_version": "1.2.0",
     "model_name": "LayoutModel",
     "state": {
      "_model_module": "@jupyter-widgets/base",
      "_model_module_version": "1.2.0",
      "_model_name": "LayoutModel",
      "_view_count": null,
      "_view_module": "@jupyter-widgets/base",
      "_view_module_version": "1.2.0",
      "_view_name": "LayoutView",
      "align_content": null,
      "align_items": null,
      "align_self": null,
      "border": null,
      "bottom": null,
      "display": null,
      "flex": null,
      "flex_flow": null,
      "grid_area": null,
      "grid_auto_columns": null,
      "grid_auto_flow": null,
      "grid_auto_rows": null,
      "grid_column": null,
      "grid_gap": null,
      "grid_row": null,
      "grid_template_areas": null,
      "grid_template_columns": null,
      "grid_template_rows": null,
      "height": null,
      "justify_content": null,
      "justify_items": null,
      "left": null,
      "margin": null,
      "max_height": null,
      "max_width": null,
      "min_height": null,
      "min_width": null,
      "object_fit": null,
      "object_position": null,
      "order": null,
      "overflow": null,
      "overflow_x": null,
      "overflow_y": null,
      "padding": null,
      "right": null,
      "top": null,
      "visibility": null,
      "width": null
     }
    },
    "e8893e4bdfbc4d1695ea314e67566cfe": {
     "model_module": "@jupyter-widgets/controls",
     "model_module_version": "1.5.0",
     "model_name": "ProgressStyleModel",
     "state": {
      "_model_module": "@jupyter-widgets/controls",
      "_model_module_version": "1.5.0",
      "_model_name": "ProgressStyleModel",
      "_view_count": null,
      "_view_module": "@jupyter-widgets/base",
      "_view_module_version": "1.2.0",
      "_view_name": "StyleView",
      "bar_color": null,
      "description_width": ""
     }
    },
    "e8e173d30e18402cb2213b470161619b": {
     "model_module": "@jupyter-widgets/controls",
     "model_module_version": "1.5.0",
     "model_name": "HTMLModel",
     "state": {
      "_dom_classes": [],
      "_model_module": "@jupyter-widgets/controls",
      "_model_module_version": "1.5.0",
      "_model_name": "HTMLModel",
      "_view_count": null,
      "_view_module": "@jupyter-widgets/controls",
      "_view_module_version": "1.5.0",
      "_view_name": "HTMLView",
      "description": "",
      "description_tooltip": null,
      "layout": "IPY_MODEL_d6f224829f4e41fd8b5d4e5f68128cb6",
      "placeholder": "​",
      "style": "IPY_MODEL_b6818317feec4ff8873303568e7998d2",
      "value": " 546/0 [00:02&lt;00:00, 274.27 examples/s]"
     }
    },
    "eddad50a15174153a56dc0a9f36d274d": {
     "model_module": "@jupyter-widgets/controls",
     "model_module_version": "1.5.0",
     "model_name": "HTMLModel",
     "state": {
      "_dom_classes": [],
      "_model_module": "@jupyter-widgets/controls",
      "_model_module_version": "1.5.0",
      "_model_name": "HTMLModel",
      "_view_count": null,
      "_view_module": "@jupyter-widgets/controls",
      "_view_module_version": "1.5.0",
      "_view_name": "HTMLView",
      "description": "",
      "description_tooltip": null,
      "layout": "IPY_MODEL_5df16d16d08e49898ef2a3705fc829d2",
      "placeholder": "​",
      "style": "IPY_MODEL_fc60ae7a9176472283fd6ade92652c39",
      "value": "Downloading: 100%"
     }
    },
    "ee57c2fadd414a2c88166358f5d6faf6": {
     "model_module": "@jupyter-widgets/base",
     "model_module_version": "1.2.0",
     "model_name": "LayoutModel",
     "state": {
      "_model_module": "@jupyter-widgets/base",
      "_model_module_version": "1.2.0",
      "_model_name": "LayoutModel",
      "_view_count": null,
      "_view_module": "@jupyter-widgets/base",
      "_view_module_version": "1.2.0",
      "_view_name": "LayoutView",
      "align_content": null,
      "align_items": null,
      "align_self": null,
      "border": null,
      "bottom": null,
      "display": null,
      "flex": null,
      "flex_flow": null,
      "grid_area": null,
      "grid_auto_columns": null,
      "grid_auto_flow": null,
      "grid_auto_rows": null,
      "grid_column": null,
      "grid_gap": null,
      "grid_row": null,
      "grid_template_areas": null,
      "grid_template_columns": null,
      "grid_template_rows": null,
      "height": null,
      "justify_content": null,
      "justify_items": null,
      "left": null,
      "margin": null,
      "max_height": null,
      "max_width": null,
      "min_height": null,
      "min_width": null,
      "object_fit": null,
      "object_position": null,
      "order": null,
      "overflow": null,
      "overflow_x": null,
      "overflow_y": null,
      "padding": null,
      "right": null,
      "top": null,
      "visibility": null,
      "width": null
     }
    },
    "f0d4b4b5382b40e59e9cd396d83b3bfb": {
     "model_module": "@jupyter-widgets/controls",
     "model_module_version": "1.5.0",
     "model_name": "DescriptionStyleModel",
     "state": {
      "_model_module": "@jupyter-widgets/controls",
      "_model_module_version": "1.5.0",
      "_model_name": "DescriptionStyleModel",
      "_view_count": null,
      "_view_module": "@jupyter-widgets/base",
      "_view_module_version": "1.2.0",
      "_view_name": "StyleView",
      "description_width": ""
     }
    },
    "f2c9cd975966464492c10120b11a24d4": {
     "model_module": "@jupyter-widgets/base",
     "model_module_version": "1.2.0",
     "model_name": "LayoutModel",
     "state": {
      "_model_module": "@jupyter-widgets/base",
      "_model_module_version": "1.2.0",
      "_model_name": "LayoutModel",
      "_view_count": null,
      "_view_module": "@jupyter-widgets/base",
      "_view_module_version": "1.2.0",
      "_view_name": "LayoutView",
      "align_content": null,
      "align_items": null,
      "align_self": null,
      "border": null,
      "bottom": null,
      "display": null,
      "flex": null,
      "flex_flow": null,
      "grid_area": null,
      "grid_auto_columns": null,
      "grid_auto_flow": null,
      "grid_auto_rows": null,
      "grid_column": null,
      "grid_gap": null,
      "grid_row": null,
      "grid_template_areas": null,
      "grid_template_columns": null,
      "grid_template_rows": null,
      "height": null,
      "justify_content": null,
      "justify_items": null,
      "left": null,
      "margin": null,
      "max_height": null,
      "max_width": null,
      "min_height": null,
      "min_width": null,
      "object_fit": null,
      "object_position": null,
      "order": null,
      "overflow": null,
      "overflow_x": null,
      "overflow_y": null,
      "padding": null,
      "right": null,
      "top": null,
      "visibility": null,
      "width": null
     }
    },
    "f63ac4c86db54d83a0bbbb60b7c99284": {
     "model_module": "@jupyter-widgets/controls",
     "model_module_version": "1.5.0",
     "model_name": "HTMLModel",
     "state": {
      "_dom_classes": [],
      "_model_module": "@jupyter-widgets/controls",
      "_model_module_version": "1.5.0",
      "_model_name": "HTMLModel",
      "_view_count": null,
      "_view_module": "@jupyter-widgets/controls",
      "_view_module_version": "1.5.0",
      "_view_name": "HTMLView",
      "description": "",
      "description_tooltip": null,
      "layout": "IPY_MODEL_65baef21f5744b09a2cf91563a2fcdb4",
      "placeholder": "​",
      "style": "IPY_MODEL_9909ef2087334aa3a373ad0b6d1451c8",
      "value": " 400000/? [00:49&lt;00:00, 9452.24it/s]"
     }
    },
    "f65d2670e92c41c0aa65311d1ed3f3d3": {
     "model_module": "@jupyter-widgets/base",
     "model_module_version": "1.2.0",
     "model_name": "LayoutModel",
     "state": {
      "_model_module": "@jupyter-widgets/base",
      "_model_module_version": "1.2.0",
      "_model_name": "LayoutModel",
      "_view_count": null,
      "_view_module": "@jupyter-widgets/base",
      "_view_module_version": "1.2.0",
      "_view_name": "LayoutView",
      "align_content": null,
      "align_items": null,
      "align_self": null,
      "border": null,
      "bottom": null,
      "display": null,
      "flex": null,
      "flex_flow": null,
      "grid_area": null,
      "grid_auto_columns": null,
      "grid_auto_flow": null,
      "grid_auto_rows": null,
      "grid_column": null,
      "grid_gap": null,
      "grid_row": null,
      "grid_template_areas": null,
      "grid_template_columns": null,
      "grid_template_rows": null,
      "height": null,
      "justify_content": null,
      "justify_items": null,
      "left": null,
      "margin": null,
      "max_height": null,
      "max_width": null,
      "min_height": null,
      "min_width": null,
      "object_fit": null,
      "object_position": null,
      "order": null,
      "overflow": null,
      "overflow_x": null,
      "overflow_y": null,
      "padding": null,
      "right": null,
      "top": null,
      "visibility": null,
      "width": null
     }
    },
    "f6657dee843d4b90b9c85b61c22295c6": {
     "model_module": "@jupyter-widgets/controls",
     "model_module_version": "1.5.0",
     "model_name": "DescriptionStyleModel",
     "state": {
      "_model_module": "@jupyter-widgets/controls",
      "_model_module_version": "1.5.0",
      "_model_name": "DescriptionStyleModel",
      "_view_count": null,
      "_view_module": "@jupyter-widgets/base",
      "_view_module_version": "1.2.0",
      "_view_name": "StyleView",
      "description_width": ""
     }
    },
    "f9643a7e5df14a51b7859f994ccf0815": {
     "model_module": "@jupyter-widgets/controls",
     "model_module_version": "1.5.0",
     "model_name": "ProgressStyleModel",
     "state": {
      "_model_module": "@jupyter-widgets/controls",
      "_model_module_version": "1.5.0",
      "_model_name": "ProgressStyleModel",
      "_view_count": null,
      "_view_module": "@jupyter-widgets/base",
      "_view_module_version": "1.2.0",
      "_view_name": "StyleView",
      "bar_color": null,
      "description_width": ""
     }
    },
    "fc60ae7a9176472283fd6ade92652c39": {
     "model_module": "@jupyter-widgets/controls",
     "model_module_version": "1.5.0",
     "model_name": "DescriptionStyleModel",
     "state": {
      "_model_module": "@jupyter-widgets/controls",
      "_model_module_version": "1.5.0",
      "_model_name": "DescriptionStyleModel",
      "_view_count": null,
      "_view_module": "@jupyter-widgets/base",
      "_view_module_version": "1.2.0",
      "_view_name": "StyleView",
      "description_width": ""
     }
    },
    "feeefa9b7dc5415c82477a4c40cfc264": {
     "model_module": "@jupyter-widgets/base",
     "model_module_version": "1.2.0",
     "model_name": "LayoutModel",
     "state": {
      "_model_module": "@jupyter-widgets/base",
      "_model_module_version": "1.2.0",
      "_model_name": "LayoutModel",
      "_view_count": null,
      "_view_module": "@jupyter-widgets/base",
      "_view_module_version": "1.2.0",
      "_view_name": "LayoutView",
      "align_content": null,
      "align_items": null,
      "align_self": null,
      "border": null,
      "bottom": null,
      "display": null,
      "flex": null,
      "flex_flow": null,
      "grid_area": null,
      "grid_auto_columns": null,
      "grid_auto_flow": null,
      "grid_auto_rows": null,
      "grid_column": null,
      "grid_gap": null,
      "grid_row": null,
      "grid_template_areas": null,
      "grid_template_columns": null,
      "grid_template_rows": null,
      "height": null,
      "justify_content": null,
      "justify_items": null,
      "left": null,
      "margin": null,
      "max_height": null,
      "max_width": null,
      "min_height": null,
      "min_width": null,
      "object_fit": null,
      "object_position": null,
      "order": null,
      "overflow": null,
      "overflow_x": null,
      "overflow_y": null,
      "padding": null,
      "right": null,
      "top": null,
      "visibility": null,
      "width": null
     }
    }
   }
  }
 },
 "nbformat": 4,
 "nbformat_minor": 1
}
