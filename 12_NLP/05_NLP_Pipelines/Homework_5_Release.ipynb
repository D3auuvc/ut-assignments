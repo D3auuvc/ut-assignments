{
 "cells": [
  {
   "cell_type": "markdown",
   "metadata": {
    "id": "qNTTqTsAtkWu"
   },
   "source": [
    "## Homework 5\n",
    "### NLP Pipelines\n",
    "\n",
    "Welcome to Homework 5! \n",
    "\n",
    "The homework contains several tasks. You can find the amount of points that you get for the correct solution in the task header. Maximum amount of points for each homework is _four_.\n",
    "\n",
    "The **grading** for each task is the following:\n",
    "- correct answer - **full points**\n",
    "- insufficient solution or solution resulting in the incorrect output - **half points**\n",
    "- no answer or completely wrong solution - **no points**\n",
    "\n",
    "Even if you don't know how to solve the task, we encourage you to write down your thoughts and progress and try to address the issues that stop you from completing the task.\n",
    "\n",
    "When working on the written tasks, try to make your answers short and accurate. Most of the times, it is possible to answer the question in 1-3 sentences.\n",
    "\n",
    "When writing code, make it readable. Choose appropriate names for your variables (`a = 'cat'` - not good, `word = 'cat'` - good). Avoid constructing lines of code longer than 100 characters (79 characters is ideal). If needed, provide the commentaries for your code, however, a good code should be easily readable without them :)\n",
    "\n",
    "Finally, all your answers should be written only by yourself. If you copy them from other sources it will be considered as an academic fraud. You can discuss the tasks with your classmates but each solution must be individual.\n",
    "\n",
    "<font color='red'>**Important!:**</font> **before sending your solution, do the `Kernel -> Restart & Run All` to ensure that all your code works.**"
   ]
  },
  {
   "cell_type": "code",
   "execution_count": 1,
   "metadata": {
    "id": "IzA9t3b6DJDI"
   },
   "outputs": [],
   "source": [
    "!pip install --quiet datasets stanza conllu networkx torchmetrics"
   ]
  },
  {
   "cell_type": "code",
   "execution_count": 2,
   "metadata": {
    "id": "qx45lD2dDLv4"
   },
   "outputs": [],
   "source": [
    "from datasets import load_dataset\n",
    "import stanza\n",
    "import re\n",
    "import matplotlib.pyplot as plt\n",
    "\n",
    "import torch\n",
    "from torch.nn.utils.rnn import pad_sequence\n",
    "from torch.utils.data import TensorDataset, DataLoader, random_split\n",
    "import torch.nn as nn\n",
    "from torchmetrics.functional import f1_score\n",
    "from tqdm.notebook import tqdm\n",
    "import json"
   ]
  },
  {
   "cell_type": "markdown",
   "metadata": {
    "id": "1MvfAW7StyXm"
   },
   "source": [
    "Load [Relation Extraction on SemEval-2010 Task 8](https://huggingface.co/datasets/sem_eval_2010_task_8) dataset.\n",
    "\n",
    "In this dataset, two words are marked with `<e1></e1>` and `<e2></e2>` symbols, and the label is a relation between them.\n",
    "\n",
    "For example:\n",
    "\n",
    "`The <e1>student</e1> <e2>association</e2> is the voice of the undergraduate student population of the State University of New York at Buffalo.` \n",
    "\n",
    "`(Member-Collection(e1,e2))`"
   ]
  },
  {
   "cell_type": "code",
   "execution_count": 3,
   "metadata": {
    "colab": {
     "base_uri": "https://localhost:8080/",
     "height": 104,
     "referenced_widgets": [
      "b336cafa8a56493cbfa6abbdc98ffbaf",
      "17d0ff307b8644f890f4c4604124d9c3",
      "cbe53b7e69484a7699cc0f156cb2a0e1",
      "96a27275537149208504939a5e288626",
      "3676c928a62b4a4cb1b7937cdfd5077f",
      "6b712c8de3be4e12a37949dd8487d9ae",
      "1d36c40d855740b1a4fd1535081a0c41",
      "f3f87e78111d4ac09bfa357fbed90dcc",
      "39d8b1cf15874ccda678fc38643e2aa2",
      "cdce12917515468fab74b45560fcae47",
      "d1d8e3e467ba484ab56c8ab75dbc4cac"
     ]
    },
    "id": "mc56vejSDS_D",
    "outputId": "f70989ce-5264-4f86-c7e3-83d6e6a860fc"
   },
   "outputs": [
    {
     "name": "stderr",
     "output_type": "stream",
     "text": [
      "Using custom data configuration default\n",
      "Reusing dataset sem_eval2010_task8 (/root/.cache/huggingface/datasets/sem_eval2010_task8/default/1.0.0/8545d1995bbbade386acf5c4e2bef5589d8387ae0a93356407dfb54cdb234416)\n"
     ]
    },
    {
     "data": {
      "application/vnd.jupyter.widget-view+json": {
       "model_id": "b336cafa8a56493cbfa6abbdc98ffbaf",
       "version_major": 2,
       "version_minor": 0
      },
      "text/plain": [
       "  0%|          | 0/2 [00:00<?, ?it/s]"
      ]
     },
     "metadata": {},
     "output_type": "display_data"
    }
   ],
   "source": [
    "dataset = load_dataset(\"sem_eval_2010_task_8\")"
   ]
  },
  {
   "cell_type": "markdown",
   "metadata": {
    "id": "a_7XYM6_uxED"
   },
   "source": [
    "Load the Stanza pipeline."
   ]
  },
  {
   "cell_type": "code",
   "execution_count": 4,
   "metadata": {
    "colab": {
     "base_uri": "https://localhost:8080/",
     "height": 129,
     "referenced_widgets": [
      "16bbc023e9fa4e5485033bf0bd2717d3",
      "18ec62dc5ded4c2bbb107ca92ed166ac",
      "9a3a94c404604f2581ff9216460303ca",
      "ebb4bbb674774ecaa3338e23bc0201e5",
      "84767b93fe544b9abfa18586e1b031f0",
      "99847c83ef19467b9a15bbe60000f031",
      "6336bd232df14990b94c0859b03410d4",
      "f5b586a1967a4ddba61ebd39fbb6f4d4",
      "3f925a6341f04ed2812ee1b9ca2d8c39",
      "ce150d1c42354a6bb510bc6c6b420e05",
      "ad63c8e3e1584a83a96376a61b30fcb6"
     ]
    },
    "id": "lxYYYpDNDjkY",
    "outputId": "58e9adf1-51ab-456c-8125-9e7516431277"
   },
   "outputs": [
    {
     "data": {
      "application/vnd.jupyter.widget-view+json": {
       "model_id": "16bbc023e9fa4e5485033bf0bd2717d3",
       "version_major": 2,
       "version_minor": 0
      },
      "text/plain": [
       "Downloading https://raw.githubusercontent.com/stanfordnlp/stanza-resources/main/resources_1.3.0.json:   0%|   …"
      ]
     },
     "metadata": {},
     "output_type": "display_data"
    },
    {
     "name": "stderr",
     "output_type": "stream",
     "text": [
      "2022-03-14 21:49:30 INFO: Downloading default packages for language: en (English)...\n",
      "2022-03-14 21:49:34 INFO: File exists: /root/stanza_resources/en/default.zip.\n",
      "2022-03-14 21:49:43 INFO: Finished downloading models and saved to /root/stanza_resources.\n"
     ]
    }
   ],
   "source": [
    "stanza.download('en')"
   ]
  },
  {
   "cell_type": "code",
   "execution_count": 5,
   "metadata": {
    "colab": {
     "base_uri": "https://localhost:8080/"
    },
    "id": "FL5gHNmgEF3t",
    "outputId": "effcad0f-a6b7-4cf8-b2a0-959ab16e3086"
   },
   "outputs": [
    {
     "name": "stderr",
     "output_type": "stream",
     "text": [
      "2022-03-14 21:49:48 INFO: Loading these models for language: en (English):\n",
      "========================\n",
      "| Processor | Package  |\n",
      "------------------------\n",
      "| tokenize  | combined |\n",
      "| pos       | combined |\n",
      "| lemma     | combined |\n",
      "| depparse  | combined |\n",
      "========================\n",
      "\n",
      "2022-03-14 21:49:48 INFO: Use device: gpu\n",
      "2022-03-14 21:49:48 INFO: Loading: tokenize\n",
      "2022-03-14 21:49:51 INFO: Loading: pos\n",
      "2022-03-14 21:49:51 INFO: Loading: lemma\n",
      "2022-03-14 21:49:51 INFO: Loading: depparse\n",
      "2022-03-14 21:49:52 INFO: Done loading processors!\n"
     ]
    }
   ],
   "source": [
    "nlp = stanza.Pipeline('en', processors='tokenize,pos,lemma,depparse', tokenize_no_ssplit=True)"
   ]
  },
  {
   "cell_type": "markdown",
   "metadata": {
    "id": "A58ahu0au7aP"
   },
   "source": [
    "### Task 1. Replace the entities (0.5 points)\n",
    "\n",
    "Write a function to replace that entity tags and the text between them into `ENTITY1` and `ENTITY2` accordingly.\n",
    "\n",
    "For example:\n",
    "\n",
    "Input: `The <e1>student</e1> <e2>association</e2> is the voice of the undergraduate student population of the State University of New York at Buffalo.`\n",
    "\n",
    "Output: `The ENTITY1 ENTITY2 is the voice of the undergraduate student population of the State University of New York at Buffalo.`"
   ]
  },
  {
   "cell_type": "code",
   "execution_count": 7,
   "metadata": {
    "id": "y0a-wwQJFK6r"
   },
   "outputs": [],
   "source": [
    "def replace_entities(text):\n",
    "    ### YOUR CODE HERE\n",
    "    import re\n",
    "    pattern = re.compile(r\"</?e\\d+>\")\n",
    "    sent = text.split()\n",
    "    for i in range(len(sent)):\n",
    "      if pattern.search(sent[i]):\n",
    "        digit=re.findall(r'\\d+',sent[i])\n",
    "        sent[i] =f'ENTITY{digit[0]}'\n",
    "    text=\" \".join(sent)\n",
    "    return text"
   ]
  },
  {
   "cell_type": "markdown",
   "metadata": {
    "id": "V7XGHj6TvadH"
   },
   "source": [
    "## Task 2. Preprocess the text. (1 point)\n",
    "\n",
    "For each sentece in the dataset, create five outputs:\n",
    "- Lowercased tokens\n",
    "- Deprels for each token\n",
    "- Relative position of each token to the first entity (as string)\n",
    "- Relative position of each token to the second entity (as string)\n",
    "- Labels\n",
    "\n",
    "Example:\n",
    "\n",
    "Input: `The system as described above has its greatest application in an arrayed <e1>configuration</e1> of antenna <e2>elements</e2>`\n",
    "\n",
    "Tokens: `['the',\n",
    "  'system',\n",
    "  'as',\n",
    "  'described',\n",
    "  'above',\n",
    "  'has',\n",
    "  'its',\n",
    "  'greatest',\n",
    "  'application',\n",
    "  'in',\n",
    "  'an',\n",
    "  'arrayed',\n",
    "  'entity1',\n",
    "  'of',\n",
    "  'antenna',\n",
    "  'entity2',\n",
    "  '.']`\n",
    "\n",
    "Deprels: `['det',\n",
    "  'nsubj',\n",
    "  'mark',\n",
    "  'acl',\n",
    "  'advmod',\n",
    "  'root',\n",
    "  'nmod:poss',\n",
    "  'amod',\n",
    "  'obj',\n",
    "  'case',\n",
    "  'det',\n",
    "  'amod',\n",
    "  'obl',\n",
    "  'case',\n",
    "  'nmod',\n",
    "  'flat',\n",
    "  'punct']`\n",
    "\n",
    "Position 1: `['-12',\n",
    "  '-11',\n",
    "  '-10',\n",
    "  '-9',\n",
    "  '-8',\n",
    "  '-7',\n",
    "  '-6',\n",
    "  '-5',\n",
    "  '-4',\n",
    "  '-3',\n",
    "  '-2',\n",
    "  '-1',\n",
    "  '0',\n",
    "  '1',\n",
    "  '2',\n",
    "  '3',\n",
    "  '4']`\n",
    "\n",
    "Position 2: `['-15',\n",
    "  '-14',\n",
    "  '-13',\n",
    "  '-12',\n",
    "  '-11',\n",
    "  '-10',\n",
    "  '-9',\n",
    "  '-8',\n",
    "  '-7',\n",
    "  '-6',\n",
    "  '-5',\n",
    "  '-4',\n",
    "  '-3',\n",
    "  '-2',\n",
    "  '-1',\n",
    "  '0',\n",
    "  '1']`"
   ]
  },
  {
   "cell_type": "code",
   "execution_count": 8,
   "metadata": {
    "id": "Z3k_UHoXHJMA"
   },
   "outputs": [],
   "source": [
    "def preprocess(dataset, pipeline):\n",
    "    doc = pipeline('\\n\\n'.join([replace_entities(item['sentence']) for item in dataset]))\n",
    "    sentences = []\n",
    "    deprels = []\n",
    "    pos_1 = []\n",
    "    pos_2 = []\n",
    "    relations = [item['relation'] for item in dataset]\n",
    "    for sentence in doc.sentences:\n",
    "        try:\n",
    "            ent1_id = [word.id for word in sentence.words if 'ENTITY1' in word.text][0] # Position of the first entity\n",
    "            ent2_id = [word.id for word in sentence.words if 'ENTITY2' in word.text][0] # Position of the second entity\n",
    "        except IndexError as e:\n",
    "            print([word.text for word in sentence.words])\n",
    "            raise e\n",
    "\n",
    "        ### YOUR CODE STARTS HERE\n",
    "        sentences.append([word['text'] for word in sentence.to_dict()])\n",
    "        deprels.append([word['deprel'] for word in sentence.to_dict()])\n",
    "        pos_1.append([str( int(word['id'])-int(ent1_id)) for word in sentence.to_dict()])\n",
    "        pos_2.append([str(int(word['id'])-int(ent2_id)) for word in sentence.to_dict()])\n",
    "        ### YOUR CODE ENDS HERE\n",
    "\n",
    "    return sentences, deprels, pos_1, pos_2, relations"
   ]
  },
  {
   "cell_type": "markdown",
   "metadata": {
    "id": "P5bQ3HurwxWo"
   },
   "source": [
    "Preprocess train and test sets."
   ]
  },
  {
   "cell_type": "code",
   "execution_count": 9,
   "metadata": {
    "id": "gRmPu6AqP_xB"
   },
   "outputs": [],
   "source": [
    "train_sents, train_deprels, train_pos_1, train_pos_2, train_rels = preprocess(dataset['train'], nlp)\n",
    "test_sents, test_deprels, test_pos_1, test_pos_2, test_rels = preprocess(dataset['test'], nlp)"
   ]
  },
  {
   "cell_type": "markdown",
   "metadata": {
    "id": "N6h6p2gZwtyF"
   },
   "source": [
    "Download and unzip word vectors."
   ]
  },
  {
   "cell_type": "code",
   "execution_count": 10,
   "metadata": {
    "colab": {
     "base_uri": "https://localhost:8080/"
    },
    "id": "xNEtiNV2TD4r",
    "outputId": "4349a8b3-72f5-48cf-8f0e-9e9d3fa74974"
   },
   "outputs": [
    {
     "name": "stdout",
     "output_type": "stream",
     "text": [
      "--2022-03-14 21:53:05--  https://nlp.stanford.edu/data/glove.6B.zip\n",
      "Resolving nlp.stanford.edu (nlp.stanford.edu)... 171.64.67.140\n",
      "Connecting to nlp.stanford.edu (nlp.stanford.edu)|171.64.67.140|:443... connected.\n",
      "HTTP request sent, awaiting response... 301 Moved Permanently\n",
      "Location: http://downloads.cs.stanford.edu/nlp/data/glove.6B.zip [following]\n",
      "--2022-03-14 21:53:05--  http://downloads.cs.stanford.edu/nlp/data/glove.6B.zip\n",
      "Resolving downloads.cs.stanford.edu (downloads.cs.stanford.edu)... 171.64.64.22\n",
      "Connecting to downloads.cs.stanford.edu (downloads.cs.stanford.edu)|171.64.64.22|:80... connected.\n",
      "HTTP request sent, awaiting response... 200 OK\n",
      "Length: 862182613 (822M) [application/zip]\n",
      "Saving to: ‘glove.6B.zip.1’\n",
      "\n",
      "glove.6B.zip.1      100%[===================>] 822.24M  5.08MB/s    in 2m 40s  \n",
      "\n",
      "utime(glove.6B.zip.1): No such file or directory\n",
      "2022-03-14 21:55:45 (5.14 MB/s) - ‘glove.6B.zip.1’ saved [862182613/862182613]\n",
      "\n",
      "Archive:  glove.6B.zip\n",
      "replace glove.6B.50d.txt? [y]es, [n]o, [A]ll, [N]one, [r]ename: y\n",
      "  inflating: glove.6B.50d.txt        \n",
      "replace glove.6B.100d.txt? [y]es, [n]o, [A]ll, [N]one, [r]ename: A\n",
      "  inflating: glove.6B.100d.txt       \n",
      "  inflating: glove.6B.200d.txt       \n",
      "  inflating: glove.6B.300d.txt       \n"
     ]
    }
   ],
   "source": [
    "!wget https://nlp.stanford.edu/data/glove.6B.zip\n",
    "!unzip glove.6B.zip"
   ]
  },
  {
   "cell_type": "code",
   "execution_count": 11,
   "metadata": {
    "colab": {
     "base_uri": "https://localhost:8080/",
     "height": 49,
     "referenced_widgets": [
      "a87dfc5ea1cb47369d374f2a735c9deb",
      "a57e7a8609b0486999e6cdbfb0eaeff5",
      "0448d1c8b8274a72a6a2a3c94d37ca6b",
      "93963ea0cda047fa849c7f41c844fce5",
      "dec9fcbee28c4a5893c641d801809694",
      "e3624da8284749b2b7710d5ebae2cdef",
      "6c5d15f5d3574108b11000a3c11abab1",
      "0fdc1501e28d403d82add0242a0ed04f",
      "decf700117d44ac3ac39559ae1f69c40",
      "643ac7ddc476416298123eb0def195ee",
      "0175806333904bc4898e047dfe9729c7"
     ]
    },
    "id": "8-Q4M4XRTfuv",
    "outputId": "5154fc64-d50d-480e-b44b-e82481f4ca94"
   },
   "outputs": [
    {
     "data": {
      "application/vnd.jupyter.widget-view+json": {
       "model_id": "a87dfc5ea1cb47369d374f2a735c9deb",
       "version_major": 2,
       "version_minor": 0
      },
      "text/plain": [
       "0it [00:00, ?it/s]"
      ]
     },
     "metadata": {},
     "output_type": "display_data"
    }
   ],
   "source": [
    "# Load the embeddings into the memory\n",
    "glove_path = 'glove.6B.300d.txt'\n",
    "glove_vecs = []\n",
    "idx2token = []\n",
    "with open(glove_path, encoding='utf-8') as f:\n",
    "    for line in tqdm(f):\n",
    "        line = line.strip().split()\n",
    "        word = line[0]\n",
    "        vec = [float(x) for x in line[1:]]\n",
    "        glove_vecs.append(vec)\n",
    "        idx2token.append(word)\n",
    "\n",
    "# Convert to tensor\n",
    "glove_vecs = torch.tensor(glove_vecs)\n",
    "\n",
    "# Put zero vector for padding and mean for unknown\n",
    "glove_vecs = torch.vstack(\n",
    "    [\n",
    "        torch.zeros(1, glove_vecs.size(1)),\n",
    "        torch.mean(glove_vecs, dim=0).unsqueeze(0),\n",
    "        torch.rand(1, glove_vecs.size(1)),\n",
    "        torch.rand(1, glove_vecs.size(1)),\n",
    "        glove_vecs,\n",
    "    ]\n",
    ")\n",
    "\n",
    "# Save the embeddings in Pytorch format\n",
    "torch.save(glove_vecs, 'glove.6B.300d.pt')\n",
    "\n",
    "# Add special pad and unk tokens to the vocab\n",
    "PAD = '<pad>'\n",
    "PAD_ID = 0\n",
    "UNK = '<unk>'\n",
    "UNK_ID = 1\n",
    "E1 = 'entity1'\n",
    "E1_ID = 2\n",
    "E2 = 'entity2'\n",
    "E2_ID = 3\n",
    "\n",
    "idx2token = [PAD, UNK, E1, E2] + idx2token\n",
    "\n",
    "# Save the vocab\n",
    "json.dump(idx2token, open('idx2token.json', 'w', encoding='utf-8'))"
   ]
  },
  {
   "cell_type": "code",
   "execution_count": 12,
   "metadata": {
    "id": "v_0EElBxUniu"
   },
   "outputs": [],
   "source": [
    "token2idx = {token: idx for idx, token in enumerate(idx2token)}"
   ]
  },
  {
   "cell_type": "markdown",
   "metadata": {
    "id": "o1vfYFlMw2AA"
   },
   "source": [
    "Build vocabularies for deprels and relative positions."
   ]
  },
  {
   "cell_type": "code",
   "execution_count": 13,
   "metadata": {
    "id": "hupTV07hgdDb"
   },
   "outputs": [],
   "source": [
    "deprel_idx2token = list(set([deprel for sent in train_deprels for deprel in sent]))\n",
    "deprel_idx2token = [PAD, UNK] + deprel_idx2token\n",
    "deprel_token2idx = {token: idx for idx, token in enumerate(deprel_idx2token)}"
   ]
  },
  {
   "cell_type": "code",
   "execution_count": 14,
   "metadata": {
    "id": "lMVOBBCFoCV-"
   },
   "outputs": [],
   "source": [
    "pos_idx2token = list(set([pos for sent in train_pos_1 + train_pos_2 for pos in sent]))\n",
    "pos_idx2token = [PAD, UNK] + pos_idx2token\n",
    "pos_token2idx = {token: idx for idx, token in enumerate(pos_idx2token)}"
   ]
  },
  {
   "cell_type": "code",
   "execution_count": 15,
   "metadata": {
    "id": "HC8L1gpzUt8q"
   },
   "outputs": [],
   "source": [
    "device = torch.device('cuda') if torch.cuda.is_available() else torch.device('cpu')"
   ]
  },
  {
   "cell_type": "markdown",
   "metadata": {
    "id": "dNbwNNOnw8cO"
   },
   "source": [
    "Convert text to ids, transform to pytorch tensors and pad to equal lengths."
   ]
  },
  {
   "cell_type": "code",
   "execution_count": 16,
   "metadata": {
    "id": "lY6sS5-yUNw7"
   },
   "outputs": [],
   "source": [
    "def texts2ids(texts, token2idx, device):\n",
    "    text_ids = []\n",
    "    for text in texts:\n",
    "        text_ids.append(torch.tensor([token2idx.get(token, UNK_ID) for token in text], dtype=torch.long))\n",
    "    text_ids = pad_sequence(text_ids, batch_first=True, padding_value=PAD_ID)\n",
    "    return text_ids.to(device)"
   ]
  },
  {
   "cell_type": "code",
   "execution_count": 17,
   "metadata": {
    "id": "qx-POTZJVbPW"
   },
   "outputs": [],
   "source": [
    "train_sents_ids = texts2ids(train_sents, token2idx, device)\n",
    "train_deprels_ids = texts2ids(train_deprels, deprel_token2idx, device)\n",
    "train_pos_1_ids = texts2ids(train_pos_1, pos_token2idx, device)\n",
    "train_pos_2_ids = texts2ids(train_pos_2, pos_token2idx, device)\n",
    "\n",
    "test_sents_ids = texts2ids(test_sents, token2idx, device)\n",
    "test_deprels_ids = texts2ids(test_deprels, deprel_token2idx, device)\n",
    "test_pos_1_ids = texts2ids(test_pos_1, pos_token2idx, device)\n",
    "test_pos_2_ids = texts2ids(test_pos_2, pos_token2idx, device)"
   ]
  },
  {
   "cell_type": "code",
   "execution_count": 18,
   "metadata": {
    "id": "897YBt_YVh82"
   },
   "outputs": [],
   "source": [
    "train_rels = torch.tensor(train_rels, dtype=torch.long, device=device)\n",
    "test_rels = torch.tensor(test_rels, dtype=torch.long, device=device)"
   ]
  },
  {
   "cell_type": "markdown",
   "metadata": {
    "id": "YDb2tK-CxGSQ"
   },
   "source": [
    "Create a Dataset."
   ]
  },
  {
   "cell_type": "code",
   "execution_count": 19,
   "metadata": {
    "id": "34Y4PqQKVkHu"
   },
   "outputs": [],
   "source": [
    "train_dataset = TensorDataset(train_sents_ids, train_deprels_ids, train_pos_1_ids, train_pos_2_ids, train_rels)\n",
    "test_dataset = TensorDataset(test_sents_ids, test_deprels_ids, test_pos_1_ids, test_pos_2_ids, test_rels)"
   ]
  },
  {
   "cell_type": "markdown",
   "metadata": {
    "id": "e2W2V2CwxIrB"
   },
   "source": [
    "Randomly split the train set into 7000 sentences for train and 1000 for validation."
   ]
  },
  {
   "cell_type": "code",
   "execution_count": 20,
   "metadata": {
    "id": "-KiCp8Z2WtqP"
   },
   "outputs": [],
   "source": [
    "train_dataset, val_dataset = random_split(train_dataset, [7000, 1000], generator=torch.Generator().manual_seed(42))"
   ]
  },
  {
   "cell_type": "code",
   "execution_count": 21,
   "metadata": {
    "id": "HLUeAyfWWRCI"
   },
   "outputs": [],
   "source": [
    "train_dataloader = DataLoader(train_dataset, batch_size=100, shuffle=True)\n",
    "val_dataloader = DataLoader(val_dataset, batch_size=100)\n",
    "test_dataloader = DataLoader(test_dataset, batch_size=100)"
   ]
  },
  {
   "cell_type": "markdown",
   "metadata": {
    "id": "swIS6SJ5xP9O"
   },
   "source": [
    "### Task 3. Modify the model. (2 points)\n",
    "\n",
    "Add three more embedding layers that are randomly initialized. First one will encode the deprels, second encodes first relative positions and third encodes second relative position. The input size to each embedding layer is the size of corresponding vocabulary. The embedding size is specified by `deprel_emb_dim` argument.\n",
    "\n",
    "Modify the `forward()` method. Encode each input with the corresponding embedding layer. After that, concatenate all the embeddings together."
   ]
  },
  {
   "cell_type": "code",
   "execution_count": 31,
   "metadata": {
    "id": "JkQzC7PwWSWl"
   },
   "outputs": [],
   "source": [
    "class RelationClassificationModel(nn.Module):\n",
    "    def __init__(self, pretrained_emb, deprel_idx2token, pos_idx2token, deprel_emb_dim, num_filters, kernel_sizes, num_classes):\n",
    "        super().__init__()\n",
    "        self.word_emb = nn.Embedding.from_pretrained(pretrained_emb, padding_idx=PAD_ID, freeze=False)\n",
    "\n",
    "        ### YOUR CODE STARTS HERE\n",
    "        # Embedding layer for the deprels\n",
    "        self.deprel_emb = nn.Embedding(len(deprel_idx2token), deprel_emb_dim, padding_idx=PAD_ID)\n",
    "        # Embedding layer for the first positional embeddings\n",
    "        self.pos_emb_1 = nn.Embedding(len(pos_idx2token), deprel_emb_dim, padding_idx=PAD_ID)\n",
    "        # Embedding layer for the second positional embeddings\n",
    "        self.pos_emb_2 = nn.Embedding(len(pos_idx2token), deprel_emb_dim, padding_idx=PAD_ID)\n",
    "        # Concatenated embedding size\n",
    "        emb_size = self.word_emb.weight.size(1) + (deprel_emb_dim *3)\n",
    "        ### YOUR CODE ENDS HERE\n",
    "\n",
    "        self.convs = nn.ModuleList(\n",
    "            [\n",
    "                  nn.Conv1d(in_channels=emb_size, out_channels=num_filters, kernel_size=kernel_size)\n",
    "                  for kernel_size in kernel_sizes                  \n",
    "            ]\n",
    "        )\n",
    "        linear_dim = num_filters * len(kernel_sizes)\n",
    "        self.linear_out = nn.Sequential(nn.Linear(in_features=linear_dim, out_features=linear_dim // 2),\n",
    "                                        nn.LeakyReLU(),\n",
    "                                        nn.Dropout(0.5),\n",
    "                                        nn.Linear(linear_dim // 2, num_classes))\n",
    "        self.drop = nn.Dropout(0.5)\n",
    "\n",
    "    def forward(self, sent, deprels, pos_1, pos_2):\n",
    "        # x size is [batch x seq_len]\n",
    "\n",
    "        x_word = self.word_emb(sent) # [batch x seq_len x emb_dim]\n",
    "\n",
    "        x_dep = self.deprel_emb(deprels) # [batch x seq_len x deprel_emb_dim]\n",
    "        x_pos_1 = self.pos_emb_1(pos_1) # [batch x seq_len x deprel_emb_dim]\n",
    "        x_pos_2 = self.pos_emb_2(pos_2) # [batch x seq_len x deprel_emb_dim]\n",
    "        # Concatenate the embeddings above\n",
    "        # Hint: Use torch.cat\n",
    "        ### YOUR CODE STARTS HERE\n",
    "        x = torch.cat((x_word,x_dep,x_pos_1,x_pos_2),dim=2)\n",
    "        ### YOUR CODE ENDS HERE\n",
    "        \n",
    "        x = x.permute(0, 2, 1) # [batch x emb_dim x seq_len]\n",
    "        xs = [torch.relu(conv(x)) for conv in self.convs] # [batch x num_filters x conv_seq_len] x num_kernels\n",
    "        xs = [torch.nn.functional.max_pool1d(x, x.size(2)).squeeze(2) for x in xs] # [batch x num_filters] x num_kernels\n",
    "        x = torch.cat(xs, dim=1) # [batch x num_filters * num_kernels]\n",
    "        x = self.drop(x)\n",
    "        x = self.linear_out(x) # [batch x num_classes]\n",
    "        return x"
   ]
  },
  {
   "cell_type": "code",
   "execution_count": 32,
   "metadata": {
    "id": "qtimqaQ9XRtZ"
   },
   "outputs": [],
   "source": [
    "num_filters = 150\n",
    "deprel_emb_dim = 50\n",
    "kernel_sizes = [2, 3, 4, 5]\n",
    "lr = 1e-3\n",
    "num_classes = dataset['train'].features['relation'].num_classes\n",
    "\n",
    "num_iters = 100"
   ]
  },
  {
   "cell_type": "code",
   "execution_count": 33,
   "metadata": {
    "id": "gFP5GUraXcqp"
   },
   "outputs": [],
   "source": [
    "model = RelationClassificationModel(glove_vecs, deprel_idx2token, pos_idx2token, deprel_emb_dim, num_filters, kernel_sizes, num_classes)\n",
    "model = model.to(device)"
   ]
  },
  {
   "cell_type": "code",
   "execution_count": 34,
   "metadata": {
    "colab": {
     "base_uri": "https://localhost:8080/"
    },
    "id": "dUYLyrNCXeBG",
    "outputId": "95f60810-c8cf-448d-f532-8e6e80d44875"
   },
   "outputs": [
    {
     "name": "stdout",
     "output_type": "stream",
     "text": [
      "RelationClassificationModel(\n",
      "  (word_emb): Embedding(400004, 300, padding_idx=0)\n",
      "  (deprel_emb): Embedding(46, 50, padding_idx=0)\n",
      "  (pos_emb_1): Embedding(164, 50, padding_idx=0)\n",
      "  (pos_emb_2): Embedding(164, 50, padding_idx=0)\n",
      "  (convs): ModuleList(\n",
      "    (0): Conv1d(450, 150, kernel_size=(2,), stride=(1,))\n",
      "    (1): Conv1d(450, 150, kernel_size=(3,), stride=(1,))\n",
      "    (2): Conv1d(450, 150, kernel_size=(4,), stride=(1,))\n",
      "    (3): Conv1d(450, 150, kernel_size=(5,), stride=(1,))\n",
      "  )\n",
      "  (linear_out): Sequential(\n",
      "    (0): Linear(in_features=600, out_features=300, bias=True)\n",
      "    (1): LeakyReLU(negative_slope=0.01)\n",
      "    (2): Dropout(p=0.5, inplace=False)\n",
      "    (3): Linear(in_features=300, out_features=19, bias=True)\n",
      "  )\n",
      "  (drop): Dropout(p=0.5, inplace=False)\n",
      ")\n"
     ]
    }
   ],
   "source": [
    "print(model)"
   ]
  },
  {
   "cell_type": "code",
   "execution_count": 35,
   "metadata": {
    "id": "OcLfOD7gXlPm"
   },
   "outputs": [],
   "source": [
    "loss_fn = nn.CrossEntropyLoss()\n",
    "optimizer = torch.optim.Adam(model.parameters(), lr=lr)"
   ]
  },
  {
   "cell_type": "markdown",
   "metadata": {
    "id": "y-S1Txx4ymsn"
   },
   "source": [
    "Train the model."
   ]
  },
  {
   "cell_type": "code",
   "execution_count": 36,
   "metadata": {
    "colab": {
     "base_uri": "https://localhost:8080/"
    },
    "id": "H_PgEdlRXoIw",
    "outputId": "8e6e3e2c-5d69-40ea-c4e2-9218a47f1d31"
   },
   "outputs": [
    {
     "name": "stdout",
     "output_type": "stream",
     "text": [
      "F1 increased [0.0000 --> 0.3226]. Saving the model...\n",
      "Epoch: 0\tTrain loss: 2.3667\tVal loss: 1.7322\tVal acc: 0.3226\n",
      "F1 increased [0.3226 --> 0.4462]. Saving the model...\n",
      "Epoch: 1\tTrain loss: 1.6366\tVal loss: 1.3620\tVal acc: 0.4462\n",
      "F1 increased [0.4462 --> 0.5082]. Saving the model...\n",
      "Epoch: 2\tTrain loss: 1.3473\tVal loss: 1.2123\tVal acc: 0.5082\n",
      "F1 increased [0.5082 --> 0.5703]. Saving the model...\n",
      "Epoch: 3\tTrain loss: 1.1178\tVal loss: 1.1125\tVal acc: 0.5703\n",
      "Epoch: 4\tTrain loss: 0.9469\tVal loss: 1.0983\tVal acc: 0.5699\n",
      "F1 increased [0.5703 --> 0.6150]. Saving the model...\n",
      "Epoch: 5\tTrain loss: 0.7827\tVal loss: 1.0533\tVal acc: 0.6150\n",
      "Epoch: 6\tTrain loss: 0.6585\tVal loss: 1.0843\tVal acc: 0.6137\n",
      "Epoch: 7\tTrain loss: 0.5215\tVal loss: 1.1394\tVal acc: 0.6034\n",
      "Epoch: 8\tTrain loss: 0.4093\tVal loss: 1.1860\tVal acc: 0.6108\n",
      "Epoch: 9\tTrain loss: 0.3173\tVal loss: 1.3324\tVal acc: 0.6101\n",
      "Epoch: 10\tTrain loss: 0.2657\tVal loss: 1.4332\tVal acc: 0.5901\n",
      "F1 increased [0.6150 --> 0.6252]. Saving the model...\n",
      "Epoch: 11\tTrain loss: 0.2229\tVal loss: 1.4068\tVal acc: 0.6252\n",
      "F1 increased [0.6252 --> 0.6355]. Saving the model...\n",
      "Epoch: 12\tTrain loss: 0.1831\tVal loss: 1.4850\tVal acc: 0.6355\n",
      "Epoch: 13\tTrain loss: 0.1495\tVal loss: 1.6304\tVal acc: 0.6198\n",
      "Epoch: 14\tTrain loss: 0.1259\tVal loss: 1.6886\tVal acc: 0.6257\n",
      "Epoch: 15\tTrain loss: 0.1154\tVal loss: 1.6236\tVal acc: 0.6308\n",
      "Epoch: 16\tTrain loss: 0.1022\tVal loss: 1.7499\tVal acc: 0.6279\n",
      "Epoch: 17\tTrain loss: 0.1028\tVal loss: 1.8690\tVal acc: 0.6124\n",
      "Epoch: 18\tTrain loss: 0.0982\tVal loss: 1.8508\tVal acc: 0.6122\n",
      "Epoch: 19\tTrain loss: 0.0763\tVal loss: 1.8443\tVal acc: 0.6297\n",
      "Epoch: 20\tTrain loss: 0.0612\tVal loss: 2.0054\tVal acc: 0.6237\n",
      "F1 increased [0.6355 --> 0.6383]. Saving the model...\n",
      "Epoch: 21\tTrain loss: 0.0668\tVal loss: 2.0351\tVal acc: 0.6383\n",
      "F1 increased [0.6383 --> 0.6423]. Saving the model...\n",
      "Epoch: 22\tTrain loss: 0.0630\tVal loss: 1.9774\tVal acc: 0.6423\n",
      "Epoch: 23\tTrain loss: 0.0651\tVal loss: 2.1872\tVal acc: 0.6245\n",
      "Epoch: 24\tTrain loss: 0.0623\tVal loss: 2.1309\tVal acc: 0.6340\n",
      "Epoch: 25\tTrain loss: 0.0550\tVal loss: 2.0638\tVal acc: 0.6177\n",
      "Epoch: 26\tTrain loss: 0.0503\tVal loss: 2.3110\tVal acc: 0.6149\n",
      "Epoch: 27\tTrain loss: 0.0568\tVal loss: 2.2987\tVal acc: 0.6166\n",
      "Epoch: 28\tTrain loss: 0.0482\tVal loss: 2.3122\tVal acc: 0.6206\n",
      "Epoch: 29\tTrain loss: 0.0486\tVal loss: 2.2730\tVal acc: 0.6267\n",
      "Epoch: 30\tTrain loss: 0.0533\tVal loss: 2.3106\tVal acc: 0.6206\n",
      "Epoch: 31\tTrain loss: 0.0548\tVal loss: 2.3974\tVal acc: 0.6065\n",
      "Epoch: 32\tTrain loss: 0.0538\tVal loss: 2.4853\tVal acc: 0.6088\n",
      "Epoch: 33\tTrain loss: 0.0481\tVal loss: 2.4573\tVal acc: 0.6252\n",
      "Epoch: 34\tTrain loss: 0.0490\tVal loss: 2.4734\tVal acc: 0.6175\n",
      "Epoch: 35\tTrain loss: 0.0500\tVal loss: 2.5090\tVal acc: 0.6271\n",
      "Epoch: 36\tTrain loss: 0.0490\tVal loss: 2.5106\tVal acc: 0.6230\n",
      "Epoch: 37\tTrain loss: 0.0368\tVal loss: 2.5919\tVal acc: 0.6088\n",
      "Epoch: 38\tTrain loss: 0.0357\tVal loss: 2.6418\tVal acc: 0.6269\n",
      "Epoch: 39\tTrain loss: 0.0396\tVal loss: 2.8978\tVal acc: 0.6047\n",
      "Epoch: 40\tTrain loss: 0.0331\tVal loss: 2.7691\tVal acc: 0.6046\n",
      "Epoch: 41\tTrain loss: 0.0320\tVal loss: 2.7307\tVal acc: 0.6108\n",
      "Epoch: 42\tTrain loss: 0.0431\tVal loss: 2.7075\tVal acc: 0.6227\n",
      "Epoch: 43\tTrain loss: 0.0346\tVal loss: 2.7469\tVal acc: 0.6251\n",
      "Epoch: 44\tTrain loss: 0.0313\tVal loss: 2.7977\tVal acc: 0.6130\n",
      "Epoch: 45\tTrain loss: 0.0367\tVal loss: 2.8091\tVal acc: 0.6217\n",
      "Epoch: 46\tTrain loss: 0.0409\tVal loss: 2.8448\tVal acc: 0.6117\n",
      "Epoch: 47\tTrain loss: 0.0285\tVal loss: 2.9904\tVal acc: 0.6178\n",
      "Epoch: 48\tTrain loss: 0.0386\tVal loss: 3.0929\tVal acc: 0.6135\n",
      "Epoch: 49\tTrain loss: 0.0419\tVal loss: 3.0872\tVal acc: 0.6081\n",
      "Epoch: 50\tTrain loss: 0.0265\tVal loss: 3.1152\tVal acc: 0.6215\n",
      "Epoch: 51\tTrain loss: 0.0291\tVal loss: 3.2350\tVal acc: 0.6227\n",
      "Epoch: 52\tTrain loss: 0.0364\tVal loss: 3.0413\tVal acc: 0.6277\n",
      "Epoch: 53\tTrain loss: 0.0383\tVal loss: 3.0064\tVal acc: 0.6204\n",
      "Epoch: 54\tTrain loss: 0.0408\tVal loss: 3.0481\tVal acc: 0.6201\n",
      "Epoch: 55\tTrain loss: 0.0423\tVal loss: 2.9397\tVal acc: 0.6033\n",
      "Epoch: 56\tTrain loss: 0.0419\tVal loss: 3.1233\tVal acc: 0.6129\n",
      "Epoch: 57\tTrain loss: 0.0259\tVal loss: 3.3820\tVal acc: 0.6156\n",
      "Epoch: 58\tTrain loss: 0.0308\tVal loss: 3.3622\tVal acc: 0.6118\n",
      "Epoch: 59\tTrain loss: 0.0345\tVal loss: 3.2145\tVal acc: 0.6217\n",
      "Epoch: 60\tTrain loss: 0.0270\tVal loss: 3.2716\tVal acc: 0.6305\n",
      "Epoch: 61\tTrain loss: 0.0341\tVal loss: 3.2785\tVal acc: 0.6128\n",
      "Epoch: 62\tTrain loss: 0.0321\tVal loss: 3.3106\tVal acc: 0.6235\n",
      "Epoch: 63\tTrain loss: 0.0256\tVal loss: 3.4519\tVal acc: 0.6067\n",
      "Epoch: 64\tTrain loss: 0.0278\tVal loss: 3.3679\tVal acc: 0.6252\n",
      "Epoch: 65\tTrain loss: 0.0312\tVal loss: 3.3292\tVal acc: 0.6047\n",
      "Epoch: 66\tTrain loss: 0.0253\tVal loss: 3.2519\tVal acc: 0.6322\n",
      "Epoch: 67\tTrain loss: 0.0280\tVal loss: 3.3405\tVal acc: 0.6217\n",
      "F1 increased [0.6423 --> 0.6440]. Saving the model...\n",
      "Epoch: 68\tTrain loss: 0.0267\tVal loss: 3.4262\tVal acc: 0.6440\n",
      "Epoch: 69\tTrain loss: 0.0228\tVal loss: 3.4212\tVal acc: 0.6152\n",
      "Epoch: 70\tTrain loss: 0.0214\tVal loss: 3.5861\tVal acc: 0.6290\n",
      "Epoch: 71\tTrain loss: 0.0359\tVal loss: 3.5163\tVal acc: 0.6288\n",
      "Epoch: 72\tTrain loss: 0.0454\tVal loss: 3.4489\tVal acc: 0.6373\n",
      "Epoch: 73\tTrain loss: 0.0317\tVal loss: 3.4768\tVal acc: 0.6187\n",
      "Epoch: 74\tTrain loss: 0.0224\tVal loss: 3.6582\tVal acc: 0.6146\n",
      "Epoch: 75\tTrain loss: 0.0274\tVal loss: 3.6070\tVal acc: 0.6084\n",
      "Epoch: 76\tTrain loss: 0.0345\tVal loss: 3.5943\tVal acc: 0.6196\n",
      "Epoch: 77\tTrain loss: 0.0294\tVal loss: 3.5629\tVal acc: 0.6119\n",
      "Epoch: 78\tTrain loss: 0.0301\tVal loss: 3.4640\tVal acc: 0.6204\n",
      "Epoch: 79\tTrain loss: 0.0251\tVal loss: 3.8435\tVal acc: 0.6175\n",
      "Epoch: 80\tTrain loss: 0.0259\tVal loss: 4.0090\tVal acc: 0.6224\n",
      "Epoch: 81\tTrain loss: 0.0289\tVal loss: 3.8883\tVal acc: 0.6132\n",
      "Epoch: 82\tTrain loss: 0.0300\tVal loss: 3.8476\tVal acc: 0.6205\n",
      "Epoch: 83\tTrain loss: 0.0335\tVal loss: 3.7654\tVal acc: 0.6114\n",
      "Epoch: 84\tTrain loss: 0.0235\tVal loss: 3.9045\tVal acc: 0.6256\n",
      "Epoch: 85\tTrain loss: 0.0291\tVal loss: 3.9680\tVal acc: 0.6184\n",
      "Epoch: 86\tTrain loss: 0.0267\tVal loss: 3.8183\tVal acc: 0.6130\n",
      "Epoch: 87\tTrain loss: 0.0223\tVal loss: 4.0031\tVal acc: 0.6315\n",
      "Epoch: 88\tTrain loss: 0.0303\tVal loss: 3.9609\tVal acc: 0.6308\n",
      "Epoch: 89\tTrain loss: 0.0248\tVal loss: 4.0004\tVal acc: 0.6164\n",
      "Epoch: 90\tTrain loss: 0.0215\tVal loss: 4.0533\tVal acc: 0.6163\n",
      "Epoch: 91\tTrain loss: 0.0242\tVal loss: 4.1823\tVal acc: 0.6195\n",
      "Epoch: 92\tTrain loss: 0.0293\tVal loss: 4.0160\tVal acc: 0.6202\n",
      "Epoch: 93\tTrain loss: 0.0305\tVal loss: 4.0792\tVal acc: 0.6130\n",
      "Epoch: 94\tTrain loss: 0.0252\tVal loss: 4.0926\tVal acc: 0.6038\n",
      "Epoch: 95\tTrain loss: 0.0186\tVal loss: 4.1293\tVal acc: 0.6087\n",
      "Epoch: 96\tTrain loss: 0.0185\tVal loss: 4.1227\tVal acc: 0.6039\n",
      "Epoch: 97\tTrain loss: 0.0270\tVal loss: 4.1515\tVal acc: 0.5837\n",
      "Epoch: 98\tTrain loss: 0.0201\tVal loss: 4.3088\tVal acc: 0.6053\n",
      "Epoch: 99\tTrain loss: 0.0219\tVal loss: 4.3876\tVal acc: 0.6026\n"
     ]
    }
   ],
   "source": [
    "best_f1 = 0.0\n",
    "for i in range(num_iters):\n",
    "    current_loss = 0\n",
    "    model.train()\n",
    "    for texts, deprels, pos_1, pos_2, labels in train_dataloader:\n",
    "        model.zero_grad()\n",
    "        preds = model(texts, deprels, pos_1, pos_2)\n",
    "        loss = loss_fn(preds, labels)\n",
    "        current_loss += loss\n",
    "        loss.backward()\n",
    "        optimizer.step()\n",
    "    avg_train_loss = current_loss.item() / len(train_dataloader)\n",
    "\n",
    "    current_loss = 0\n",
    "    current_f1 = 0\n",
    "    all_preds = []\n",
    "    all_labels = []\n",
    "    model.eval()\n",
    "    for texts, deprels, pos_1, pos_2, labels in val_dataloader:\n",
    "        with torch.no_grad():\n",
    "            preds = model(texts, deprels, pos_1, pos_2)\n",
    "            loss = loss_fn(preds, labels)\n",
    "            preds = torch.argmax(torch.log_softmax(preds, dim=1), dim=1)\n",
    "            all_preds.append(preds)\n",
    "            all_labels.append(labels)\n",
    "            current_loss += loss\n",
    "    avg_val_loss = current_loss.item() / len(val_dataloader)\n",
    "    avg_val_f1 = f1_score(torch.hstack(all_preds), torch.hstack(all_labels), average='macro', num_classes=num_classes)\n",
    "\n",
    "    if avg_val_f1 > best_f1:\n",
    "        print(f'F1 increased [{best_f1:.4f} --> {avg_val_f1:.4f}]. Saving the model...')\n",
    "        best_f1 = avg_val_f1\n",
    "        torch.save(model, 'model_best.pt')\n",
    "\n",
    "    print(f'Epoch: {i}\\tTrain loss: {avg_train_loss:.4f}\\tVal loss: {avg_val_loss:.4f}\\tVal acc: {avg_val_f1:.4f}')"
   ]
  },
  {
   "cell_type": "markdown",
   "metadata": {
    "id": "3IvoXIF-yo3-"
   },
   "source": [
    "Load the best model."
   ]
  },
  {
   "cell_type": "code",
   "execution_count": 37,
   "metadata": {
    "id": "hC8sa4RRrDlw"
   },
   "outputs": [],
   "source": [
    "model = torch.load('model_best.pt')\n",
    "model = model.to(device)"
   ]
  },
  {
   "cell_type": "markdown",
   "metadata": {
    "id": "6C1mC0cCyqoU"
   },
   "source": [
    "Test the model."
   ]
  },
  {
   "cell_type": "code",
   "execution_count": 38,
   "metadata": {
    "colab": {
     "base_uri": "https://localhost:8080/"
    },
    "id": "VdMPWdgiqoWy",
    "outputId": "e64ad627-ec49-462b-87ee-5519bd2af1e1"
   },
   "outputs": [
    {
     "name": "stdout",
     "output_type": "stream",
     "text": [
      "Test loss: 3.3558\tTest F1: 0.5950\n"
     ]
    }
   ],
   "source": [
    "current_loss = 0\n",
    "current_f1 = 0\n",
    "all_preds = []\n",
    "all_labels = []\n",
    "model.eval()\n",
    "for texts, deprels, pos_1, pos_2, labels in test_dataloader:\n",
    "    with torch.no_grad():\n",
    "        preds = model(texts, deprels, pos_1, pos_2)\n",
    "        loss = loss_fn(preds, labels)\n",
    "        preds = torch.argmax(torch.log_softmax(preds, dim=1), dim=1)\n",
    "        all_preds.append(preds)\n",
    "        all_labels.append(labels)\n",
    "        current_loss += loss\n",
    "avg_test_loss = current_loss.item() / len(test_dataloader)\n",
    "all_preds = torch.hstack(all_preds)\n",
    "all_labels = torch.hstack(all_labels)\n",
    "avg_test_f1 = f1_score(all_preds, all_labels, average='macro', num_classes=num_classes)\n",
    "\n",
    "print(f'Test loss: {avg_test_loss:.4f}\\tTest F1: {avg_test_f1:.4f}')"
   ]
  },
  {
   "cell_type": "markdown",
   "metadata": {
    "id": "biFJIm0-yslQ"
   },
   "source": [
    "### Task 4. Interpret the results. (0.5 points)\n",
    "\n",
    "Look at the confusion matrix. Briefly describe what tendencies do you see. Which class got confused the most? What can you do to make the performance better?\n",
    "\n",
    "YOUR ANSWER HERE:\n",
    "\n",
    "**(A) :** The `Entity-Detination` has best performane. There is high posibility that model prodict labe as `other`. Maybe can optimize the label to increase the accuracy of prediction."
   ]
  },
  {
   "cell_type": "code",
   "execution_count": 39,
   "metadata": {
    "colab": {
     "base_uri": "https://localhost:8080/",
     "height": 678
    },
    "id": "oFqaFbRYX6N9",
    "outputId": "3528a509-475c-4a84-d7a7-e6d4462bfcce"
   },
   "outputs": [
    {
     "data": {
      "image/png": "[encoded data removed]",
      "text/plain": [
       "<Figure size 720x720 with 2 Axes>"
      ]
     },
     "metadata": {
      "needs_background": "light"
     },
     "output_type": "display_data"
    }
   ],
   "source": [
    "from sklearn.metrics import confusion_matrix, ConfusionMatrixDisplay\n",
    "fig, ax = plt.subplots(figsize=(10, 10))\n",
    "cm = confusion_matrix(all_labels.cpu().numpy(), all_preds.cpu().numpy())\n",
    "disp = ConfusionMatrixDisplay(confusion_matrix=cm,\n",
    "                              display_labels=dataset['train'].features['relation'].names)\n",
    "disp.plot(xticks_rotation='vertical', ax=ax)\n",
    "plt.show();"
   ]
  },
  {
   "cell_type": "code",
   "execution_count": null,
   "metadata": {
    "id": "6k7cD1AEr2ih"
   },
   "outputs": [],
   "source": []
  }
 ],
 "metadata": {
  "accelerator": "GPU",
  "colab": {
   "collapsed_sections": [],
   "name": "Copy of Homework 5 Release.ipynb",
   "provenance": []
  },
  "kernelspec": {
   "display_name": "Python 3 (ipykernel)",
   "language": "python",
   "name": "python3"
  },
  "language_info": {
   "codemirror_mode": {
    "name": "ipython",
    "version": 3
   },
   "file_extension": ".py",
   "mimetype": "text/x-python",
   "name": "python",
   "nbconvert_exporter": "python",
   "pygments_lexer": "ipython3",
   "version": "3.9.7"
  },
  "widgets": {
   "application/vnd.jupyter.widget-state+json": {
    "0175806333904bc4898e047dfe9729c7": {
     "model_module": "@jupyter-widgets/controls",
     "model_module_version": "1.5.0",
     "model_name": "DescriptionStyleModel",
     "state": {
      "_model_module": "@jupyter-widgets/controls",
      "_model_module_version": "1.5.0",
      "_model_name": "DescriptionStyleModel",
      "_view_count": null,
      "_view_module": "@jupyter-widgets/base",
      "_view_module_version": "1.2.0",
      "_view_name": "StyleView",
      "description_width": ""
     }
    },
    "0448d1c8b8274a72a6a2a3c94d37ca6b": {
     "model_module": "@jupyter-widgets/controls",
     "model_module_version": "1.5.0",
     "model_name": "FloatProgressModel",
     "state": {
      "_dom_classes": [],
      "_model_module": "@jupyter-widgets/controls",
      "_model_module_version": "1.5.0",
      "_model_name": "FloatProgressModel",
      "_view_count": null,
      "_view_module": "@jupyter-widgets/controls",
      "_view_module_version": "1.5.0",
      "_view_name": "ProgressView",
      "bar_style": "success",
      "description": "",
      "description_tooltip": null,
      "layout": "IPY_MODEL_0fdc1501e28d403d82add0242a0ed04f",
      "max": 1,
      "min": 0,
      "orientation": "horizontal",
      "style": "IPY_MODEL_decf700117d44ac3ac39559ae1f69c40",
      "value": 1
     }
    },
    "0fdc1501e28d403d82add0242a0ed04f": {
     "model_module": "@jupyter-widgets/base",
     "model_module_version": "1.2.0",
     "model_name": "LayoutModel",
     "state": {
      "_model_module": "@jupyter-widgets/base",
      "_model_module_version": "1.2.0",
      "_model_name": "LayoutModel",
      "_view_count": null,
      "_view_module": "@jupyter-widgets/base",
      "_view_module_version": "1.2.0",
      "_view_name": "LayoutView",
      "align_content": null,
      "align_items": null,
      "align_self": null,
      "border": null,
      "bottom": null,
      "display": null,
      "flex": null,
      "flex_flow": null,
      "grid_area": null,
      "grid_auto_columns": null,
      "grid_auto_flow": null,
      "grid_auto_rows": null,
      "grid_column": null,
      "grid_gap": null,
      "grid_row": null,
      "grid_template_areas": null,
      "grid_template_columns": null,
      "grid_template_rows": null,
      "height": null,
      "justify_content": null,
      "justify_items": null,
      "left": null,
      "margin": null,
      "max_height": null,
      "max_width": null,
      "min_height": null,
      "min_width": null,
      "object_fit": null,
      "object_position": null,
      "order": null,
      "overflow": null,
      "overflow_x": null,
      "overflow_y": null,
      "padding": null,
      "right": null,
      "top": null,
      "visibility": null,
      "width": "20px"
     }
    },
    "16bbc023e9fa4e5485033bf0bd2717d3": {
     "model_module": "@jupyter-widgets/controls",
     "model_module_version": "1.5.0",
     "model_name": "HBoxModel",
     "state": {
      "_dom_classes": [],
      "_model_module": "@jupyter-widgets/controls",
      "_model_module_version": "1.5.0",
      "_model_name": "HBoxModel",
      "_view_count": null,
      "_view_module": "@jupyter-widgets/controls",
      "_view_module_version": "1.5.0",
      "_view_name": "HBoxView",
      "box_style": "",
      "children": [
       "IPY_MODEL_18ec62dc5ded4c2bbb107ca92ed166ac",
       "IPY_MODEL_9a3a94c404604f2581ff9216460303ca",
       "IPY_MODEL_ebb4bbb674774ecaa3338e23bc0201e5"
      ],
      "layout": "IPY_MODEL_84767b93fe544b9abfa18586e1b031f0"
     }
    },
    "17d0ff307b8644f890f4c4604124d9c3": {
     "model_module": "@jupyter-widgets/controls",
     "model_module_version": "1.5.0",
     "model_name": "HTMLModel",
     "state": {
      "_dom_classes": [],
      "_model_module": "@jupyter-widgets/controls",
      "_model_module_version": "1.5.0",
      "_model_name": "HTMLModel",
      "_view_count": null,
      "_view_module": "@jupyter-widgets/controls",
      "_view_module_version": "1.5.0",
      "_view_name": "HTMLView",
      "description": "",
      "description_tooltip": null,
      "layout": "IPY_MODEL_6b712c8de3be4e12a37949dd8487d9ae",
      "placeholder": "​",
      "style": "IPY_MODEL_1d36c40d855740b1a4fd1535081a0c41",
      "value": "100%"
     }
    },
    "18ec62dc5ded4c2bbb107ca92ed166ac": {
     "model_module": "@jupyter-widgets/controls",
     "model_module_version": "1.5.0",
     "model_name": "HTMLModel",
     "state": {
      "_dom_classes": [],
      "_model_module": "@jupyter-widgets/controls",
      "_model_module_version": "1.5.0",
      "_model_name": "HTMLModel",
      "_view_count": null,
      "_view_module": "@jupyter-widgets/controls",
      "_view_module_version": "1.5.0",
      "_view_name": "HTMLView",
      "description": "",
      "description_tooltip": null,
      "layout": "IPY_MODEL_99847c83ef19467b9a15bbe60000f031",
      "placeholder": "​",
      "style": "IPY_MODEL_6336bd232df14990b94c0859b03410d4",
      "value": "Downloading https://raw.githubusercontent.com/stanfordnlp/stanza-resources/main/resources_1.3.0.json: "
     }
    },
    "1d36c40d855740b1a4fd1535081a0c41": {
     "model_module": "@jupyter-widgets/controls",
     "model_module_version": "1.5.0",
     "model_name": "DescriptionStyleModel",
     "state": {
      "_model_module": "@jupyter-widgets/controls",
      "_model_module_version": "1.5.0",
      "_model_name": "DescriptionStyleModel",
      "_view_count": null,
      "_view_module": "@jupyter-widgets/base",
      "_view_module_version": "1.2.0",
      "_view_name": "StyleView",
      "description_width": ""
     }
    },
    "3676c928a62b4a4cb1b7937cdfd5077f": {
     "model_module": "@jupyter-widgets/base",
     "model_module_version": "1.2.0",
     "model_name": "LayoutModel",
     "state": {
      "_model_module": "@jupyter-widgets/base",
      "_model_module_version": "1.2.0",
      "_model_name": "LayoutModel",
      "_view_count": null,
      "_view_module": "@jupyter-widgets/base",
      "_view_module_version": "1.2.0",
      "_view_name": "LayoutView",
      "align_content": null,
      "align_items": null,
      "align_self": null,
      "border": null,
      "bottom": null,
      "display": null,
      "flex": null,
      "flex_flow": null,
      "grid_area": null,
      "grid_auto_columns": null,
      "grid_auto_flow": null,
      "grid_auto_rows": null,
      "grid_column": null,
      "grid_gap": null,
      "grid_row": null,
      "grid_template_areas": null,
      "grid_template_columns": null,
      "grid_template_rows": null,
      "height": null,
      "justify_content": null,
      "justify_items": null,
      "left": null,
      "margin": null,
      "max_height": null,
      "max_width": null,
      "min_height": null,
      "min_width": null,
      "object_fit": null,
      "object_position": null,
      "order": null,
      "overflow": null,
      "overflow_x": null,
      "overflow_y": null,
      "padding": null,
      "right": null,
      "top": null,
      "visibility": null,
      "width": null
     }
    },
    "39d8b1cf15874ccda678fc38643e2aa2": {
     "model_module": "@jupyter-widgets/controls",
     "model_module_version": "1.5.0",
     "model_name": "ProgressStyleModel",
     "state": {
      "_model_module": "@jupyter-widgets/controls",
      "_model_module_version": "1.5.0",
      "_model_name": "ProgressStyleModel",
      "_view_count": null,
      "_view_module": "@jupyter-widgets/base",
      "_view_module_version": "1.2.0",
      "_view_name": "StyleView",
      "bar_color": null,
      "description_width": ""
     }
    },
    "3f925a6341f04ed2812ee1b9ca2d8c39": {
     "model_module": "@jupyter-widgets/controls",
     "model_module_version": "1.5.0",
     "model_name": "ProgressStyleModel",
     "state": {
      "_model_module": "@jupyter-widgets/controls",
      "_model_module_version": "1.5.0",
      "_model_name": "ProgressStyleModel",
      "_view_count": null,
      "_view_module": "@jupyter-widgets/base",
      "_view_module_version": "1.2.0",
      "_view_name": "StyleView",
      "bar_color": null,
      "description_width": ""
     }
    },
    "6336bd232df14990b94c0859b03410d4": {
     "model_module": "@jupyter-widgets/controls",
     "model_module_version": "1.5.0",
     "model_name": "DescriptionStyleModel",
     "state": {
      "_model_module": "@jupyter-widgets/controls",
      "_model_module_version": "1.5.0",
      "_model_name": "DescriptionStyleModel",
      "_view_count": null,
      "_view_module": "@jupyter-widgets/base",
      "_view_module_version": "1.2.0",
      "_view_name": "StyleView",
      "description_width": ""
     }
    },
    "643ac7ddc476416298123eb0def195ee": {
     "model_module": "@jupyter-widgets/base",
     "model_module_version": "1.2.0",
     "model_name": "LayoutModel",
     "state": {
      "_model_module": "@jupyter-widgets/base",
      "_model_module_version": "1.2.0",
      "_model_name": "LayoutModel",
      "_view_count": null,
      "_view_module": "@jupyter-widgets/base",
      "_view_module_version": "1.2.0",
      "_view_name": "LayoutView",
      "align_content": null,
      "align_items": null,
      "align_self": null,
      "border": null,
      "bottom": null,
      "display": null,
      "flex": null,
      "flex_flow": null,
      "grid_area": null,
      "grid_auto_columns": null,
      "grid_auto_flow": null,
      "grid_auto_rows": null,
      "grid_column": null,
      "grid_gap": null,
      "grid_row": null,
      "grid_template_areas": null,
      "grid_template_columns": null,
      "grid_template_rows": null,
      "height": null,
      "justify_content": null,
      "justify_items": null,
      "left": null,
      "margin": null,
      "max_height": null,
      "max_width": null,
      "min_height": null,
      "min_width": null,
      "object_fit": null,
      "object_position": null,
      "order": null,
      "overflow": null,
      "overflow_x": null,
      "overflow_y": null,
      "padding": null,
      "right": null,
      "top": null,
      "visibility": null,
      "width": null
     }
    },
    "6b712c8de3be4e12a37949dd8487d9ae": {
     "model_module": "@jupyter-widgets/base",
     "model_module_version": "1.2.0",
     "model_name": "LayoutModel",
     "state": {
      "_model_module": "@jupyter-widgets/base",
      "_model_module_version": "1.2.0",
      "_model_name": "LayoutModel",
      "_view_count": null,
      "_view_module": "@jupyter-widgets/base",
      "_view_module_version": "1.2.0",
      "_view_name": "LayoutView",
      "align_content": null,
      "align_items": null,
      "align_self": null,
      "border": null,
      "bottom": null,
      "display": null,
      "flex": null,
      "flex_flow": null,
      "grid_area": null,
      "grid_auto_columns": null,
      "grid_auto_flow": null,
      "grid_auto_rows": null,
      "grid_column": null,
      "grid_gap": null,
      "grid_row": null,
      "grid_template_areas": null,
      "grid_template_columns": null,
      "grid_template_rows": null,
      "height": null,
      "justify_content": null,
      "justify_items": null,
      "left": null,
      "margin": null,
      "max_height": null,
      "max_width": null,
      "min_height": null,
      "min_width": null,
      "object_fit": null,
      "object_position": null,
      "order": null,
      "overflow": null,
      "overflow_x": null,
      "overflow_y": null,
      "padding": null,
      "right": null,
      "top": null,
      "visibility": null,
      "width": null
     }
    },
    "6c5d15f5d3574108b11000a3c11abab1": {
     "model_module": "@jupyter-widgets/controls",
     "model_module_version": "1.5.0",
     "model_name": "DescriptionStyleModel",
     "state": {
      "_model_module": "@jupyter-widgets/controls",
      "_model_module_version": "1.5.0",
      "_model_name": "DescriptionStyleModel",
      "_view_count": null,
      "_view_module": "@jupyter-widgets/base",
      "_view_module_version": "1.2.0",
      "_view_name": "StyleView",
      "description_width": ""
     }
    },
    "84767b93fe544b9abfa18586e1b031f0": {
     "model_module": "@jupyter-widgets/base",
     "model_module_version": "1.2.0",
     "model_name": "LayoutModel",
     "state": {
      "_model_module": "@jupyter-widgets/base",
      "_model_module_version": "1.2.0",
      "_model_name": "LayoutModel",
      "_view_count": null,
      "_view_module": "@jupyter-widgets/base",
      "_view_module_version": "1.2.0",
      "_view_name": "LayoutView",
      "align_content": null,
      "align_items": null,
      "align_self": null,
      "border": null,
      "bottom": null,
      "display": null,
      "flex": null,
      "flex_flow": null,
      "grid_area": null,
      "grid_auto_columns": null,
      "grid_auto_flow": null,
      "grid_auto_rows": null,
      "grid_column": null,
      "grid_gap": null,
      "grid_row": null,
      "grid_template_areas": null,
      "grid_template_columns": null,
      "grid_template_rows": null,
      "height": null,
      "justify_content": null,
      "justify_items": null,
      "left": null,
      "margin": null,
      "max_height": null,
      "max_width": null,
      "min_height": null,
      "min_width": null,
      "object_fit": null,
      "object_position": null,
      "order": null,
      "overflow": null,
      "overflow_x": null,
      "overflow_y": null,
      "padding": null,
      "right": null,
      "top": null,
      "visibility": null,
      "width": null
     }
    },
    "93963ea0cda047fa849c7f41c844fce5": {
     "model_module": "@jupyter-widgets/controls",
     "model_module_version": "1.5.0",
     "model_name": "HTMLModel",
     "state": {
      "_dom_classes": [],
      "_model_module": "@jupyter-widgets/controls",
      "_model_module_version": "1.5.0",
      "_model_name": "HTMLModel",
      "_view_count": null,
      "_view_module": "@jupyter-widgets/controls",
      "_view_module_version": "1.5.0",
      "_view_name": "HTMLView",
      "description": "",
      "description_tooltip": null,
      "layout": "IPY_MODEL_643ac7ddc476416298123eb0def195ee",
      "placeholder": "​",
      "style": "IPY_MODEL_0175806333904bc4898e047dfe9729c7",
      "value": " 400000/? [00:48&lt;00:00, 8463.50it/s]"
     }
    },
    "96a27275537149208504939a5e288626": {
     "model_module": "@jupyter-widgets/controls",
     "model_module_version": "1.5.0",
     "model_name": "HTMLModel",
     "state": {
      "_dom_classes": [],
      "_model_module": "@jupyter-widgets/controls",
      "_model_module_version": "1.5.0",
      "_model_name": "HTMLModel",
      "_view_count": null,
      "_view_module": "@jupyter-widgets/controls",
      "_view_module_version": "1.5.0",
      "_view_name": "HTMLView",
      "description": "",
      "description_tooltip": null,
      "layout": "IPY_MODEL_cdce12917515468fab74b45560fcae47",
      "placeholder": "​",
      "style": "IPY_MODEL_d1d8e3e467ba484ab56c8ab75dbc4cac",
      "value": " 2/2 [00:00&lt;00:00,  8.00it/s]"
     }
    },
    "99847c83ef19467b9a15bbe60000f031": {
     "model_module": "@jupyter-widgets/base",
     "model_module_version": "1.2.0",
     "model_name": "LayoutModel",
     "state": {
      "_model_module": "@jupyter-widgets/base",
      "_model_module_version": "1.2.0",
      "_model_name": "LayoutModel",
      "_view_count": null,
      "_view_module": "@jupyter-widgets/base",
      "_view_module_version": "1.2.0",
      "_view_name": "LayoutView",
      "align_content": null,
      "align_items": null,
      "align_self": null,
      "border": null,
      "bottom": null,
      "display": null,
      "flex": null,
      "flex_flow": null,
      "grid_area": null,
      "grid_auto_columns": null,
      "grid_auto_flow": null,
      "grid_auto_rows": null,
      "grid_column": null,
      "grid_gap": null,
      "grid_row": null,
      "grid_template_areas": null,
      "grid_template_columns": null,
      "grid_template_rows": null,
      "height": null,
      "justify_content": null,
      "justify_items": null,
      "left": null,
      "margin": null,
      "max_height": null,
      "max_width": null,
      "min_height": null,
      "min_width": null,
      "object_fit": null,
      "object_position": null,
      "order": null,
      "overflow": null,
      "overflow_x": null,
      "overflow_y": null,
      "padding": null,
      "right": null,
      "top": null,
      "visibility": null,
      "width": null
     }
    },
    "9a3a94c404604f2581ff9216460303ca": {
     "model_module": "@jupyter-widgets/controls",
     "model_module_version": "1.5.0",
     "model_name": "FloatProgressModel",
     "state": {
      "_dom_classes": [],
      "_model_module": "@jupyter-widgets/controls",
      "_model_module_version": "1.5.0",
      "_model_name": "FloatProgressModel",
      "_view_count": null,
      "_view_module": "@jupyter-widgets/controls",
      "_view_module_version": "1.5.0",
      "_view_name": "ProgressView",
      "bar_style": "success",
      "description": "",
      "description_tooltip": null,
      "layout": "IPY_MODEL_f5b586a1967a4ddba61ebd39fbb6f4d4",
      "max": 24459,
      "min": 0,
      "orientation": "horizontal",
      "style": "IPY_MODEL_3f925a6341f04ed2812ee1b9ca2d8c39",
      "value": 24459
     }
    },
    "a57e7a8609b0486999e6cdbfb0eaeff5": {
     "model_module": "@jupyter-widgets/controls",
     "model_module_version": "1.5.0",
     "model_name": "HTMLModel",
     "state": {
      "_dom_classes": [],
      "_model_module": "@jupyter-widgets/controls",
      "_model_module_version": "1.5.0",
      "_model_name": "HTMLModel",
      "_view_count": null,
      "_view_module": "@jupyter-widgets/controls",
      "_view_module_version": "1.5.0",
      "_view_name": "HTMLView",
      "description": "",
      "description_tooltip": null,
      "layout": "IPY_MODEL_e3624da8284749b2b7710d5ebae2cdef",
      "placeholder": "​",
      "style": "IPY_MODEL_6c5d15f5d3574108b11000a3c11abab1",
      "value": ""
     }
    },
    "a87dfc5ea1cb47369d374f2a735c9deb": {
     "model_module": "@jupyter-widgets/controls",
     "model_module_version": "1.5.0",
     "model_name": "HBoxModel",
     "state": {
      "_dom_classes": [],
      "_model_module": "@jupyter-widgets/controls",
      "_model_module_version": "1.5.0",
      "_model_name": "HBoxModel",
      "_view_count": null,
      "_view_module": "@jupyter-widgets/controls",
      "_view_module_version": "1.5.0",
      "_view_name": "HBoxView",
      "box_style": "",
      "children": [
       "IPY_MODEL_a57e7a8609b0486999e6cdbfb0eaeff5",
       "IPY_MODEL_0448d1c8b8274a72a6a2a3c94d37ca6b",
       "IPY_MODEL_93963ea0cda047fa849c7f41c844fce5"
      ],
      "layout": "IPY_MODEL_dec9fcbee28c4a5893c641d801809694"
     }
    },
    "ad63c8e3e1584a83a96376a61b30fcb6": {
     "model_module": "@jupyter-widgets/controls",
     "model_module_version": "1.5.0",
     "model_name": "DescriptionStyleModel",
     "state": {
      "_model_module": "@jupyter-widgets/controls",
      "_model_module_version": "1.5.0",
      "_model_name": "DescriptionStyleModel",
      "_view_count": null,
      "_view_module": "@jupyter-widgets/base",
      "_view_module_version": "1.2.0",
      "_view_name": "StyleView",
      "description_width": ""
     }
    },
    "b336cafa8a56493cbfa6abbdc98ffbaf": {
     "model_module": "@jupyter-widgets/controls",
     "model_module_version": "1.5.0",
     "model_name": "HBoxModel",
     "state": {
      "_dom_classes": [],
      "_model_module": "@jupyter-widgets/controls",
      "_model_module_version": "1.5.0",
      "_model_name": "HBoxModel",
      "_view_count": null,
      "_view_module": "@jupyter-widgets/controls",
      "_view_module_version": "1.5.0",
      "_view_name": "HBoxView",
      "box_style": "",
      "children": [
       "IPY_MODEL_17d0ff307b8644f890f4c4604124d9c3",
       "IPY_MODEL_cbe53b7e69484a7699cc0f156cb2a0e1",
       "IPY_MODEL_96a27275537149208504939a5e288626"
      ],
      "layout": "IPY_MODEL_3676c928a62b4a4cb1b7937cdfd5077f"
     }
    },
    "cbe53b7e69484a7699cc0f156cb2a0e1": {
     "model_module": "@jupyter-widgets/controls",
     "model_module_version": "1.5.0",
     "model_name": "FloatProgressModel",
     "state": {
      "_dom_classes": [],
      "_model_module": "@jupyter-widgets/controls",
      "_model_module_version": "1.5.0",
      "_model_name": "FloatProgressModel",
      "_view_count": null,
      "_view_module": "@jupyter-widgets/controls",
      "_view_module_version": "1.5.0",
      "_view_name": "ProgressView",
      "bar_style": "success",
      "description": "",
      "description_tooltip": null,
      "layout": "IPY_MODEL_f3f87e78111d4ac09bfa357fbed90dcc",
      "max": 2,
      "min": 0,
      "orientation": "horizontal",
      "style": "IPY_MODEL_39d8b1cf15874ccda678fc38643e2aa2",
      "value": 2
     }
    },
    "cdce12917515468fab74b45560fcae47": {
     "model_module": "@jupyter-widgets/base",
     "model_module_version": "1.2.0",
     "model_name": "LayoutModel",
     "state": {
      "_model_module": "@jupyter-widgets/base",
      "_model_module_version": "1.2.0",
      "_model_name": "LayoutModel",
      "_view_count": null,
      "_view_module": "@jupyter-widgets/base",
      "_view_module_version": "1.2.0",
      "_view_name": "LayoutView",
      "align_content": null,
      "align_items": null,
      "align_self": null,
      "border": null,
      "bottom": null,
      "display": null,
      "flex": null,
      "flex_flow": null,
      "grid_area": null,
      "grid_auto_columns": null,
      "grid_auto_flow": null,
      "grid_auto_rows": null,
      "grid_column": null,
      "grid_gap": null,
      "grid_row": null,
      "grid_template_areas": null,
      "grid_template_columns": null,
      "grid_template_rows": null,
      "height": null,
      "justify_content": null,
      "justify_items": null,
      "left": null,
      "margin": null,
      "max_height": null,
      "max_width": null,
      "min_height": null,
      "min_width": null,
      "object_fit": null,
      "object_position": null,
      "order": null,
      "overflow": null,
      "overflow_x": null,
      "overflow_y": null,
      "padding": null,
      "right": null,
      "top": null,
      "visibility": null,
      "width": null
     }
    },
    "ce150d1c42354a6bb510bc6c6b420e05": {
     "model_module": "@jupyter-widgets/base",
     "model_module_version": "1.2.0",
     "model_name": "LayoutModel",
     "state": {
      "_model_module": "@jupyter-widgets/base",
      "_model_module_version": "1.2.0",
      "_model_name": "LayoutModel",
      "_view_count": null,
      "_view_module": "@jupyter-widgets/base",
      "_view_module_version": "1.2.0",
      "_view_name": "LayoutView",
      "align_content": null,
      "align_items": null,
      "align_self": null,
      "border": null,
      "bottom": null,
      "display": null,
      "flex": null,
      "flex_flow": null,
      "grid_area": null,
      "grid_auto_columns": null,
      "grid_auto_flow": null,
      "grid_auto_rows": null,
      "grid_column": null,
      "grid_gap": null,
      "grid_row": null,
      "grid_template_areas": null,
      "grid_template_columns": null,
      "grid_template_rows": null,
      "height": null,
      "justify_content": null,
      "justify_items": null,
      "left": null,
      "margin": null,
      "max_height": null,
      "max_width": null,
      "min_height": null,
      "min_width": null,
      "object_fit": null,
      "object_position": null,
      "order": null,
      "overflow": null,
      "overflow_x": null,
      "overflow_y": null,
      "padding": null,
      "right": null,
      "top": null,
      "visibility": null,
      "width": null
     }
    },
    "d1d8e3e467ba484ab56c8ab75dbc4cac": {
     "model_module": "@jupyter-widgets/controls",
     "model_module_version": "1.5.0",
     "model_name": "DescriptionStyleModel",
     "state": {
      "_model_module": "@jupyter-widgets/controls",
      "_model_module_version": "1.5.0",
      "_model_name": "DescriptionStyleModel",
      "_view_count": null,
      "_view_module": "@jupyter-widgets/base",
      "_view_module_version": "1.2.0",
      "_view_name": "StyleView",
      "description_width": ""
     }
    },
    "dec9fcbee28c4a5893c641d801809694": {
     "model_module": "@jupyter-widgets/base",
     "model_module_version": "1.2.0",
     "model_name": "LayoutModel",
     "state": {
      "_model_module": "@jupyter-widgets/base",
      "_model_module_version": "1.2.0",
      "_model_name": "LayoutModel",
      "_view_count": null,
      "_view_module": "@jupyter-widgets/base",
      "_view_module_version": "1.2.0",
      "_view_name": "LayoutView",
      "align_content": null,
      "align_items": null,
      "align_self": null,
      "border": null,
      "bottom": null,
      "display": null,
      "flex": null,
      "flex_flow": null,
      "grid_area": null,
      "grid_auto_columns": null,
      "grid_auto_flow": null,
      "grid_auto_rows": null,
      "grid_column": null,
      "grid_gap": null,
      "grid_row": null,
      "grid_template_areas": null,
      "grid_template_columns": null,
      "grid_template_rows": null,
      "height": null,
      "justify_content": null,
      "justify_items": null,
      "left": null,
      "margin": null,
      "max_height": null,
      "max_width": null,
      "min_height": null,
      "min_width": null,
      "object_fit": null,
      "object_position": null,
      "order": null,
      "overflow": null,
      "overflow_x": null,
      "overflow_y": null,
      "padding": null,
      "right": null,
      "top": null,
      "visibility": null,
      "width": null
     }
    },
    "decf700117d44ac3ac39559ae1f69c40": {
     "model_module": "@jupyter-widgets/controls",
     "model_module_version": "1.5.0",
     "model_name": "ProgressStyleModel",
     "state": {
      "_model_module": "@jupyter-widgets/controls",
      "_model_module_version": "1.5.0",
      "_model_name": "ProgressStyleModel",
      "_view_count": null,
      "_view_module": "@jupyter-widgets/base",
      "_view_module_version": "1.2.0",
      "_view_name": "StyleView",
      "bar_color": null,
      "description_width": ""
     }
    },
    "e3624da8284749b2b7710d5ebae2cdef": {
     "model_module": "@jupyter-widgets/base",
     "model_module_version": "1.2.0",
     "model_name": "LayoutModel",
     "state": {
      "_model_module": "@jupyter-widgets/base",
      "_model_module_version": "1.2.0",
      "_model_name": "LayoutModel",
      "_view_count": null,
      "_view_module": "@jupyter-widgets/base",
      "_view_module_version": "1.2.0",
      "_view_name": "LayoutView",
      "align_content": null,
      "align_items": null,
      "align_self": null,
      "border": null,
      "bottom": null,
      "display": null,
      "flex": null,
      "flex_flow": null,
      "grid_area": null,
      "grid_auto_columns": null,
      "grid_auto_flow": null,
      "grid_auto_rows": null,
      "grid_column": null,
      "grid_gap": null,
      "grid_row": null,
      "grid_template_areas": null,
      "grid_template_columns": null,
      "grid_template_rows": null,
      "height": null,
      "justify_content": null,
      "justify_items": null,
      "left": null,
      "margin": null,
      "max_height": null,
      "max_width": null,
      "min_height": null,
      "min_width": null,
      "object_fit": null,
      "object_position": null,
      "order": null,
      "overflow": null,
      "overflow_x": null,
      "overflow_y": null,
      "padding": null,
      "right": null,
      "top": null,
      "visibility": null,
      "width": null
     }
    },
    "ebb4bbb674774ecaa3338e23bc0201e5": {
     "model_module": "@jupyter-widgets/controls",
     "model_module_version": "1.5.0",
     "model_name": "HTMLModel",
     "state": {
      "_dom_classes": [],
      "_model_module": "@jupyter-widgets/controls",
      "_model_module_version": "1.5.0",
      "_model_name": "HTMLModel",
      "_view_count": null,
      "_view_module": "@jupyter-widgets/controls",
      "_view_module_version": "1.5.0",
      "_view_name": "HTMLView",
      "description": "",
      "description_tooltip": null,
      "layout": "IPY_MODEL_ce150d1c42354a6bb510bc6c6b420e05",
      "placeholder": "​",
      "style": "IPY_MODEL_ad63c8e3e1584a83a96376a61b30fcb6",
      "value": " 142k/? [00:00&lt;00:00, 974kB/s]"
     }
    },
    "f3f87e78111d4ac09bfa357fbed90dcc": {
     "model_module": "@jupyter-widgets/base",
     "model_module_version": "1.2.0",
     "model_name": "LayoutModel",
     "state": {
      "_model_module": "@jupyter-widgets/base",
      "_model_module_version": "1.2.0",
      "_model_name": "LayoutModel",
      "_view_count": null,
      "_view_module": "@jupyter-widgets/base",
      "_view_module_version": "1.2.0",
      "_view_name": "LayoutView",
      "align_content": null,
      "align_items": null,
      "align_self": null,
      "border": null,
      "bottom": null,
      "display": null,
      "flex": null,
      "flex_flow": null,
      "grid_area": null,
      "grid_auto_columns": null,
      "grid_auto_flow": null,
      "grid_auto_rows": null,
      "grid_column": null,
      "grid_gap": null,
      "grid_row": null,
      "grid_template_areas": null,
      "grid_template_columns": null,
      "grid_template_rows": null,
      "height": null,
      "justify_content": null,
      "justify_items": null,
      "left": null,
      "margin": null,
      "max_height": null,
      "max_width": null,
      "min_height": null,
      "min_width": null,
      "object_fit": null,
      "object_position": null,
      "order": null,
      "overflow": null,
      "overflow_x": null,
      "overflow_y": null,
      "padding": null,
      "right": null,
      "top": null,
      "visibility": null,
      "width": null
     }
    },
    "f5b586a1967a4ddba61ebd39fbb6f4d4": {
     "model_module": "@jupyter-widgets/base",
     "model_module_version": "1.2.0",
     "model_name": "LayoutModel",
     "state": {
      "_model_module": "@jupyter-widgets/base",
      "_model_module_version": "1.2.0",
      "_model_name": "LayoutModel",
      "_view_count": null,
      "_view_module": "@jupyter-widgets/base",
      "_view_module_version": "1.2.0",
      "_view_name": "LayoutView",
      "align_content": null,
      "align_items": null,
      "align_self": null,
      "border": null,
      "bottom": null,
      "display": null,
      "flex": null,
      "flex_flow": null,
      "grid_area": null,
      "grid_auto_columns": null,
      "grid_auto_flow": null,
      "grid_auto_rows": null,
      "grid_column": null,
      "grid_gap": null,
      "grid_row": null,
      "grid_template_areas": null,
      "grid_template_columns": null,
      "grid_template_rows": null,
      "height": null,
      "justify_content": null,
      "justify_items": null,
      "left": null,
      "margin": null,
      "max_height": null,
      "max_width": null,
      "min_height": null,
      "min_width": null,
      "object_fit": null,
      "object_position": null,
      "order": null,
      "overflow": null,
      "overflow_x": null,
      "overflow_y": null,
      "padding": null,
      "right": null,
      "top": null,
      "visibility": null,
      "width": null
     }
    }
   }
  }
 },
 "nbformat": 4,
 "nbformat_minor": 1
}
