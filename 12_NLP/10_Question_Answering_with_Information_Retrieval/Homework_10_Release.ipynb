{
 "cells": [
  {
   "cell_type": "markdown",
   "metadata": {
    "id": "xjdVbKAypQ68"
   },
   "source": [
    "## Homework 10\n",
    "### Question Answering with Information Retrieval\n",
    "\n",
    "Welcome to Homework 10! \n",
    "\n",
    "The homework contains several tasks. You can find the amount of points that you get for the correct solution in the task header. Maximum amount of points for each homework is _four_.\n",
    "\n",
    "The **grading** for each task is the following:\n",
    "- correct answer - **full points**\n",
    "- insufficient solution or solution resulting in the incorrect output - **half points**\n",
    "- no answer or completely wrong solution - **no points**\n",
    "\n",
    "Even if you don't know how to solve the task, we encourage you to write down your thoughts and progress and try to address the issues that stop you from completing the task.\n",
    "\n",
    "When working on the written tasks, try to make your answers short and accurate. Most of the times, it is possible to answer the question in 1-3 sentences.\n",
    "\n",
    "When writing code, make it readable. Choose appropriate names for your variables (`a = 'cat'` - not good, `word = 'cat'` - good). Avoid constructing lines of code longer than 100 characters (79 characters is ideal). If needed, provide the commentaries for your code, however, a good code should be easily readable without them :)\n",
    "\n",
    "Finally, all your answers should be written only by yourself. If you copy them from other sources it will be considered as an academic fraud. You can discuss the tasks with your classmates but each solution must be individual.\n",
    "\n",
    "<font color='red'>**Important!:**</font> **before sending your solution, do the `Kernel -> Restart & Run All` to ensure that all your code works.**"
   ]
  },
  {
   "cell_type": "code",
   "execution_count": null,
   "metadata": {
    "id": "X2R9TjVzNV_E"
   },
   "outputs": [],
   "source": [
    "!pip install -U sentence-transformers rank_bm25 transformers"
   ]
  },
  {
   "cell_type": "markdown",
   "metadata": {
    "id": "s2Gn4YbKpcz8"
   },
   "source": [
    "Download the Simple English Wikipedia. It has about 170,000 articles, each split into paragraphs."
   ]
  },
  {
   "cell_type": "code",
   "execution_count": 1,
   "metadata": {
    "id": "U8eCnUfwppZj"
   },
   "outputs": [],
   "source": [
    "import json\n",
    "from sentence_transformers import SentenceTransformer, CrossEncoder, util\n",
    "import gzip\n",
    "import os\n",
    "import torch\n",
    "\n",
    "wikipedia_filepath = 'simplewiki-2020-11-01.jsonl.gz'\n",
    "\n",
    "if not os.path.exists(wikipedia_filepath):\n",
    "    util.http_get('http://sbert.net/datasets/simplewiki-2020-11-01.jsonl.gz', wikipedia_filepath)"
   ]
  },
  {
   "cell_type": "markdown",
   "metadata": {
    "id": "uYe-PlaypsP0"
   },
   "source": [
    "Unpack the data and read all the paragraphs."
   ]
  },
  {
   "cell_type": "code",
   "execution_count": 2,
   "metadata": {
    "id": "gzFMeOvrpzwm"
   },
   "outputs": [
    {
     "name": "stdout",
     "output_type": "stream",
     "text": [
      "Passages: 509663\n"
     ]
    }
   ],
   "source": [
    "passages = []\n",
    "with gzip.open(wikipedia_filepath, 'rt', encoding='utf8') as fIn:\n",
    "    for line in fIn:\n",
    "        data = json.loads(line.strip())\n",
    "\n",
    "        passages.extend(data['paragraphs'])\n",
    "\n",
    "print(\"Passages:\", len(passages))"
   ]
  },
  {
   "cell_type": "markdown",
   "metadata": {
    "id": "ngCK8PBtp7sE"
   },
   "source": [
    "passages## Task 1. Information Retrieval with BM25 (1 point)\n",
    "\n",
    "To build an open-domain QA system, we usually require two components: retriever and reader. Retriever, finds the passages that correspond best to the question, and reader extracts the question from them. \n",
    "\n",
    "In this task, you are going to build a retriever based on [BM25 algorithm](https://en.wikipedia.org/wiki/Okapi_BM25). It is a bag-of-words algorithm that is similar to TfIdf but usually more robust and accurate.\n",
    "\n",
    "Use [`rank_bm25`](https://github.com/dorianbrown/rank_bm25) package to build a BM25 index on the extracted packages.\n",
    "\n",
    "First, you will need to build a tokenizer that will lowercase the text, split into tokens and remove stopwords. Then, you tokenized the passages and build a BM25 index (for example `BM25Okapi`)."
   ]
  },
  {
   "cell_type": "code",
   "execution_count": 3,
   "metadata": {
    "id": "0rueR6ovrs01"
   },
   "outputs": [
    {
     "data": {
      "application/vnd.jupyter.widget-view+json": {
       "model_id": "9c4825ae67dc47cb9c915b73ef096a9c",
       "version_major": 2,
       "version_minor": 0
      },
      "text/plain": [
       "  0%|          | 0/509663 [00:00<?, ?it/s]"
      ]
     },
     "metadata": {},
     "output_type": "display_data"
    }
   ],
   "source": [
    "from rank_bm25 import BM25Okapi\n",
    "from sklearn.feature_extraction import _stop_words\n",
    "import string\n",
    "from tqdm.autonotebook import tqdm\n",
    "import numpy as np\n",
    "\n",
    "\n",
    "# We lower case our text and remove stop-words from indexing\n",
    "def bm25_tokenizer(text):\n",
    "    tokenized_doc = []\n",
    "    ### YOUR CODE HERE\n",
    "    tokenized_doc=text.split( )\n",
    "    tokenized_doc=[word.lower() for word in tokenized_doc]\n",
    "    tokenized_doc=[word for word in tokenized_doc if not word in _stop_words.ENGLISH_STOP_WORDS]\n",
    "    ### YOUR CODE HERE\n",
    "    return tokenized_doc\n",
    "\n",
    "\n",
    "tokenized_corpus = []\n",
    "for passage in tqdm(passages):\n",
    "    tokenized_corpus.append(bm25_tokenizer(passage))\n",
    "\n",
    "bm25 = BM25Okapi(tokenized_corpus)"
   ]
  },
  {
   "cell_type": "markdown",
   "metadata": {
    "id": "DXI3jhHBrira"
   },
   "source": [
    "Next, make a function that will take a query (i.e. a question) and return top-k most similar passages along with their similarity scores. Refer to the [`rank_bm25` page](https://github.com/dorianbrown/rank_bm25) for more information. "
   ]
  },
  {
   "cell_type": "code",
   "execution_count": 4,
   "metadata": {
    "id": "D3C9VCWjsTrY"
   },
   "outputs": [],
   "source": [
    "def bm25_retriever(bm25_model, query, top_k=3):\n",
    "    ### YOUR CODE HERE\n",
    "    tokenized_query = query.split( )\n",
    "    return bm25_model.get_top_n(tokenized_query,passages,n=top_k)\n",
    "    ### YOUR CODE HERE"
   ]
  },
  {
   "cell_type": "markdown",
   "metadata": {
    "id": "9V5sioBrtl6X"
   },
   "source": [
    "Try to test it with different queries."
   ]
  },
  {
   "cell_type": "code",
   "execution_count": 5,
   "metadata": {
    "id": "OIu-QN29s_KQ"
   },
   "outputs": [
    {
     "name": "stdout",
     "output_type": "stream",
     "text": [
      "\n",
      "\n",
      "======================\n",
      "\n",
      "\n",
      "Query: who smacks Chris Rock?\n",
      "['Seminole bats are insectivores. They eat large amounts of Hymenoptera (ants, bees and wasps), Coleoptera (beetles), Lepidoptera (moths). They have also been shown to eat smaller amounts of Homoptera (cicadas) and Diptera (flies).', 'After he was set free as prisoner of war, his hometown was made Polish. He found a new home in the Ruhr area. Then he studied laws in Cologne and Bonn.', 'Since they are an animated group, they cannot perform live, like other bands can. At Gorillaz concerts, the real members of the band stand behind screens which show computer-generated images of the animated group performing.']\n",
      "\n",
      "\n",
      "======================\n",
      "\n",
      "\n",
      "Query: Which is your axe?\n",
      "['Seminole bats are insectivores. They eat large amounts of Hymenoptera (ants, bees and wasps), Coleoptera (beetles), Lepidoptera (moths). They have also been shown to eat smaller amounts of Homoptera (cicadas) and Diptera (flies).', 'After he was set free as prisoner of war, his hometown was made Polish. He found a new home in the Ruhr area. Then he studied laws in Cologne and Bonn.', 'Since they are an animated group, they cannot perform live, like other bands can. At Gorillaz concerts, the real members of the band stand behind screens which show computer-generated images of the animated group performing.']\n",
      "\n",
      "\n",
      "======================\n",
      "\n",
      "\n",
      "Query: Who won the election of French president?\n",
      "['Truman won by about 8,000 votes. He also won the election in November.', 'Obama won the presidential election of 2008.', 'Madison was selected by his political party to be the Democratic-Republican candidate for president in 1808. He won that election and the next election in 1812.']\n"
     ]
    }
   ],
   "source": [
    "queries=[\"who smacks Chris Rock?\",\"Which is your axe?\",\"Who won the election of French president?\"]\n",
    "\n",
    "for query in queries:\n",
    "    print(\"\\n\\n======================\\n\\n\")\n",
    "    print(\"Query:\", query)\n",
    "    print(bm25_retriever(bm25, query))"
   ]
  },
  {
   "cell_type": "markdown",
   "metadata": {
    "id": "uo3z4K0AuVkO"
   },
   "source": [
    "## Task 2. Information Retrieval with Bi-Encoder and CrossEncoder (2.5 points)\n",
    "\n",
    "BM25 gives plausible results but it still underperforms compared to the state of the art Transformer-based models.\n",
    "\n",
    "For the information retrieving, Bi-Encoder and CrossEncoder are usually used. You can read more about them here: https://www.sbert.net/examples/applications/cross-encoder/README.html.\n",
    "\n",
    "In short, to compare two texts, Bi-Encoder encodes both of them with the same encoder separately before computing the cosine similarity. This allows to pre-compute the embeddings for the whole corpus and find similar texts very quickly. However, these models are usually less accurate then CrossEncoders.\n",
    "\n",
    "Cross Encoder takes both sentences at once and then computes the similarity score based on the resulting representation. This leads to more accurate results but it reduces the inference computation speed since we have to encode each pair of texts separately.\n",
    "\n",
    "Usually, these two encoders are used in tandem. First, you extract top-k similar texts with Bi-Encoder, and then rerank them with Cross Encoder to get more accurate results.\n",
    "\n",
    "First, let's initiallize both of them using the [sentence-transformers](https://www.sbert.net/index.html) library."
   ]
  },
  {
   "cell_type": "code",
   "execution_count": 6,
   "metadata": {
    "id": "YKiSv7H8wTDD"
   },
   "outputs": [],
   "source": [
    "if not torch.cuda.is_available():\n",
    "    print(\"Warning: No GPU found. Please add GPU to your notebook\")\n",
    "\n",
    "\n",
    "#We use the Bi-Encoder to encode all passages, so that we can use it with sematic search\n",
    "bi_encoder = SentenceTransformer('multi-qa-MiniLM-L6-cos-v1')\n",
    "bi_encoder.max_seq_length = 256     #Truncate long passages to 256 tokens\n",
    "top_k = 32                          #Number of passages we want to retrieve with the bi-encoder\n",
    "\n",
    "#The bi-encoder will retrieve 32 documents. We use a cross-encoder, to re-rank the results list to improve the quality\n",
    "cross_encoder = CrossEncoder('cross-encoder/ms-marco-MiniLM-L-6-v2')"
   ]
  },
  {
   "cell_type": "markdown",
   "metadata": {
    "id": "KxH8xiyywbfA"
   },
   "source": [
    "Next, precompute the embeddings for each paragraph in our corpus with Bi-Encoder. \n",
    "\n",
    "Note: This might take up to 40-50 minutes!"
   ]
  },
  {
   "cell_type": "code",
   "execution_count": 7,
   "metadata": {
    "id": "8ok080mPwpP2"
   },
   "outputs": [
    {
     "data": {
      "application/vnd.jupyter.widget-view+json": {
       "model_id": "5b4888aed3ea40a6aa8a19ab26ebfabb",
       "version_major": 2,
       "version_minor": 0
      },
      "text/plain": [
       "Batches:   0%|          | 0/3982 [00:00<?, ?it/s]"
      ]
     },
     "metadata": {},
     "output_type": "display_data"
    }
   ],
   "source": [
    "corpus_embeddings = bi_encoder.encode(passages, batch_size=128, convert_to_tensor=True, show_progress_bar=True)\n",
    "\n",
    "# Optionally save the embeddings to load them faster next time\n",
    "# torch.save(corpus_embeddings, 'corpus_embeddings.pt')"
   ]
  },
  {
   "cell_type": "markdown",
   "metadata": {
    "id": "RViDErFGxMv0"
   },
   "source": [
    "Next, create a function that will use a Bi-Encoder to find top-k similar texts in the corpus and return them with their scores.\n",
    "\n",
    "For this, first [encode the query with the Bi-Encoder](https://www.sbert.net/docs/package_reference/SentenceTransformer.html#sentence_transformers.SentenceTransformer.encode). Then, transfer the resulting embedding to the GPU. Finally, use the [`util.semantic_search`](https://www.sbert.net/docs/package_reference/util.html#sentence_transformers.util.semantic_search) to find the most similar texts."
   ]
  },
  {
   "cell_type": "code",
   "execution_count": 8,
   "metadata": {
    "id": "awgB6JFpxWC6"
   },
   "outputs": [],
   "source": [
    "def bi_encoder_retriever(bi_encoder, query, corpus_embeddings, top_k=32):\n",
    "    ### YOUR CODE HERE\n",
    "    bi_encoder_output=[]\n",
    "    query_embedding = bi_encoder.encode(query, convert_to_tensor=True)\n",
    "    hits = util.semantic_search(query_embedding, corpus_embeddings,top_k=top_k)\n",
    "    for hit in hits[0]:\n",
    "        bi_encoder_output.append(passages[hit['corpus_id']])\n",
    "    \n",
    "    return bi_encoder_output\n",
    "    ### YOUR CODE HERE"
   ]
  },
  {
   "cell_type": "markdown",
   "metadata": {
    "id": "Jym5vE67yZ5S"
   },
   "source": [
    "Try to test it with different queries."
   ]
  },
  {
   "cell_type": "code",
   "execution_count": 9,
   "metadata": {
    "id": "p8R4oDY0ygVS"
   },
   "outputs": [
    {
     "name": "stdout",
     "output_type": "stream",
     "text": [
      "\n",
      "\n",
      "======================\n",
      "\n",
      "\n",
      "Query: who smacks Chris Rock?\n",
      "['Chris Rock (born February 7, 1965) is an American comedian, actor, producer, screenwriter and director. He was born in Andrews, South Carolina and raised in Brooklyn, New York City. He is known for his jokes about racial stereotypes; he talks a lot about differences that are common between black people and white people in the United States. Rock has been in many television shows, such as \"Everybody Hates Chris\" and movies, such as \"Dogma\".', 'Chris Thile () (born February 20, 1981) is an American musician, best known as a member of acoustic band Nickel Creek. He has made six albums as a solo artist and with his band, Punch Brothers. His first, \"Leading Off\", was released in 1994 when Thile was 13. Thile has also played and recorded with artists like Mike Marshall, Béla Fleck, Glen Phillips, and Edgar Meyer.', 'Christopher Adam \"Chris\" Daughtry (born December 26, 1979) is an American singer. He is best known for being the fourth-place finisher on \"American Idol\". He is also the lead singer of Daughtry. His band released their first album in 2006.', 'Robert Jens Rock (born April 19, 1954) is a Canadian musician, sound engineer, and record producer. He is best known for producing rock bands and music artists such as Metallica, Mötley Crüe, Bon Jovi, Aerosmith, the Tragically Hip, the Cult, 311, Our Lady Peace, Bryan Adams, the Offspring, Michael Bublé, Black Veil Brides, David Lee Roth, and Ron Sexsmith.', 'Christopher \"Chris\" Stewart (born 1950), is an English musician and writer. He was the first drummer for rock band Genesis. He is now a writer and a farmer.', 'Christopher James Hardman (26 August 1990 – 23 March 2015), known by the stage name Lil\\' Chris, was an English singer-songwriter, actor, and television personality. His career began in 2006, after appearing on the Channel 4 series \"Rock School\". Later that year, he released the single \"Checkin\\' It Out\", which charted at number 3, and a self-titled album.', '[[Category:Rock singers]]', 'Chris Stapleton\\xa0is an American country musician. He is signed to Universal Music Group in Nashville. He has written six number-one songs. Those songs include the five-week number one single \"Never Wanted Nothing More\" recorded by Kenny Chesney, \"Love\\'s Gonna Make It Alright\" recorded by George Strait and \"Come Back Song\" recorded by Darius Rucker.', 'Christopher B. \"Chris\" Candito (March 21, 1972–March 28, 2005) was an American professional wrestler. He was better known by his ring name Chris Candido. He was best known for his time with World Championship Wrestling (WCW), Extreme Championship Wrestling (ECW), New Japan Pro Wrestling (NJPW), Total Nonstop Action Wrestling (TNA), and Smoky Mountain Wrestling (SMW). He was also known for his time with the World Wrestling Federation (WWF) where he competed under the ring name Skip and was part of the tag team, The Bodydonnas.', 'Shawn Phillips has said in an interview that he performed background vocals on the track.', 'And he sang as he shoved that jumbuck in his tucker bag,', 'And he sang as he shoved that jumbuck in his tucker bag,', 'Chris Lake is a DJ/producer who first became recognized for his remixes of The Prodigy\\'s \"Climbatize\", Leftfield\\'s \"Phat Planet\", and The Eurythmics \"Sweet Dreams\". Since then, he has released many singles on labels such as Lost Language and 3 Beat Breaks. He also founded his own label, Cuba Recordings.', '\"Let It Rock\" is the first single of Kevin Rudolf from his first album \"In the City\". Rapper Lil Wayne is featured in the song. The track was written by Rudolf. It was used as the theme song for WWE\\'s 2009 Royal Rumble.', 'Robert James \"Bob\" Ritchie (better known as Kid Rock) (born January 17, 1971) is an American singer-songwriter, rapper, musician, record producer, and actor. He has made songs with parts of many different styles of music, including rap, heavy metal, and country.', \"Bret Michael Sychak, better known as Bret Michaels (born March 15, 1963 in Butler, Pennsylvania), is the lead singer of the glam metal band Poison. He also starred on VH1's reality television program Rock of Love 2. He is also a contestant on Celebrity Apprentice.\", 'Rock Your Body is the 3rd single off the debut album by pop singer Justin Timberlake called Justified. It was written by Timberlake and The Neptunes. He performed the single at the Super Bowl XXXVIII with Janet Jackson.', 'He also has a band to help him perform his songs. His band members are: Jim West (guitar), Steve Jay (bass), Rubén Valtierra (piano), and Jon \"Bermuda\" Schwartz (drums).', 'Dave\\'s love for rock understood everything he was referring to the \"rock culture\" so he grew his hair too much, which caused him problems with his skinhead friends. He Adopted hippie clothes and began to read the newspaper \"Melody Maker\" which spoke of the rock of that time, which also began to frequent shows and come out with a new group of friends, being the closest, Adrian Smith.', 'The band\\'s members are Thile (mandolin), Gabe Witcher (fiddle), Chris Eldridge (guitar), Greg Garrison (bass), and Noam Pikelny (banjo). Bryan Sutton also played guitar for the band when Chris Eldridge could not. In 2007, the band changed its name twice: first to \"The Tensions Mountain Boys\" and then \"Punch Brothers.\"', 'Dwayne \"The Rock\" Johnson (born May 2, 1972 in Hayward, California) is an American actor and semi-retired professional wrestler. He is best known for his work with the WWE.', 'Chris grew up in Rotherham before moving to Teignmouth where he had lived up until April 2010. While attending school there, he played for various different bands until he joined Muse when Matthew Bellamy and Dominic Howard invited him to their band. Today he is an acclaimed bass-player, receiving praise from many musicians.', 'Chris Carr or Christopher Carr may refer to:', 'He has partnered with Shaggy, Mohombi,Dj Sava, Kat DeLuna, Leftside, Kay One, Claydee, Adam Saleh and many more.', 'The main event was a No Disqualification match between Steve Austin and The Rock for the WWF Championship. During the match, Austin turned heel after he told Vince McMahon, a man that he had called his nemesis, to give him a chair. Austin hit The Rock with sixteen chair shots, which lead to Austin pinning The Rock and becoming the new WWF Champion. The PPV ended with Austin and McMahon shaking hands and sharing beers.', 'Chris Isaak (born June 26, 1956) is an American rock musician and actor. He is known for his 1950s rock and roll style. His songs are usually about love, loss and heartbreak. His has been singing for four decades. He has had twelve studio albums.', 'Michael Kevin \"Mick\" Taylor (born 17 January 1949) is an English musician best known as a former member of John Mayall\\'s Bluesbreakers and The Rolling Stones. He is well known for his skills as a \"slide guitar\" player. He also plays piano, bass and drums.', 'Anthony Christopher Hicks (born 16 December 1945) is an English guitarist and singer. He was a member of the British pop group The Hollies since 1963. He was added into the Rock and Roll Hall of Fame in 2010. He was born in Nelson, Lancashire.', 'For a side project away from his band Nickel Creek, Chris Thile knew he wanted to form a five-piece string band that featured mandolin, violin, banjo, acoustic guitar, and double bass. Thile also wanted the band to feature his friend and fiddle player Gabe Witcher, but didn’t know what kind of band he wanted it to be. At the Telluride Bluegrass Festival in Colorado, Thile met banjo player Noam Pikelny and later said that “every note he played was something I wish I’d played”. At that time, Thile decided that he wanted “put [his] stamp” on the normal bluegrass band. Thile wanted to find five people to make the five-piece band he planned. He had already found fiddle, banjo, and mandolin players, so he just had to find double bass and acoustic guitar players. The bass player Thile was looking for turned out to be Greg Garrison, a friend of Noam Pikelny. Before this, Pikelny had played with Garrison in the band Leftover Salmon. The guitar player Thile needed became Chris Eldridge, famous as a member of the Infamous Stringdusters. The five people met up in Nashville on one day in 2005 and decided to “do something musical together”. A few days later, the group met again “to drop a ton of money, drink too much wine, eat steaks, and [talk] about our failed relationships”. That night, they formed a bluegrass band.', 'Nickel Creek was an American acoustic musical group. Although the group\\'s music has roots in bluegrass, Nickel Creek now calls itself \"progressive acoustic\". The band has three people: Chris Thile (mandolin), Sean Watkins (guitar), and Sara Watkins (violin). A fourth member also plays bass with the band. Chris Thile\\'s father Scott Thile, Byron House, and Derek Jones have played bass with the group. Mark Schatz has played bass with Nickel Creek since 2003. The band has played songs by Radiohead, Elliott Smith, Bob Dylan, and even \"Toxic\" by Britney Spears. However, most of the songs the band play are originals.', 'He debuted on the main roster on January 26, 2014 at the Royal Rumble. He entered the Rumble at #6 and was eliminated by Kofi Kingston, CM Punk, Cody Rhodes, and Seth Rollins. After not appearing for several months, he returned on the April 7 episode of \"Raw\" alongside Lana where he squashed Zack Ryder.', \"He also worked briefly with The Smashing Pumpkins. In 1998, he played drums for Pearl Jam's Yield Tour. Later he joined the band as a permanent member.\"]\n",
      "\n",
      "\n",
      "======================\n",
      "\n",
      "\n",
      "Query: Which is your axe?\n",
      "['An axe (or ax) is an ancient tool. It is used to shape, split and cut wood.', 'A battle-axe (also battle axe or battle-ax) is an axe designed for combat. Battle axes were versions of utility axes. Many were suitable for use in one hand, while others were larger and were used two-handed.', 'The Axe is a 2005 Belgian French Spanish drama movie directed by Costa-Gavras and was based on the 1997 novel of the same name by Donald E. Westlake. It stars José Garcia, Karin Viard, Geordy Monfils, Christa Theret, Ulrich Tukur, Olivier Gourmet, Thierry Hancisse.', 'Axe (known as Lynx in United Kingdom, the Republic of Ireland, Australia and New Zealand) are a brand of grooming products. They are marketed more towards younger men.', 'The hand axe was probably the first tool in the Stone Age. It did not have a handle.', 'A hand axe is a stone tool of the Lower (early) and Middle Paleolithic Stone Age. It was a bifacial, similar on both sides, and held in the hand, not with a handle like a modern axe. It was held directly in the hand, perhaps wrapped in a piece of leather.', 'The Arkalochori Axe is a bronze double axe, probably from the 17th century BC. The axe was found in a cave on Crete, in 1934. Other items were also found together with the axe. Possibly, there was an earthquake which rendered the cave inaccessible, at the end of the period SM I. The axe was probably used for a reliious ritual. The axe is inscribed with fifteen symbols. It has been suggested that these might be Linear A but Professor Glanville Price agrees with Louis Godart that \"the characters on the axe are no more than a \\'pseudo-inscription\\' engraved by an illiterate in uncomprehending imitation of authentic Linear A characters on other similar axes.\" The axe and the Phaistos Disc are conserved in the Iraklion Archaeological Museum.', ', is a fantasy 2D fighting video game in the \"Golden Axe\" series. It was made by Sega AM1 and published by Sega for the Sega Titan Video arcade machine and for the Sega Saturn in 1995.', 'A seated Shiva holds an axe and deer in his hands.', 'Together with this axe, hundreds of long swords, knives and double axes were found in the cave. Most of these were given as offerings, but some are usable. There are 25 small double axes made of gold and seven made of silver. Among the axes found, there are a golden axe, and one made of sivler; either axe is only about 5\\xa0cm wide. Both axes (ref \"AR Zf 1\" and \"AR Zf 2\") bear the same inscription of a word in Linear A:', 'This kind of axe is typical of the Acheulean and the Mousterian cultures, and is the longest-used tool of human history. Hand axes were certainly used for at least a million and a half years. They were made by earlier species of man, such as \"Homo erectus\" and \"Homo neanderthalensis\" (Neanderthal Man); it was one of their most important tools. The hand axe cultures were preceded by an even older Oldowan culture of primitive stone tools (2.6 to 1.7 million years ago) in Africa. Now it is known that the first stone tools were probably made by Australopithecines. They are found in the Great Rift Valley of Africa from about 3.3 million years ago.', 'When the cave was searched again in 1934, a bigger double axe, made of bronze was found. This axe is about 30 centimetres wide. It is special because it bears an inscription. The symbols on the axe are aligned in three columns. These characters have been compared to both Linear A and the stamps on the Phaistos disc. As of 2012, the writing is unreadable.', 'Axes were always cheaper than swords and were always available.', 'The most distinctive tool of erectus was the Acheulean hand axe, first invented 1.8 million years ago (mya). This hand axe was made by chipping a suitable stone with a hammer stone. Later, the neanderthals used a soft hammer made of deer antler bone to make better tools. The Acheulean hand axe lasted for over a million years as the main tool. Its main use was for butchering meat. This we know because different uses leave different micro-wear on the hand axe surfaces.', 'Hennig worked in the American Wrestling Association, National Wrestling Alliance, and the World Wide Wrestling Federation. Hennig was known by the nickname, \"The Axe\", a nickname he had because of his signature, often finishing move of dropping a full weight elbow onto his opponents.', 'A diving double axe handle (also known as diving axe handle, diving double axe handle smash or diving double sledge) is a move where a wrestler jumps from the top turnbuckle to either the mat or floor and hits their opponent with two fists that are held together in the fashion of holding an axe.', \"At a New Year's Day feast in Camelot, a huge green man rides in on a green horse carrying a large axe. He issues a challenge to any who dares to accept. He challenges any knight to strike him with his axe, if he will take a return blow in a year and a day.\", 'The Axeman of New Orleans was an American serial killer active in New Orleans, Louisiana from May 1918 to October 1919. The killer was never identified, and the murders remain unsolved.', 'The cave where the axe was found was used from about 2500 BC onwards. In 1912, 53 bronze swords, and 19 double axes were found there; one of the axes is made of silver. Such axes often appear on items which have been attributed to the Minoan or Mycenean culture. One example is the Hagia Triada sarcophagus, which has been dated to the 14th century BC.', \"C-ome, therefore, Lord, from Satan's claws relieve me.\", '\"Savage\" is a new term.', 'Níðhöggr (Old Norse: \"Níðhǫggr\" - “Malice striker”), a massive dragon/serpent-like being that gnaws at its root(s), an unnamed eagle, and the hawk Veðrfölnir (Old Norse: “wind bleached” or “wind-witherer”), who sits between its eyes, along with the four stags Dáinn, Dvalinn, Duneyrr, and Duraþrór.', 'A failed member of Axe Gang wants to make big in crime world but consequences force him to go on right path', 'An experienced flintknapper needs less than 15 minutes to produce a good quality hand axe. A simple hand axe can be made from a beach pebble in less than 3 minutes.', 'The incus or (anvil) is a bone in the middle ear.', 'Nor shall my sword sleep in my hand,', 'Studies in the 1990s at Boxgrove, in which a butcher attempted to cut up a carcass with a hand axe, showed that the hand axe was perfect for getting at the bone marrow, which is high in protein and vitamins and thus was highly prized as a food source.', 'The jaws that bite, the claws that catch!', 'In woodworking, hewing is the use of an axe to make a log into lumber. It is a very old way of making lumber, and was used in ancient times. Before the industrial era it was the normal way to make wood beams. Today it has mostly been replaced by sawmills, but is in some use.', 'A double axe handle, Double Sledge, Polish Hammer or Double Axe Hammer is a move where a wrestler clutches both of their hands together, swings them at their opponent and hits a part of them. The name Polish Hammer came from Ivan Putski. There is also a top rope version.', 'Axes designed for warfare ranged in weight from just over 0.5\\xa0kg to 3\\xa0kg (1 to 6 pounds), and in length from just over 30\\xa0cm to upwards of 1.5 m (1 to 5 feet), as in the case of the Danish axe or the sparth axe. Cleaving weapons longer than 1.5 m would arguably fall into the category of polearms.', 'The coat of arms of Norway is a golden lion on a red background, bearing a golden crown and axe with silver blade (blazoned: \"Gules, a lion rampant Or, crowned Or, holding an axe Or with a blade argent\").']\n",
      "\n",
      "\n",
      "======================\n",
      "\n",
      "\n",
      "Query: Who won the election of French president?\n",
      "['The President of the French Republic is the head of state of France. The current President is Emmanuel Macron since 14 May 2017 defeating Marine Le Pen in the second round of the presidential election on 7 May 2017.', 'The 2017 French presidential election is a presidential election in France that took place on May 7th, 2017. The incumbent president, François Hollande, decided not to run for a second term because of his low approval ratings.', 'The 2007 French presidential election was a presidential election in France that took place on 21–22 April and 5–6 May 2007. The incumbent president, Jacques Chirac, decided not to run for a third term.', 'He was the leader of the UMP, and was elected President of the French Republic on 6 May 2007. He defeated Ségolène Royal, of the Socialist Party.', 'Asselineau qualified to run in the 2017 French presidential election on 23 April 2017. He received almost 1% of the national vote, with 332,588 votes.', \"François Gérard Georges Nicolas Hollande (born 12 August 1954) is a French politician. He was the President of France. This means he was also the Co-Prince of Andorra from 2012 to 2017. He was born in Rouen. He ran for the Socialist party. Before becoming president, he was a deputy for the Corrèze, and the mayor of Tulle. He studied law in Paris. He also studied at the École des hautes études commerciales de Paris and the Institut d'études politiques de Paris. He was among the best in his studies at the École nationale d'administration. He was elected President of France on 6 May 2012, defeating Nicolas Sarkozy. There were two rounds of voting. In the first, 28% of the people voted for him. In the second round, with only two candidates, 51% did.\", 'Jospin was the Socialist Party candidate for President of France in the elections of 1995 and 2002. He was narrowly defeated in the final runoff election by Jacques Chirac in 1995. He ran for President again in 2002, and was eliminated in the first round due to finishing behind both Chirac and the far-right candidate Jean-Marie Le Pen.', \"He was the lead candidate for the Workers' Party in the 1994 European Parliament election; he later received 0.43% of the vote. He ran for president in the 2002 French presidential election. He received 0.47% of the vote, with 132,686 votes.\", \"In 1981 Mitterrand defeated the neoliberal Valéry Giscard d'Estaing, to become the first socialist elected President of France by universal suffrage.\", 'The 2002 French presidential election was a presidential election in France that took place on 21 April and 5 May 2002. The incumbent president, Jacques Chirac, decided to run for a second term.', 'He ran for president in the 2002 French presidential election. He received 2.33% of the vote, and did not advance to the second round. He endorsed Le Pen in the second round.', 'The 2012 French presidential election was a presidential election in France that took place on 22 April 2012 and 5–6 May 2012. The incumbent president, Nicolas Sarkozy, ran for a second term.', 'He served in the French National Assembly from 1956-1959.', 'He lost the mayor of Chaumont at the French municipal elections of 1995.', 'François Maurice Adrien Marie Mitterrand (26 October 1916 - 8 January 1996) was a French politician who was the President of the French Republic from 21 May 1981 until 17 May 1995. He was born in Jarnac in the Charente department. He was a member of the Socialist Party. Before being elected president, he had held several positions in the French Cabinet. As President of France, he was also one of the Co-Princes of Andorra. Jacques Chirac was President of France and \"ex officio\" Co-Prince of Andorra after him. Mitterrand died of prostate cancer in Paris. He was laid to rest in his birthplace Jarnac.', 'He also was Prime Minister of France from 14 April 1962 until 10 July 1968. In 1968, he was elected president. He died of lymphoma in Paris. He is the only French president of the French Fifth Republic to die in office.', 'He was elected as President of Burkina Faso in the November 2015 general election, winning a majority in the first round of voting.', 'Marie François Sadi Carnot (; 11 August 1837 – 25 June 1894) was a French statesman, the fourth president of the Third French Republic. He served as the President of France from 1887 until he was murdered by Sante Geronimo Caserio in 1894.', 'On 21 April 2002, Jacques Chirac from the Rally for the Republic won 19.9% of the vote and Jean-Marie Le Pen from the National Front won 16.9% of the vote. Both candidates advanced to the second round of the election, which Jacques Chirac later easily won with 82.2% of the vote.', 'Alain Émile Louis Marie Poher was a French politician. He was president of the French Senate from 3 October 1968 to 1 October 1992. Because of this he was interim President of France twice.', 'Georges Jean Raymond Pompidou (5 July 1911 - 2 April 1974) was a French politician. He was the President of the French Republic from 20 June 1969 until 2 April 1974. He was born in Cantal. He fought in World War II.', 'On 22 April 2012, François Hollande won 29% of the vote with Nicolas Sarkozy winning 27%. Both candidates advanced to the second round of the election, which Hollande later won with 52% of the vote.', \"Valéry Marie René Georges Giscard d'Estaing (; born 2 February 1926) is a French centrist politician. He is a member of the Constitutional Council of France. He served as President of France from 1974 until 1981. He also was Minister of Finance under prime ministers Jacques Chaban-Delmas and Pierre Messmer.\", 'In the 2004 and 2008 elections, he won in Montmorency—Charlevoix—Haute-Côte-Nord before being defeated in the 2011 federal election. A lawyer, he has served as the Bloc critic of Parliamentary Affairs, Transport and to the Auditor General.', 'Jean Paul Pierre Casimir-Perier (; 8 November 1847 – 11 March 1907) was a French politician, fifth president of the French Third Republic.', 'There are three living former French presidents:', 'He was elected to the French Academy of Sciences the 18th of November 2003.', \"In 1848, he was elected President of France in a land slide victory. He won the election because of his popular name and French people hoped that he would return his uncle's glory. He used his rank as stepping stone to greater power. Finally in 1852, he crowned himself as Emperor Napoleon III and the Second French Empire was born.In 1856, Eugenie gave birth to a legitimate son and heir, Louis Napoléon, the Prince Impérial.\", 'Kennedy won the election.', \"Michèle Victory (born 1958) is a French politician for the Socialist Party and a member of the French National Assembly for Ardèche's 2nd constituency. She was first a substitute candidate in 2007 and became a member of the assembly in December 2017.\", 'Alain Marie Juppé (; born 15 August 1945) is a French politician. He was a member of The Republicans. He was Prime Minister of France from 1995 to 1997 under President Jacques Chirac. He was President of the political party Union for a Popular Movement (UMP) from 2002 to 2004 and mayor of Bordeaux from 1995 to 2004.', 'Jacques René Chirac (29 November 1932 – 26 September 2019) was a French politician who served as President of the French Republic and \"ex officio\" Co-Prince of Andorra from 1995 to 2007. He was re-elected in 2002. Before that, he was Prime Minister of France twice, and Mayor of Paris from 1977 to 1995.']\n"
     ]
    }
   ],
   "source": [
    "queries=[\"who smacks Chris Rock?\",\"Which is your axe?\",\"Who won the election of French president?\"]\n",
    "\n",
    "for query in queries:\n",
    "    bi_encoder_output = bi_encoder_retriever(bi_encoder, query, corpus_embeddings)\n",
    "    print(\"\\n\\n======================\\n\\n\")\n",
    "    print(\"Query:\", query)\n",
    "    print(bi_encoder_output)"
   ]
  },
  {
   "cell_type": "markdown",
   "metadata": {
    "id": "g1uA3X5lynDM"
   },
   "source": [
    "Now, make a function that would take the retrieved texts by the Bi-Encoder and [re-rank them with the CrossEncoder](https://www.sbert.net/examples/applications/cross-encoder/README.html#cross-encoders-usage)."
   ]
  },
  {
   "cell_type": "code",
   "execution_count": 10,
   "metadata": {
    "id": "ADSHZNFcyvpT"
   },
   "outputs": [],
   "source": [
    "def rerank(cross_encoder, query, bi_encoder_output):\n",
    "    ### YOUR CODE HERE\n",
    "    rerank=[]\n",
    "    sentence_combinations = [[query, corpus_sentence] for corpus_sentence in bi_encoder_output]\n",
    "    similarity_scores = cross_encoder.predict(sentence_combinations)\n",
    "    sim_scores_argsort = reversed(np.argsort(similarity_scores))\n",
    "    \n",
    "    for idx in sim_scores_argsort:\n",
    "        rerank.append(bi_encoder_output[idx])\n",
    "    return rerank\n",
    "    ### YOUR CODE HERE"
   ]
  },
  {
   "cell_type": "markdown",
   "metadata": {
    "id": "NpVpHGeszKUs"
   },
   "source": [
    "Test the rerank function."
   ]
  },
  {
   "cell_type": "code",
   "execution_count": 11,
   "metadata": {
    "id": "PptQH1H_zQst"
   },
   "outputs": [
    {
     "name": "stdout",
     "output_type": "stream",
     "text": [
      "\n",
      "\n",
      "======================\n",
      "\n",
      "\n",
      "Query: who smacks Chris Rock?\n",
      "[\"He was the lead candidate for the Workers' Party in the 1994 European Parliament election; he later received 0.43% of the vote. He ran for president in the 2002 French presidential election. He received 0.47% of the vote, with 132,686 votes.\", 'In the 2004 and 2008 elections, he won in Montmorency—Charlevoix—Haute-Côte-Nord before being defeated in the 2011 federal election. A lawyer, he has served as the Bloc critic of Parliamentary Affairs, Transport and to the Auditor General.', 'He was elected to the French Academy of Sciences the 18th of November 2003.', 'Alain Marie Juppé (; born 15 August 1945) is a French politician. He was a member of The Republicans. He was Prime Minister of France from 1995 to 1997 under President Jacques Chirac. He was President of the political party Union for a Popular Movement (UMP) from 2002 to 2004 and mayor of Bordeaux from 1995 to 2004.', 'He served in the French National Assembly from 1956-1959.', 'He was elected as President of Burkina Faso in the November 2015 general election, winning a majority in the first round of voting.', \"François Gérard Georges Nicolas Hollande (born 12 August 1954) is a French politician. He was the President of France. This means he was also the Co-Prince of Andorra from 2012 to 2017. He was born in Rouen. He ran for the Socialist party. Before becoming president, he was a deputy for the Corrèze, and the mayor of Tulle. He studied law in Paris. He also studied at the École des hautes études commerciales de Paris and the Institut d'études politiques de Paris. He was among the best in his studies at the École nationale d'administration. He was elected President of France on 6 May 2012, defeating Nicolas Sarkozy. There were two rounds of voting. In the first, 28% of the people voted for him. In the second round, with only two candidates, 51% did.\", \"Valéry Marie René Georges Giscard d'Estaing (; born 2 February 1926) is a French centrist politician. He is a member of the Constitutional Council of France. He served as President of France from 1974 until 1981. He also was Minister of Finance under prime ministers Jacques Chaban-Delmas and Pierre Messmer.\", 'He was the leader of the UMP, and was elected President of the French Republic on 6 May 2007. He defeated Ségolène Royal, of the Socialist Party.', 'François Maurice Adrien Marie Mitterrand (26 October 1916 - 8 January 1996) was a French politician who was the President of the French Republic from 21 May 1981 until 17 May 1995. He was born in Jarnac in the Charente department. He was a member of the Socialist Party. Before being elected president, he had held several positions in the French Cabinet. As President of France, he was also one of the Co-Princes of Andorra. Jacques Chirac was President of France and \"ex officio\" Co-Prince of Andorra after him. Mitterrand died of prostate cancer in Paris. He was laid to rest in his birthplace Jarnac.', 'Jacques René Chirac (29 November 1932 – 26 September 2019) was a French politician who served as President of the French Republic and \"ex officio\" Co-Prince of Andorra from 1995 to 2007. He was re-elected in 2002. Before that, he was Prime Minister of France twice, and Mayor of Paris from 1977 to 1995.', 'He ran for president in the 2002 French presidential election. He received 2.33% of the vote, and did not advance to the second round. He endorsed Le Pen in the second round.', \"Michèle Victory (born 1958) is a French politician for the Socialist Party and a member of the French National Assembly for Ardèche's 2nd constituency. She was first a substitute candidate in 2007 and became a member of the assembly in December 2017.\", 'He also was Prime Minister of France from 14 April 1962 until 10 July 1968. In 1968, he was elected president. He died of lymphoma in Paris. He is the only French president of the French Fifth Republic to die in office.', 'Marie François Sadi Carnot (; 11 August 1837 – 25 June 1894) was a French statesman, the fourth president of the Third French Republic. He served as the President of France from 1887 until he was murdered by Sante Geronimo Caserio in 1894.', 'Jean Paul Pierre Casimir-Perier (; 8 November 1847 – 11 March 1907) was a French politician, fifth president of the French Third Republic.', 'Georges Jean Raymond Pompidou (5 July 1911 - 2 April 1974) was a French politician. He was the President of the French Republic from 20 June 1969 until 2 April 1974. He was born in Cantal. He fought in World War II.', 'Jospin was the Socialist Party candidate for President of France in the elections of 1995 and 2002. He was narrowly defeated in the final runoff election by Jacques Chirac in 1995. He ran for President again in 2002, and was eliminated in the first round due to finishing behind both Chirac and the far-right candidate Jean-Marie Le Pen.', 'He lost the mayor of Chaumont at the French municipal elections of 1995.', 'Alain Émile Louis Marie Poher was a French politician. He was president of the French Senate from 3 October 1968 to 1 October 1992. Because of this he was interim President of France twice.', 'The President of the French Republic is the head of state of France. The current President is Emmanuel Macron since 14 May 2017 defeating Marine Le Pen in the second round of the presidential election on 7 May 2017.', 'Asselineau qualified to run in the 2017 French presidential election on 23 April 2017. He received almost 1% of the national vote, with 332,588 votes.', \"In 1848, he was elected President of France in a land slide victory. He won the election because of his popular name and French people hoped that he would return his uncle's glory. He used his rank as stepping stone to greater power. Finally in 1852, he crowned himself as Emperor Napoleon III and the Second French Empire was born.In 1856, Eugenie gave birth to a legitimate son and heir, Louis Napoléon, the Prince Impérial.\", 'On 21 April 2002, Jacques Chirac from the Rally for the Republic won 19.9% of the vote and Jean-Marie Le Pen from the National Front won 16.9% of the vote. Both candidates advanced to the second round of the election, which Jacques Chirac later easily won with 82.2% of the vote.', 'On 22 April 2012, François Hollande won 29% of the vote with Nicolas Sarkozy winning 27%. Both candidates advanced to the second round of the election, which Hollande later won with 52% of the vote.', 'The 2012 French presidential election was a presidential election in France that took place on 22 April 2012 and 5–6 May 2012. The incumbent president, Nicolas Sarkozy, ran for a second term.', 'The 2007 French presidential election was a presidential election in France that took place on 21–22 April and 5–6 May 2007. The incumbent president, Jacques Chirac, decided not to run for a third term.', 'The 2002 French presidential election was a presidential election in France that took place on 21 April and 5 May 2002. The incumbent president, Jacques Chirac, decided to run for a second term.', \"In 1981 Mitterrand defeated the neoliberal Valéry Giscard d'Estaing, to become the first socialist elected President of France by universal suffrage.\", 'The 2017 French presidential election is a presidential election in France that took place on May 7th, 2017. The incumbent president, François Hollande, decided not to run for a second term because of his low approval ratings.', 'Kennedy won the election.', 'There are three living former French presidents:']\n",
      "\n",
      "\n",
      "======================\n",
      "\n",
      "\n",
      "Query: Which is your axe?\n",
      "['François Maurice Adrien Marie Mitterrand (26 October 1916 - 8 January 1996) was a French politician who was the President of the French Republic from 21 May 1981 until 17 May 1995. He was born in Jarnac in the Charente department. He was a member of the Socialist Party. Before being elected president, he had held several positions in the French Cabinet. As President of France, he was also one of the Co-Princes of Andorra. Jacques Chirac was President of France and \"ex officio\" Co-Prince of Andorra after him. Mitterrand died of prostate cancer in Paris. He was laid to rest in his birthplace Jarnac.', \"Valéry Marie René Georges Giscard d'Estaing (; born 2 February 1926) is a French centrist politician. He is a member of the Constitutional Council of France. He served as President of France from 1974 until 1981. He also was Minister of Finance under prime ministers Jacques Chaban-Delmas and Pierre Messmer.\", \"François Gérard Georges Nicolas Hollande (born 12 August 1954) is a French politician. He was the President of France. This means he was also the Co-Prince of Andorra from 2012 to 2017. He was born in Rouen. He ran for the Socialist party. Before becoming president, he was a deputy for the Corrèze, and the mayor of Tulle. He studied law in Paris. He also studied at the École des hautes études commerciales de Paris and the Institut d'études politiques de Paris. He was among the best in his studies at the École nationale d'administration. He was elected President of France on 6 May 2012, defeating Nicolas Sarkozy. There were two rounds of voting. In the first, 28% of the people voted for him. In the second round, with only two candidates, 51% did.\", 'Jacques René Chirac (29 November 1932 – 26 September 2019) was a French politician who served as President of the French Republic and \"ex officio\" Co-Prince of Andorra from 1995 to 2007. He was re-elected in 2002. Before that, he was Prime Minister of France twice, and Mayor of Paris from 1977 to 1995.', 'Marie François Sadi Carnot (; 11 August 1837 – 25 June 1894) was a French statesman, the fourth president of the Third French Republic. He served as the President of France from 1887 until he was murdered by Sante Geronimo Caserio in 1894.', 'Alain Marie Juppé (; born 15 August 1945) is a French politician. He was a member of The Republicans. He was Prime Minister of France from 1995 to 1997 under President Jacques Chirac. He was President of the political party Union for a Popular Movement (UMP) from 2002 to 2004 and mayor of Bordeaux from 1995 to 2004.', 'Jean Paul Pierre Casimir-Perier (; 8 November 1847 – 11 March 1907) was a French politician, fifth president of the French Third Republic.', 'Georges Jean Raymond Pompidou (5 July 1911 - 2 April 1974) was a French politician. He was the President of the French Republic from 20 June 1969 until 2 April 1974. He was born in Cantal. He fought in World War II.', \"Michèle Victory (born 1958) is a French politician for the Socialist Party and a member of the French National Assembly for Ardèche's 2nd constituency. She was first a substitute candidate in 2007 and became a member of the assembly in December 2017.\", 'He served in the French National Assembly from 1956-1959.', 'The President of the French Republic is the head of state of France. The current President is Emmanuel Macron since 14 May 2017 defeating Marine Le Pen in the second round of the presidential election on 7 May 2017.', 'Jospin was the Socialist Party candidate for President of France in the elections of 1995 and 2002. He was narrowly defeated in the final runoff election by Jacques Chirac in 1995. He ran for President again in 2002, and was eliminated in the first round due to finishing behind both Chirac and the far-right candidate Jean-Marie Le Pen.', \"He was the lead candidate for the Workers' Party in the 1994 European Parliament election; he later received 0.43% of the vote. He ran for president in the 2002 French presidential election. He received 0.47% of the vote, with 132,686 votes.\", 'Alain Émile Louis Marie Poher was a French politician. He was president of the French Senate from 3 October 1968 to 1 October 1992. Because of this he was interim President of France twice.', 'He also was Prime Minister of France from 14 April 1962 until 10 July 1968. In 1968, he was elected president. He died of lymphoma in Paris. He is the only French president of the French Fifth Republic to die in office.', 'He was elected to the French Academy of Sciences the 18th of November 2003.', 'The 2017 French presidential election is a presidential election in France that took place on May 7th, 2017. The incumbent president, François Hollande, decided not to run for a second term because of his low approval ratings.', \"In 1848, he was elected President of France in a land slide victory. He won the election because of his popular name and French people hoped that he would return his uncle's glory. He used his rank as stepping stone to greater power. Finally in 1852, he crowned himself as Emperor Napoleon III and the Second French Empire was born.In 1856, Eugenie gave birth to a legitimate son and heir, Louis Napoléon, the Prince Impérial.\", 'He was the leader of the UMP, and was elected President of the French Republic on 6 May 2007. He defeated Ségolène Royal, of the Socialist Party.', 'In the 2004 and 2008 elections, he won in Montmorency—Charlevoix—Haute-Côte-Nord before being defeated in the 2011 federal election. A lawyer, he has served as the Bloc critic of Parliamentary Affairs, Transport and to the Auditor General.', 'The 2007 French presidential election was a presidential election in France that took place on 21–22 April and 5–6 May 2007. The incumbent president, Jacques Chirac, decided not to run for a third term.', 'The 2012 French presidential election was a presidential election in France that took place on 22 April 2012 and 5–6 May 2012. The incumbent president, Nicolas Sarkozy, ran for a second term.', 'The 2002 French presidential election was a presidential election in France that took place on 21 April and 5 May 2002. The incumbent president, Jacques Chirac, decided to run for a second term.', 'On 21 April 2002, Jacques Chirac from the Rally for the Republic won 19.9% of the vote and Jean-Marie Le Pen from the National Front won 16.9% of the vote. Both candidates advanced to the second round of the election, which Jacques Chirac later easily won with 82.2% of the vote.', 'On 22 April 2012, François Hollande won 29% of the vote with Nicolas Sarkozy winning 27%. Both candidates advanced to the second round of the election, which Hollande later won with 52% of the vote.', \"In 1981 Mitterrand defeated the neoliberal Valéry Giscard d'Estaing, to become the first socialist elected President of France by universal suffrage.\", 'He was elected as President of Burkina Faso in the November 2015 general election, winning a majority in the first round of voting.', 'Kennedy won the election.', 'He ran for president in the 2002 French presidential election. He received 2.33% of the vote, and did not advance to the second round. He endorsed Le Pen in the second round.', 'Asselineau qualified to run in the 2017 French presidential election on 23 April 2017. He received almost 1% of the national vote, with 332,588 votes.', 'There are three living former French presidents:', 'He lost the mayor of Chaumont at the French municipal elections of 1995.']\n",
      "\n",
      "\n",
      "======================\n",
      "\n",
      "\n",
      "Query: Who won the election of French president?\n",
      "['The 2017 French presidential election is a presidential election in France that took place on May 7th, 2017. The incumbent president, François Hollande, decided not to run for a second term because of his low approval ratings.', 'The 2012 French presidential election was a presidential election in France that took place on 22 April 2012 and 5–6 May 2012. The incumbent president, Nicolas Sarkozy, ran for a second term.', 'The 2007 French presidential election was a presidential election in France that took place on 21–22 April and 5–6 May 2007. The incumbent president, Jacques Chirac, decided not to run for a third term.', 'The 2002 French presidential election was a presidential election in France that took place on 21 April and 5 May 2002. The incumbent president, Jacques Chirac, decided to run for a second term.', 'The President of the French Republic is the head of state of France. The current President is Emmanuel Macron since 14 May 2017 defeating Marine Le Pen in the second round of the presidential election on 7 May 2017.', \"In 1848, he was elected President of France in a land slide victory. He won the election because of his popular name and French people hoped that he would return his uncle's glory. He used his rank as stepping stone to greater power. Finally in 1852, he crowned himself as Emperor Napoleon III and the Second French Empire was born.In 1856, Eugenie gave birth to a legitimate son and heir, Louis Napoléon, the Prince Impérial.\", 'Jospin was the Socialist Party candidate for President of France in the elections of 1995 and 2002. He was narrowly defeated in the final runoff election by Jacques Chirac in 1995. He ran for President again in 2002, and was eliminated in the first round due to finishing behind both Chirac and the far-right candidate Jean-Marie Le Pen.', \"In 1981 Mitterrand defeated the neoliberal Valéry Giscard d'Estaing, to become the first socialist elected President of France by universal suffrage.\", 'On 22 April 2012, François Hollande won 29% of the vote with Nicolas Sarkozy winning 27%. Both candidates advanced to the second round of the election, which Hollande later won with 52% of the vote.', 'Asselineau qualified to run in the 2017 French presidential election on 23 April 2017. He received almost 1% of the national vote, with 332,588 votes.', 'He ran for president in the 2002 French presidential election. He received 2.33% of the vote, and did not advance to the second round. He endorsed Le Pen in the second round.', 'He was the leader of the UMP, and was elected President of the French Republic on 6 May 2007. He defeated Ségolène Royal, of the Socialist Party.', \"He was the lead candidate for the Workers' Party in the 1994 European Parliament election; he later received 0.43% of the vote. He ran for president in the 2002 French presidential election. He received 0.47% of the vote, with 132,686 votes.\", \"François Gérard Georges Nicolas Hollande (born 12 August 1954) is a French politician. He was the President of France. This means he was also the Co-Prince of Andorra from 2012 to 2017. He was born in Rouen. He ran for the Socialist party. Before becoming president, he was a deputy for the Corrèze, and the mayor of Tulle. He studied law in Paris. He also studied at the École des hautes études commerciales de Paris and the Institut d'études politiques de Paris. He was among the best in his studies at the École nationale d'administration. He was elected President of France on 6 May 2012, defeating Nicolas Sarkozy. There were two rounds of voting. In the first, 28% of the people voted for him. In the second round, with only two candidates, 51% did.\", 'Jean Paul Pierre Casimir-Perier (; 8 November 1847 – 11 March 1907) was a French politician, fifth president of the French Third Republic.', 'Jacques René Chirac (29 November 1932 – 26 September 2019) was a French politician who served as President of the French Republic and \"ex officio\" Co-Prince of Andorra from 1995 to 2007. He was re-elected in 2002. Before that, he was Prime Minister of France twice, and Mayor of Paris from 1977 to 1995.', 'Georges Jean Raymond Pompidou (5 July 1911 - 2 April 1974) was a French politician. He was the President of the French Republic from 20 June 1969 until 2 April 1974. He was born in Cantal. He fought in World War II.', 'On 21 April 2002, Jacques Chirac from the Rally for the Republic won 19.9% of the vote and Jean-Marie Le Pen from the National Front won 16.9% of the vote. Both candidates advanced to the second round of the election, which Jacques Chirac later easily won with 82.2% of the vote.', 'François Maurice Adrien Marie Mitterrand (26 October 1916 - 8 January 1996) was a French politician who was the President of the French Republic from 21 May 1981 until 17 May 1995. He was born in Jarnac in the Charente department. He was a member of the Socialist Party. Before being elected president, he had held several positions in the French Cabinet. As President of France, he was also one of the Co-Princes of Andorra. Jacques Chirac was President of France and \"ex officio\" Co-Prince of Andorra after him. Mitterrand died of prostate cancer in Paris. He was laid to rest in his birthplace Jarnac.', 'Alain Émile Louis Marie Poher was a French politician. He was president of the French Senate from 3 October 1968 to 1 October 1992. Because of this he was interim President of France twice.', 'Marie François Sadi Carnot (; 11 August 1837 – 25 June 1894) was a French statesman, the fourth president of the Third French Republic. He served as the President of France from 1887 until he was murdered by Sante Geronimo Caserio in 1894.', \"Valéry Marie René Georges Giscard d'Estaing (; born 2 February 1926) is a French centrist politician. He is a member of the Constitutional Council of France. He served as President of France from 1974 until 1981. He also was Minister of Finance under prime ministers Jacques Chaban-Delmas and Pierre Messmer.\", 'He also was Prime Minister of France from 14 April 1962 until 10 July 1968. In 1968, he was elected president. He died of lymphoma in Paris. He is the only French president of the French Fifth Republic to die in office.', 'Alain Marie Juppé (; born 15 August 1945) is a French politician. He was a member of The Republicans. He was Prime Minister of France from 1995 to 1997 under President Jacques Chirac. He was President of the political party Union for a Popular Movement (UMP) from 2002 to 2004 and mayor of Bordeaux from 1995 to 2004.', 'There are three living former French presidents:', 'He was elected to the French Academy of Sciences the 18th of November 2003.', \"Michèle Victory (born 1958) is a French politician for the Socialist Party and a member of the French National Assembly for Ardèche's 2nd constituency. She was first a substitute candidate in 2007 and became a member of the assembly in December 2017.\", 'In the 2004 and 2008 elections, he won in Montmorency—Charlevoix—Haute-Côte-Nord before being defeated in the 2011 federal election. A lawyer, he has served as the Bloc critic of Parliamentary Affairs, Transport and to the Auditor General.', 'Kennedy won the election.', 'He lost the mayor of Chaumont at the French municipal elections of 1995.', 'He was elected as President of Burkina Faso in the November 2015 general election, winning a majority in the first round of voting.', 'He served in the French National Assembly from 1956-1959.']\n"
     ]
    }
   ],
   "source": [
    "queries=[\"who smacks Chris Rock?\",\"Which is your axe?\",\"Who won the election of French president?\"]\n",
    "\n",
    "for query in queries:\n",
    "    cross_encoder_output = rerank(cross_encoder, query, bi_encoder_output)\n",
    "    print(\"\\n\\n======================\\n\\n\")\n",
    "    print(\"Query:\", query)\n",
    "    print(cross_encoder_output)"
   ]
  },
  {
   "cell_type": "markdown",
   "metadata": {
    "id": "opg85SHH0OLn"
   },
   "source": [
    "## Task 3. Build a QA pipeline (0.5 points)\n",
    "\n",
    "Now, we are ready to build the final QA system.\n",
    "\n",
    "First, let's load the QA pipeline from `transformers`. It takes the question and the context as inputs and produces the answer and its score. More info here: https://huggingface.co/docs/transformers/v4.18.0/en/task_summary#extractive-question-answering."
   ]
  },
  {
   "cell_type": "code",
   "execution_count": 12,
   "metadata": {
    "id": "djfEerl65Y5Z"
   },
   "outputs": [
    {
     "name": "stderr",
     "output_type": "stream",
     "text": [
      "No model was supplied, defaulted to distilbert-base-cased-distilled-squad (https://huggingface.co/distilbert-base-cased-distilled-squad)\n"
     ]
    }
   ],
   "source": [
    "from transformers import pipeline\n",
    "\n",
    "qa_model = pipeline(\"question-answering\")"
   ]
  },
  {
   "cell_type": "markdown",
   "metadata": {
    "id": "1WETmsjo0-MA"
   },
   "source": [
    "First, build a function that will first retrieve top-10 similar passages with BM25 algorithm and then predicts the answer and the score for each of them using the `qa_model`. The score of the final answer is the average score produced by the retriever and reader."
   ]
  },
  {
   "cell_type": "code",
   "execution_count": 25,
   "metadata": {
    "id": "OxIbAmnP1ky3"
   },
   "outputs": [
    {
     "data": {
      "text/plain": [
       "\"Answer: 'Truman', score: 0.9813, start: 0, end: 6\""
      ]
     },
     "execution_count": 25,
     "metadata": {},
     "output_type": "execute_result"
    }
   ],
   "source": [
    "### YOUR CODE HERE\n",
    "question=\"who smacks Chris Rock?\"\n",
    "def mb25_qa_pipeline(question,top_k=10):\n",
    "    bm25_context=bm25_retriever(bm25, query,top_k=10)\n",
    "    result = qa_model(question=question, context=bm25_context[0])\n",
    "    return f\"Answer: '{result['answer']}', score: {round(result['score'], 4)}, start: {result['start']}, end: {result['end']}\"\n",
    "\n",
    "mb25_qa_pipeline(question)"
   ]
  },
  {
   "cell_type": "markdown",
   "metadata": {
    "id": "36QqQl-01mal"
   },
   "source": [
    "Then, do the same but this time use the Bi-Encoder as the retriever."
   ]
  },
  {
   "cell_type": "code",
   "execution_count": 26,
   "metadata": {
    "id": "-rW82SpS1uo6"
   },
   "outputs": [
    {
     "data": {
      "text/plain": [
       "\"Answer: 'Robert Jens Rock', score: 0.5509, start: 1056, end: 1072\""
      ]
     },
     "execution_count": 26,
     "metadata": {},
     "output_type": "execute_result"
    }
   ],
   "source": [
    "### YOUR CODE HERE\n",
    "question=\"who smacks Chris Rock?\"\n",
    "def bi_encoder_qa_pipeline(question,top_k=10):\n",
    "    bi_encoder_output=bi_encoder_retriever(bi_encoder, question, corpus_embeddings,top_k=10)\n",
    "    bi_encoder_context=' '.join(context for context in bi_encoder_output)\n",
    "    result = qa_model(question=question, context=bi_encoder_context)\n",
    "    return f\"Answer: '{result['answer']}', score: {round(result['score'], 4)}, start: {result['start']}, end: {result['end']}\"\n",
    "\n",
    "bi_encoder_qa_pipeline(question)"
   ]
  },
  {
   "cell_type": "markdown",
   "metadata": {
    "id": "uv_T8r9S1w9O"
   },
   "source": [
    "Finally, do the same as above but this time use the re-ranked passages from the Cross Encoder as the retriever."
   ]
  },
  {
   "cell_type": "code",
   "execution_count": 27,
   "metadata": {
    "id": "g4vsxmrf2ANm"
   },
   "outputs": [
    {
     "data": {
      "text/plain": [
       "\"Answer: 'Christopher James Hardman', score: 0.7294, start: 444, end: 469\""
      ]
     },
     "execution_count": 27,
     "metadata": {},
     "output_type": "execute_result"
    }
   ],
   "source": [
    "### YOUR CODE HERE\n",
    "question=\"who smacks Chris Rock?\"\n",
    "\n",
    "def cross_encoder_qa_pipeline(question,top_k=10):\n",
    "    bi_encoder_output=bi_encoder_retriever(bi_encoder, question, corpus_embeddings,top_k=10)\n",
    "    cross_encoder_context=rerank(cross_encoder, question, bi_encoder_output)\n",
    "    cross_encoder_context=' '.join(context for context in cross_encoder_context)\n",
    "    result = qa_model(question=question, context=cross_encoder_context)\n",
    "    return f\"Answer: '{result['answer']}', score: {round(result['score'], 4)}, start: {result['start']}, end: {result['end']}\"\n",
    "\n",
    "cross_encoder_qa_pipeline(question)"
   ]
  },
  {
   "cell_type": "markdown",
   "metadata": {
    "id": "wLVhJEWR2GyH"
   },
   "source": [
    "Try to answer different questions with all three systems and compare the answers. Which system is the most accurate?"
   ]
  },
  {
   "cell_type": "code",
   "execution_count": 31,
   "metadata": {
    "id": "X8bHS5-g2UW5"
   },
   "outputs": [
    {
     "name": "stdout",
     "output_type": "stream",
     "text": [
      "\n",
      "\n",
      "======================\n",
      "\n",
      "\n",
      "Query: who smacks Chris Rock?\n",
      "BM25 algorithm: Answer: 'Seminole bats', score: 0.3605, start: 0, end: 13\n",
      "Bi-Encoder    : Answer: 'Robert Jens Rock', score: 0.5509, start: 1056, end: 1072\n",
      "Cross Encoder : Answer: 'Christopher James Hardman', score: 0.7294, start: 444, end: 469\n",
      "\n",
      "\n",
      "======================\n",
      "\n",
      "\n",
      "Query: Which is your axe?\n",
      "BM25 algorithm: Answer: 'Seminole bats are insectivores', score: 0.0217, start: 0, end: 30\n",
      "Bi-Encoder    : Answer: 'battle-axe', score: 0.4455, start: 78, end: 88\n",
      "Cross Encoder : Answer: 'Arkalochori Axe', score: 0.7956, start: 979, end: 994\n",
      "\n",
      "\n",
      "======================\n",
      "\n",
      "\n",
      "Query: Who won the election of French president?\n",
      "BM25 algorithm: Answer: 'Truman', score: 0.995, start: 0, end: 6\n",
      "Bi-Encoder    : Answer: 'Nicolas Sarkozy', score: 0.8434, start: 1546, end: 1561\n",
      "Cross Encoder : Answer: 'François Hollande', score: 0.3893, start: 134, end: 151\n"
     ]
    }
   ],
   "source": [
    "### YOUR CODE HERE\n",
    "queries=[\"who smacks Chris Rock?\",\"Which is your axe?\",\"Who won the election of French president?\"]\n",
    "\n",
    "for query in queries:\n",
    "    print(\"\\n\\n======================\\n\\n\")\n",
    "    print(\"Query:\", query)\n",
    "    print(\"BM25 algorithm:\", mb25_qa_pipeline(query))\n",
    "    print(\"Bi-Encoder    :\", bi_encoder_qa_pipeline(query))\n",
    "    print(\"Cross Encoder :\", cross_encoder_qa_pipeline(query))\n"
   ]
  },
  {
   "cell_type": "markdown",
   "metadata": {},
   "source": [
    "**(A) :** According to result above, Cross Encoder has a good score, but in the last question has worst result."
   ]
  },
  {
   "cell_type": "code",
   "execution_count": null,
   "metadata": {},
   "outputs": [],
   "source": []
  }
 ],
 "metadata": {
  "accelerator": "GPU",
  "colab": {
   "collapsed_sections": [],
   "name": "Homework 10 Release.ipynb",
   "provenance": []
  },
  "kernelspec": {
   "display_name": "venv_nlp",
   "language": "python",
   "name": "venv_nlp"
  },
  "language_info": {
   "codemirror_mode": {
    "name": "ipython",
    "version": 3
   },
   "file_extension": ".py",
   "mimetype": "text/x-python",
   "name": "python",
   "nbconvert_exporter": "python",
   "pygments_lexer": "ipython3",
   "version": "3.8.11"
  }
 },
 "nbformat": 4,
 "nbformat_minor": 4
}
