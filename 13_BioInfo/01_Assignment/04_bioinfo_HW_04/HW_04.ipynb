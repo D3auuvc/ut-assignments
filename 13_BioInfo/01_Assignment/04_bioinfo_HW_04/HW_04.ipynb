{
 "cells": [
  {
   "cell_type": "markdown",
   "metadata": {},
   "source": [
    "# Bioinformatics (MTAT.03.239)\n",
    "# Assignment 4\n",
    "\n",
    "Student: ChengHan Chung\n",
    "\n",
    "----"
   ]
  },
  {
   "cell_type": "markdown",
   "metadata": {},
   "source": [
    "## Task 1: Understanding the VCF file format (2 points)\n",
    "\n",
    "1. Start an interactive slurm job with srun `--pty bash`. This way you can run the following commands interactively on one of the HPC comupte nodes without submitting them as slurm jobs with sbatch.\n",
    "2. Extract the genotypes of the rs4988235 genetic variant from the the VCF file. One way to do this is to use the bcftools command line utility: `module load bcftools-1.9` `bcftools view -r <chr>:<position> <path_to_vcf_file>`\n",
    "\n",
    "    **(A) :** The result of extracting the genotypes of the **rs4988235** genetic variant whcih located on chromosome 2 on position 135851076, please check the file `output.txt`.\n",
    "\n",
    "3. Convert the genotypes from the numerical representation in the VCF file to reference and alternative alleles (AA, AG, or GG).\n",
    "\n",
    "    **(A) :** The result of converting the label of genotypes, please check following `code`.\n",
    "\n",
    "4. Count the frequencies of the AA, AG and GG genotypes in each of the 5 populations and make a table or a barplot. You can find which sample belongs to which population from the ´GEUVADIS_populations.tsv´ text file located in the same folder with the VCF file in the HPC. You can ignore the one individual (NA19171) with missing population information. Which population has the largest fraction of people who are likely to be able to drink milk? Which one has the lowest?\n",
    "\n",
    "    **(A) :** The result of plot:\n",
    "\n",
    "    ![](imgs/ex1_01.png)\n",
    "\n",
    "    Accoding to the plot shown as above, the people from CEPH has the largest fraction (92.13%), who are likely to be able to drink milk. and the people from Yoruba has lowest rate (0%).\n",
    "\n",
    "    ![](imgs/ex1_02.png)"
   ]
  },
  {
   "cell_type": "code",
   "execution_count": 14,
   "metadata": {},
   "outputs": [
    {
     "name": "stdout",
     "output_type": "stream",
     "text": [
      "         AA  GG  AG\n",
      "Tuscan    2  76  13\n",
      "CEPH     47   7  35\n",
      "Finnish  30  13  49\n",
      "British  45   8  33\n",
      "Yoruba    0  86   0\n",
      "NaN       0   1   0\n"
     ]
    },
    {
     "data": {
      "text/plain": [
       "<AxesSubplot:>"
      ]
     },
     "execution_count": 14,
     "metadata": {},
     "output_type": "execute_result"
    },
    {
     "data": {
      "image/png": "[encoded data removed]",
      "text/plain": [
       "<Figure size 432x288 with 1 Axes>"
      ]
     },
     "metadata": {
      "needs_background": "light"
     },
     "output_type": "display_data"
    }
   ],
   "source": [
    "import pandas as pd\n",
    "\n",
    "_GEUVADIS_POPULATIONS_FILE = r'GEUVADIS_populations.tsv'\n",
    "_GENOTYPE_FILE = r'output.txt'\n",
    "\n",
    "# G:0, A:1\n",
    "genotpte_dic = {'1|0': 'AG', '1|1': 'AA', '0|0': 'GG', '0|1': 'AG'}\n",
    "genotptes = []\n",
    "genotptes_cnt_dic = {}\n",
    "geno_map_dic = {}\n",
    "geno_lst = []\n",
    "population_lst = []\n",
    "\n",
    "populations_df = pd.read_csv(_GEUVADIS_POPULATIONS_FILE, sep='\\t')\n",
    "\n",
    "with open(_GENOTYPE_FILE) as f:\n",
    "    data = f.readlines()\n",
    "\n",
    "\n",
    "geno_lst = data[-1][:-1]\n",
    "geno_lst = geno_lst.split('\\t')\n",
    "\n",
    "population_lst = data[-2][:-1]\n",
    "population_lst = population_lst.split('\\t')\n",
    "\n",
    "for i in range(len(geno_lst)):\n",
    "    geno_map_dic[population_lst[i]] = geno_lst[i]\n",
    "\n",
    "for key, value in geno_map_dic.items():\n",
    "    if value not in genotpte_dic.keys():\n",
    "        continue\n",
    "    else:\n",
    "        try:\n",
    "            population_name = populations_df.loc[populations_df['genotype_id']\n",
    "                                                 == key]['population_name'].values[0]\n",
    "            genotptes_cnt_dic[population_name][genotpte_dic[value]] += 1\n",
    "        except KeyError:\n",
    "            genotptes_cnt_dic[population_name] = {'AA': 0, 'GG': 0, 'AG': 0}\n",
    "            genotptes_cnt_dic[population_name][genotpte_dic[value]] = 1\n",
    "\n",
    "# create data\n",
    "df = pd.DataFrame(genotptes_cnt_dic.values(),\n",
    "                  columns=['AA', 'GG', 'AG'],\n",
    "                  index=genotptes_cnt_dic.keys())\n",
    "# view data\n",
    "print(df)\n",
    "\n",
    "# plot grouped bar chart\n",
    "df.plot(kind='bar',\n",
    "        stacked=False)"
   ]
  },
  {
   "cell_type": "markdown",
   "metadata": {},
   "source": [
    "## Task 2: Characterising population structure using PCA (1.5 points)\n",
    "\n",
    "1. Perform PCA on the GEUVADIS genotype dataset using the QTLtools command described above. This will create a text file containing the principal component loadings for each sample in the VCF file.\n",
    "\n",
    "    **(A) :** The execution shown as following below:\n",
    "    ![](imgs/ex2_01.png)\n",
    "    ![](imgs/ex2_02.png)\n",
    "\n",
    "\n",
    "2. Import the principal components file into R (or Python) and make scatter plot of the first two principal components. Colour the samples according to their population_code in the GEUVADIS_populations.tsv. Can you see a clear separation between European and African populations?\n",
    "    \n",
    "    **(A) :** The plot shown as following below, there is a clear separation between European(red dot) and African(green dot) populations\n",
    "    \n",
    "    ![](imgs/ex2_03.png)\n",
    "\n",
    "3. One of the samples (NA19171) in the GEUVADIS_populations.tsv file was missing the population information. Based on the PCA plot, can you predict the population from which the sample comes from?\n",
    "\n",
    "    **(A) :** Yes, according to the plot, the missing data(blue dot) is close to African(green dot), therefore, the missing data comes from `African`."
   ]
  },
  {
   "cell_type": "code",
   "execution_count": 115,
   "metadata": {},
   "outputs": [
    {
     "data": {
      "image/png": "[encoded data removed]",
      "text/plain": [
       "<Figure size 432x288 with 1 Axes>"
      ]
     },
     "metadata": {
      "needs_background": "light"
     },
     "output_type": "display_data"
    }
   ],
   "source": [
    "import numpy as np\n",
    "from matplotlib import pyplot as plt\n",
    "\n",
    "_GEUVADIS_PCA_FILE = r'GEUVADIS_pca.pca'\n",
    "\n",
    "pca_df = pd.read_csv(_GEUVADIS_PCA_FILE, sep=\" \")\n",
    "\n",
    "pc1 = pca_df.loc[0][1:]\n",
    "pc2 = pca_df.loc[1][1:]\n",
    "\n",
    "pc1_lst = [[key, value] for key, value in pc1.items()]\n",
    "pc2_lst = [[key, value] for key, value in pc2.items()]\n",
    "\n",
    "for i in range(len(pc1_lst)):\n",
    "    pc1_lst[i][0] = populations_df.loc[populations_df['genotype_id']\n",
    "                                       == pc1_lst[i][0]]['superpopulation_code'].values[0]\n",
    "    pc2_lst[i][0] = populations_df.loc[populations_df['genotype_id']\n",
    "                                       == pc2_lst[i][0]]['superpopulation_code'].values[0]\n",
    "x = [value[1] for value in pc1_lst]\n",
    "y = [value[1] for value in pc2_lst]\n",
    "labels = [value[0] for value in pc1_lst]\n",
    "pca_df = pd.DataFrame(data={'superpopulation_code': labels,\n",
    "                      'x': x,\n",
    "                            'y': y})\n",
    "\n",
    "label_color = {'EUR': 'red', 'AFR': 'green', np.nan: 'blue'}\n",
    "\n",
    "\n",
    "plt.scatter(pca_df['x'], pca_df['y'],\n",
    "            c=pca_df['superpopulation_code'].map(label_color))\n",
    "plt.xlabel('PCA 1')\n",
    "plt.ylabel('PCA 2')\n",
    "plt.show()"
   ]
  },
  {
   "cell_type": "markdown",
   "metadata": {},
   "source": [
    "## Task 3: Matching RNA-seq samples to individuals in the VCF file (1.5 points)\n",
    "\n",
    "1. Describe in your own words in 4-5 sentences how the QTLtools mbv method works and how it can be used to detect matches between genotyped individuals and sequencing reads from RNA-seq experiment. I strongly recommend you to read the QTLtools mbv publication and Supplementary Information on the journal website.\n",
    "2. Once you have run QTLtools mbv, import the results into R (or Python) and make a scatter plot where on one axis you have the fraction of concordant heterozygous sites (n_het_consistent/n_het_covered from output file) and on the other axis you have the fraction of concordant homozygous sites (n_hom_consistent/n_hom_covered). Note that you need to calculate these ratios yourself as described above. Based on this plot, are you able to determine which individual is likely to correspond the ERR188146 RNA-seq sample?"
   ]
  }
 ],
 "metadata": {
  "interpreter": {
   "hash": "916dbcbb3f70747c44a77c7bcd40155683ae19c65e1c03b4aa3499c5328201f1"
  },
  "kernelspec": {
   "display_name": "Python 3 (ipykernel)",
   "language": "python",
   "name": "python3"
  },
  "language_info": {
   "codemirror_mode": {
    "name": "ipython",
    "version": 3
   },
   "file_extension": ".py",
   "mimetype": "text/x-python",
   "name": "python",
   "nbconvert_exporter": "python",
   "pygments_lexer": "ipython3",
   "version": "3.9.7"
  }
 },
 "nbformat": 4,
 "nbformat_minor": 2
}
