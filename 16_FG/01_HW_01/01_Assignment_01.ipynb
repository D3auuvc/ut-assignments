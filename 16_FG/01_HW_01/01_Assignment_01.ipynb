{
 "cells": [
  {
   "cell_type": "markdown",
   "metadata": {},
   "source": [
    "# Fuzzy Logic and Soft Computing (LTAT.02.005)\n",
    "# ASSIGNMENT 1\n",
    "Student: ChengHan Chung\n",
    "\n",
    "----------"
   ]
  },
  {
   "cell_type": "markdown",
   "metadata": {},
   "source": [
    "1. Consider the fuzzy set of high speeds for racing cars. \n",
    "\n",
    "    a. Model it properly, by plotting the membership function and commenting on your choice (2 points). \n",
    "\n",
    "    **(A) :** We have a Fuzzy set $A = [0,300]$, the min speed is `0`, and max speed is `300`. If spped is lower than 220, then the $\\mu = 0$. If speed is greater than 220 but lower than 245, the $\\mu = \\frac{1}{2} (\\frac{x-220}{25})^2$. If the speed is greater than 245, then the $\\mu = 1$. The `membership function` $\\mu_A(X)$ shown as below:\n",
    "\n",
    "    $$\\mu_A(x) = \n",
    "    \\begin{cases}\n",
    "    0,& X \\le 220 \\\\\n",
    "    \\frac{1}{2} (\\frac{x-220}{25})^2,& 220 < x \\le 245 \\\\\n",
    "    1,& x > 245\n",
    "    \\end{cases}\n",
    "    $$\n",
    "\n",
    "    ![](imgs/hs.png)\n",
    "\n",
    "    b. Determine the support, core and height of the fuzzy set above (2 points). \n",
    "\n",
    "    **(A) :**\n",
    "\n",
    "    **Support** is the set of $\\mu > 0$, therefore, the $support = \\{(220,300] \\}$.\n",
    "\n",
    "    **Core** is the set of $\\mu = 1$, hence, the $core = \\{(245,300] \\}$.\n",
    "\n",
    "    **Heigh** is the max value of $\\mu$, so the heigh $h(A) = max_{x \\in X} A(x) = 1$.\n",
    "\n",
    "    c. Show and comment on the intersection of the fuzzy set above and the fuzzy set of non-high speeds (1 point).\n",
    "\n",
    "    **(A) :**\n",
    "    Assume we have the fuzzy set of high speeds $A$ and non-high speeds $B$ (complement of high speeds), the intersection of both fuzzy set is:\n",
    "\n",
    "    $D = A \\cap B$, $\\mu_D(x) = min\\{ \\mu_A(x),\\mu_B(x) \\}, x \\in X$\n",
    "\n",
    "    ,Hence:\n",
    "\n",
    "    $$\n",
    "    min\\{ \\chi_A(x),\\chi_B(x) \\} \n",
    "    =\\begin{cases}\n",
    "    1,& if \\ x \\in A \\ and \\ x \\in B \\hspace{2.1cm}\\\\\n",
    "    0,& if \\ x \\notin A \\ or \\ x \\notin B\n",
    "    \\end{cases}\\\\\n",
    "    =\\begin{cases}\n",
    "    1,& if \\ x \\in A \\cap B \\\\\n",
    "    0,& if \\ x \\notin A \\cap B\n",
    "    \\end{cases} \\\\\n",
    "    = \\ \\ \\chi_{A \\cap B}(x), \\ \\ \\ x \\in X\n",
    "    $$\n",
    "\n",
    "    The intersection of high speeds $A$ and non-high speeds $B$ shown as following below(red area):\n",
    "\n",
    "    ![](imgs/inters.png)"
   ]
  },
  {
   "cell_type": "code",
   "execution_count": 11,
   "metadata": {},
   "outputs": [],
   "source": [
    "import matplotlib.pyplot as plt"
   ]
  },
  {
   "cell_type": "code",
   "execution_count": 12,
   "metadata": {},
   "outputs": [
    {
     "data": {
      "image/png": "[encoded data removed]",
      "text/plain": [
       "<Figure size 432x288 with 1 Axes>"
      ]
     },
     "metadata": {
      "needs_background": "light"
     },
     "output_type": "display_data"
    }
   ],
   "source": [
    "# Create a speed list in a range of 0-300\n",
    "speed_set = [*range(0, 301, 1)]\n",
    "fuggy_set = []\n",
    "for speed in speed_set:\n",
    "    if speed <= 220:\n",
    "        fuggy_set.append(0)\n",
    "    elif 220 < speed <= 245:\n",
    "        fuggy_set.append(0.5*(((speed-220)/25)**2))\n",
    "    else:\n",
    "        fuggy_set.append(1)\n",
    "\n",
    "intersection_set = [(1-fs) for fs in fuggy_set]\n",
    "\n",
    "plt.plot(fuggy_set,label=\"High-Speeds\")\n",
    "plt.plot(intersection_set,label='Non-High Speeds')\n",
    "\n",
    "plt.ylabel('Degree of Membership')\n",
    "plt.xlabel('Speed (km/hr)')\n",
    "plt.legend()\n",
    "plt.show()"
   ]
  },
  {
   "cell_type": "markdown",
   "metadata": {},
   "source": [
    "2.  Write a pseudocode for the addition of two finite fuzzy numbers by the Extension principle (6 points). Note: in case you prefer it, the pseudocode can be replaced by a Scilab code. \n",
    "\n",
    "    **(A) :**\n",
    "\n",
    "\n",
    "    ```\n",
    "    A1[(mu_x1i,x1_i)] ← Fuzzy Numbers\n",
    "    A2[(mu_x2i,x2_i)] ← Fuzzy Numbers\n",
    "\n",
    "    TWO_FUZZY_NUMBERS_ADDITION(y,A1,A2):\n",
    "        B[] ← Fuzzy Set\n",
    "        for i range(len(A1)) do\n",
    "            if A1[i].mu_x1i == 0 then\n",
    "                skip\n",
    "            end if\n",
    "            for j range(len(A2)) do\n",
    "                if A2[j].mu_x2i == 0 then\n",
    "                    skip\n",
    "                end if\n",
    "                if (A1[i].x1_i + A2[j].x2_i) == y then\n",
    "                    B.append(MIN(A1[i].mu_x1i,A2[j].mu_x2i))\n",
    "                end if\n",
    "            end for\n",
    "        end for\n",
    "\n",
    "        return MAX(B)\n",
    "    ```"
   ]
  },
  {
   "cell_type": "markdown",
   "metadata": {},
   "source": [
    "3. Show an example of a set-relation composition with a finite fuzzy set representing *medium* and a fuzzy relation *much smaller than*. Elaborate on the outcome (see also section 3.2.1 textbook). You can use the code shared in Practice 3 to get the numerical result (3 points).\n",
    "\n",
    "    **(A) :** Assume we have a fuzzy set $A$ representing *medium* and a fuzzy relation $B$ *much smaller than*. and the prrduct of result is shown as following below:\n",
    "\n",
    "    $$\n",
    "    A = \\begin{bmatrix} \n",
    "    .1 & .2 & .3 \\\\ \n",
    "    .4 & .5 & .6 \\\\ \n",
    "    \\end{bmatrix}\\\\\n",
    "    B = \\begin{bmatrix}\n",
    "    .7 & .8 & .9 \\\\ \n",
    "    .1 & .2 & .3 \\\\ \n",
    "    .4 & .5 & .6 \\\\\n",
    "    \\end{bmatrix}\\\\\n",
    "    $$\n",
    "\n",
    "    ```\n",
    "    function C = max_min(A, B)\n",
    "    //this function returns the max-min composition of given matrices.\n",
    "\n",
    "    [m,n] = size(A);\n",
    "    [p,q] = size(B);\n",
    "    if (n ~= p) error('The matrices have incompatible sizes.'); end\n",
    "\n",
    "    C = zeros(m,q);\n",
    "    for i = 1:m\n",
    "    \tfor j = 1:q\n",
    "    \t\t\t\ttm= min(A(i, :), B(:, j)');\n",
    "    \t\t\tC(i,j) = max(tm);\n",
    "    \t\tend\n",
    "    \tend\n",
    "    endfunction\n",
    "    ```\n",
    "\n",
    "    ![](imgs/relation.png)"
   ]
  }
 ],
 "metadata": {
  "interpreter": {
   "hash": "916dbcbb3f70747c44a77c7bcd40155683ae19c65e1c03b4aa3499c5328201f1"
  },
  "kernelspec": {
   "display_name": "Python 3 (ipykernel)",
   "language": "python",
   "name": "python3"
  },
  "language_info": {
   "codemirror_mode": {
    "name": "ipython",
    "version": 3
   },
   "file_extension": ".py",
   "mimetype": "text/x-python",
   "name": "python",
   "nbconvert_exporter": "python",
   "pygments_lexer": "ipython3",
   "version": "3.9.7"
  }
 },
 "nbformat": 4,
 "nbformat_minor": 2
}
