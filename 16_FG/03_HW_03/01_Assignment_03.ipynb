{
 "cells": [
  {
   "cell_type": "markdown",
   "metadata": {},
   "source": [
    "# Fuzzy Logic and Soft Computing (LTAT.02.005)\n",
    "# ASSIGNMENT 3\n",
    "Student: ChengHan Chung\n",
    "\n",
    "----------"
   ]
  },
  {
   "cell_type": "markdown",
   "metadata": {},
   "source": [
    "1. Consider the generalized modus ponens in your last homework. Create a Mamdani inference system reflecting it (by using the Scilab FLToolkit) (6 points). Show a numerical result and comment on it (2 points)."
   ]
  },
  {
   "cell_type": "markdown",
   "metadata": {},
   "source": [
    "2. By using GAs, tackle the minimization problem of the function below, with n=2 (5 points).\n",
    "\n",
    "![](imgs/03_ex2_01.png)"
   ]
  }
 ],
 "metadata": {
  "interpreter": {
   "hash": "84d8f144994c989513e65fe33ddf9efa7f8ee2750a3707b09b4712f9289b2357"
  },
  "kernelspec": {
   "display_name": "Python 3 (ipykernel)",
   "language": "python",
   "name": "python3"
  },
  "language_info": {
   "codemirror_mode": {
    "name": "ipython",
    "version": 3
   },
   "file_extension": ".py",
   "mimetype": "text/x-python",
   "name": "python",
   "nbconvert_exporter": "python",
   "pygments_lexer": "ipython3",
   "version": "3.9.7"
  }
 },
 "nbformat": 4,
 "nbformat_minor": 2
}
